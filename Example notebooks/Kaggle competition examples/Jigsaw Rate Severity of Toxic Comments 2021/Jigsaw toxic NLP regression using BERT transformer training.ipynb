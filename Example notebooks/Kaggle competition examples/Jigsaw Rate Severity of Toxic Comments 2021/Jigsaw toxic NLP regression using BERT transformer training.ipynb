{
 "cells": [
  {
   "cell_type": "code",
   "execution_count": 1,
   "id": "8970cd1c",
   "metadata": {
    "scrolled": false
   },
   "outputs": [
    {
     "name": "stderr",
     "output_type": "stream",
     "text": [
      "[nltk_data] Downloading package punkt to /home/thomas/nltk_data...\n",
      "[nltk_data]   Package punkt is already up-to-date!\n",
      "[nltk_data] Downloading package averaged_perceptron_tagger to\n",
      "[nltk_data]     /home/thomas/nltk_data...\n",
      "[nltk_data]   Package averaged_perceptron_tagger is already up-to-\n",
      "[nltk_data]       date!\n",
      "[nltk_data] Downloading package stopwords to /home/thomas/nltk_data...\n",
      "[nltk_data]   Package stopwords is already up-to-date!\n",
      "[nltk_data] Downloading package wordnet to /home/thomas/nltk_data...\n",
      "[nltk_data]   Package wordnet is already up-to-date!\n"
     ]
    }
   ],
   "source": [
    "import pandas as pd\n",
    "import numpy as np\n",
    "# load libraries\n",
    "import sys\n",
    "from e2eml.regression import regression_blueprints\n",
    "from e2eml.full_processing import postprocessing\n",
    "from sklearn.model_selection import train_test_split\n",
    "import gc"
   ]
  },
  {
   "cell_type": "code",
   "execution_count": 2,
   "id": "1a6f7493",
   "metadata": {},
   "outputs": [],
   "source": [
    "target = \"score\""
   ]
  },
  {
   "cell_type": "code",
   "execution_count": 3,
   "id": "4ddc5f62",
   "metadata": {},
   "outputs": [],
   "source": [
    "#comments = pd.read_csv(\"jigsaw_toxic_comments_to_score.csv\")\n",
    "#comments"
   ]
  },
  {
   "cell_type": "code",
   "execution_count": 4,
   "id": "39d6326f",
   "metadata": {},
   "outputs": [
    {
     "data": {
      "text/html": [
       "<div>\n",
       "<style scoped>\n",
       "    .dataframe tbody tr th:only-of-type {\n",
       "        vertical-align: middle;\n",
       "    }\n",
       "\n",
       "    .dataframe tbody tr th {\n",
       "        vertical-align: top;\n",
       "    }\n",
       "\n",
       "    .dataframe thead th {\n",
       "        text-align: right;\n",
       "    }\n",
       "</style>\n",
       "<table border=\"1\" class=\"dataframe\">\n",
       "  <thead>\n",
       "    <tr style=\"text-align: right;\">\n",
       "      <th></th>\n",
       "      <th>id</th>\n",
       "      <th>comment_text</th>\n",
       "      <th>toxic</th>\n",
       "      <th>severe_toxic</th>\n",
       "      <th>obscene</th>\n",
       "      <th>threat</th>\n",
       "      <th>insult</th>\n",
       "      <th>identity_hate</th>\n",
       "    </tr>\n",
       "  </thead>\n",
       "  <tbody>\n",
       "    <tr>\n",
       "      <th>0</th>\n",
       "      <td>0000997932d777bf</td>\n",
       "      <td>Explanation\\nWhy the edits made under my username Hardcore Metallica Fan were reverted? They weren't vandalisms, just closure on some GAs after I voted at New York Dolls FAC. And please don't remove the template from the talk page since I'm retired now.89.205.38.27</td>\n",
       "      <td>0</td>\n",
       "      <td>0</td>\n",
       "      <td>0</td>\n",
       "      <td>0</td>\n",
       "      <td>0</td>\n",
       "      <td>0</td>\n",
       "    </tr>\n",
       "    <tr>\n",
       "      <th>1</th>\n",
       "      <td>000103f0d9cfb60f</td>\n",
       "      <td>D'aww! He matches this background colour I'm seemingly stuck with. Thanks.  (talk) 21:51, January 11, 2016 (UTC)</td>\n",
       "      <td>0</td>\n",
       "      <td>0</td>\n",
       "      <td>0</td>\n",
       "      <td>0</td>\n",
       "      <td>0</td>\n",
       "      <td>0</td>\n",
       "    </tr>\n",
       "    <tr>\n",
       "      <th>2</th>\n",
       "      <td>000113f07ec002fd</td>\n",
       "      <td>Hey man, I'm really not trying to edit war. It's just that this guy is constantly removing relevant information and talking to me through edits instead of my talk page. He seems to care more about the formatting than the actual info.</td>\n",
       "      <td>0</td>\n",
       "      <td>0</td>\n",
       "      <td>0</td>\n",
       "      <td>0</td>\n",
       "      <td>0</td>\n",
       "      <td>0</td>\n",
       "    </tr>\n",
       "    <tr>\n",
       "      <th>3</th>\n",
       "      <td>0001b41b1c6bb37e</td>\n",
       "      <td>\"\\nMore\\nI can't make any real suggestions on improvement - I wondered if the section statistics should be later on, or a subsection of \"\"types of accidents\"\"  -I think the references may need tidying so that they are all in the exact same format ie date format etc. I can do that later on, if no-one else does first - if you have any preferences for formatting style on references or want to do it yourself please let me know.\\n\\nThere appears to be a backlog on articles for review so I guess there may be a delay until a reviewer turns up. It's listed in the relevant form eg Wikipedia:Good_article_nominations#Transport  \"</td>\n",
       "      <td>0</td>\n",
       "      <td>0</td>\n",
       "      <td>0</td>\n",
       "      <td>0</td>\n",
       "      <td>0</td>\n",
       "      <td>0</td>\n",
       "    </tr>\n",
       "    <tr>\n",
       "      <th>4</th>\n",
       "      <td>0001d958c54c6e35</td>\n",
       "      <td>You, sir, are my hero. Any chance you remember what page that's on?</td>\n",
       "      <td>0</td>\n",
       "      <td>0</td>\n",
       "      <td>0</td>\n",
       "      <td>0</td>\n",
       "      <td>0</td>\n",
       "      <td>0</td>\n",
       "    </tr>\n",
       "    <tr>\n",
       "      <th>...</th>\n",
       "      <td>...</td>\n",
       "      <td>...</td>\n",
       "      <td>...</td>\n",
       "      <td>...</td>\n",
       "      <td>...</td>\n",
       "      <td>...</td>\n",
       "      <td>...</td>\n",
       "      <td>...</td>\n",
       "    </tr>\n",
       "    <tr>\n",
       "      <th>159566</th>\n",
       "      <td>ffe987279560d7ff</td>\n",
       "      <td>\":::::And for the second time of asking, when your view completely contradicts the coverage in reliable sources, why should anyone care what you feel? You can't even give a consistent argument - is the opening only supposed to mention significant aspects, or the \"\"most significant\"\" ones?   \\n\\n\"</td>\n",
       "      <td>0</td>\n",
       "      <td>0</td>\n",
       "      <td>0</td>\n",
       "      <td>0</td>\n",
       "      <td>0</td>\n",
       "      <td>0</td>\n",
       "    </tr>\n",
       "    <tr>\n",
       "      <th>159567</th>\n",
       "      <td>ffea4adeee384e90</td>\n",
       "      <td>You should be ashamed of yourself \\n\\nThat is a horrible thing you put on my talk page.  128.61.19.93</td>\n",
       "      <td>0</td>\n",
       "      <td>0</td>\n",
       "      <td>0</td>\n",
       "      <td>0</td>\n",
       "      <td>0</td>\n",
       "      <td>0</td>\n",
       "    </tr>\n",
       "    <tr>\n",
       "      <th>159568</th>\n",
       "      <td>ffee36eab5c267c9</td>\n",
       "      <td>Spitzer \\n\\nUmm, theres no actual article for prostitution ring.  - Crunch Captain.</td>\n",
       "      <td>0</td>\n",
       "      <td>0</td>\n",
       "      <td>0</td>\n",
       "      <td>0</td>\n",
       "      <td>0</td>\n",
       "      <td>0</td>\n",
       "    </tr>\n",
       "    <tr>\n",
       "      <th>159569</th>\n",
       "      <td>fff125370e4aaaf3</td>\n",
       "      <td>And it looks like it was actually you who put on the speedy to have the first version deleted now that I look at it.</td>\n",
       "      <td>0</td>\n",
       "      <td>0</td>\n",
       "      <td>0</td>\n",
       "      <td>0</td>\n",
       "      <td>0</td>\n",
       "      <td>0</td>\n",
       "    </tr>\n",
       "    <tr>\n",
       "      <th>159570</th>\n",
       "      <td>fff46fc426af1f9a</td>\n",
       "      <td>\"\\nAnd ... I really don't think you understand.  I came here and my idea was bad right away.  What kind of community goes \"\"you have bad ideas\"\" go away, instead of helping rewrite them.   \"</td>\n",
       "      <td>0</td>\n",
       "      <td>0</td>\n",
       "      <td>0</td>\n",
       "      <td>0</td>\n",
       "      <td>0</td>\n",
       "      <td>0</td>\n",
       "    </tr>\n",
       "  </tbody>\n",
       "</table>\n",
       "<p>159571 rows × 8 columns</p>\n",
       "</div>"
      ],
      "text/plain": [
       "                      id  \\\n",
       "0       0000997932d777bf   \n",
       "1       000103f0d9cfb60f   \n",
       "2       000113f07ec002fd   \n",
       "3       0001b41b1c6bb37e   \n",
       "4       0001d958c54c6e35   \n",
       "...                  ...   \n",
       "159566  ffe987279560d7ff   \n",
       "159567  ffea4adeee384e90   \n",
       "159568  ffee36eab5c267c9   \n",
       "159569  fff125370e4aaaf3   \n",
       "159570  fff46fc426af1f9a   \n",
       "\n",
       "                                                                                                                                                                                                                                                                                                                                                                                                                                                                                                                                                                                                                                              comment_text  \\\n",
       "0                                                                                                                                                                                                                                                                                                                                                                                Explanation\\nWhy the edits made under my username Hardcore Metallica Fan were reverted? They weren't vandalisms, just closure on some GAs after I voted at New York Dolls FAC. And please don't remove the template from the talk page since I'm retired now.89.205.38.27   \n",
       "1                                                                                                                                                                                                                                                                                                                                                                                                                                                                                                                                         D'aww! He matches this background colour I'm seemingly stuck with. Thanks.  (talk) 21:51, January 11, 2016 (UTC)   \n",
       "2                                                                                                                                                                                                                                                                                                                                                                                                                Hey man, I'm really not trying to edit war. It's just that this guy is constantly removing relevant information and talking to me through edits instead of my talk page. He seems to care more about the formatting than the actual info.   \n",
       "3       \"\\nMore\\nI can't make any real suggestions on improvement - I wondered if the section statistics should be later on, or a subsection of \"\"types of accidents\"\"  -I think the references may need tidying so that they are all in the exact same format ie date format etc. I can do that later on, if no-one else does first - if you have any preferences for formatting style on references or want to do it yourself please let me know.\\n\\nThere appears to be a backlog on articles for review so I guess there may be a delay until a reviewer turns up. It's listed in the relevant form eg Wikipedia:Good_article_nominations#Transport  \"   \n",
       "4                                                                                                                                                                                                                                                                                                                                                                                                                                                                                                                                                                                      You, sir, are my hero. Any chance you remember what page that's on?   \n",
       "...                                                                                                                                                                                                                                                                                                                                                                                                                                                                                                                                                                                                                                                    ...   \n",
       "159566                                                                                                                                                                                                                                                                                                                                           \":::::And for the second time of asking, when your view completely contradicts the coverage in reliable sources, why should anyone care what you feel? You can't even give a consistent argument - is the opening only supposed to mention significant aspects, or the \"\"most significant\"\" ones?   \\n\\n\"   \n",
       "159567                                                                                                                                                                                                                                                                                                                                                                                                                                                                                                                                               You should be ashamed of yourself \\n\\nThat is a horrible thing you put on my talk page.  128.61.19.93   \n",
       "159568                                                                                                                                                                                                                                                                                                                                                                                                                                                                                                                                                                 Spitzer \\n\\nUmm, theres no actual article for prostitution ring.  - Crunch Captain.   \n",
       "159569                                                                                                                                                                                                                                                                                                                                                                                                                                                                                                                                And it looks like it was actually you who put on the speedy to have the first version deleted now that I look at it.   \n",
       "159570                                                                                                                                                                                                                                                                                                                                                                                                                                                      \"\\nAnd ... I really don't think you understand.  I came here and my idea was bad right away.  What kind of community goes \"\"you have bad ideas\"\" go away, instead of helping rewrite them.   \"   \n",
       "\n",
       "        toxic  severe_toxic  obscene  threat  insult  identity_hate  \n",
       "0           0             0        0       0       0              0  \n",
       "1           0             0        0       0       0              0  \n",
       "2           0             0        0       0       0              0  \n",
       "3           0             0        0       0       0              0  \n",
       "4           0             0        0       0       0              0  \n",
       "...       ...           ...      ...     ...     ...            ...  \n",
       "159566      0             0        0       0       0              0  \n",
       "159567      0             0        0       0       0              0  \n",
       "159568      0             0        0       0       0              0  \n",
       "159569      0             0        0       0       0              0  \n",
       "159570      0             0        0       0       0              0  \n",
       "\n",
       "[159571 rows x 8 columns]"
      ]
     },
     "execution_count": 4,
     "metadata": {},
     "output_type": "execute_result"
    }
   ],
   "source": [
    "df_train = pd.read_csv(\"jigsaw_toxic_validation_data.csv\")\n",
    "df_train"
   ]
  },
  {
   "cell_type": "code",
   "execution_count": 5,
   "id": "62272d8d",
   "metadata": {},
   "outputs": [
    {
     "data": {
      "text/html": [
       "<div>\n",
       "<style scoped>\n",
       "    .dataframe tbody tr th:only-of-type {\n",
       "        vertical-align: middle;\n",
       "    }\n",
       "\n",
       "    .dataframe tbody tr th {\n",
       "        vertical-align: top;\n",
       "    }\n",
       "\n",
       "    .dataframe thead th {\n",
       "        text-align: right;\n",
       "    }\n",
       "</style>\n",
       "<table border=\"1\" class=\"dataframe\">\n",
       "  <thead>\n",
       "    <tr style=\"text-align: right;\">\n",
       "      <th></th>\n",
       "      <th>id</th>\n",
       "      <th>comment_text</th>\n",
       "      <th>toxic</th>\n",
       "      <th>severe_toxic</th>\n",
       "      <th>obscene</th>\n",
       "      <th>threat</th>\n",
       "      <th>insult</th>\n",
       "      <th>identity_hate</th>\n",
       "      <th>score</th>\n",
       "    </tr>\n",
       "  </thead>\n",
       "  <tbody>\n",
       "    <tr>\n",
       "      <th>6</th>\n",
       "      <td>0002bcb3da6cb337</td>\n",
       "      <td>COCKSUCKER BEFORE YOU PISS AROUND ON MY WORK</td>\n",
       "      <td>0.32</td>\n",
       "      <td>1.5</td>\n",
       "      <td>0.16</td>\n",
       "      <td>0.0</td>\n",
       "      <td>0.64</td>\n",
       "      <td>0.0</td>\n",
       "      <td>0.436667</td>\n",
       "    </tr>\n",
       "    <tr>\n",
       "      <th>12</th>\n",
       "      <td>0005c987bdfc9d4b</td>\n",
       "      <td>Hey... what is it..\\n@ | talk .\\nWhat is it... an exclusive group of some WP TALIBANS...who are good at destroying, self-appointed purist who GANG UP any one who asks them questions abt their ANTI-SOCIAL and DESTRUCTIVE (non)-contribution at WP?\\n\\nAsk Sityush to clean up his behavior than issue me nonsensical warnings...</td>\n",
       "      <td>0.32</td>\n",
       "      <td>0.0</td>\n",
       "      <td>0.00</td>\n",
       "      <td>0.0</td>\n",
       "      <td>0.00</td>\n",
       "      <td>0.0</td>\n",
       "      <td>0.053333</td>\n",
       "    </tr>\n",
       "    <tr>\n",
       "      <th>16</th>\n",
       "      <td>0007e25b2121310b</td>\n",
       "      <td>Bye! \\n\\nDon't look, come or think of comming back! Tosser.</td>\n",
       "      <td>0.32</td>\n",
       "      <td>0.0</td>\n",
       "      <td>0.00</td>\n",
       "      <td>0.0</td>\n",
       "      <td>0.00</td>\n",
       "      <td>0.0</td>\n",
       "      <td>0.053333</td>\n",
       "    </tr>\n",
       "    <tr>\n",
       "      <th>42</th>\n",
       "      <td>001810bf8c45bf5f</td>\n",
       "      <td>You are gay or antisemmitian? \\n\\nArchangel WHite Tiger\\n\\nMeow! Greetingshhh!\\n\\nUh, there are two ways, why you do erased my comment about WW2, that holocaust was brutally slaying of Jews and not gays/Gypsys/Slavs/anyone...\\n\\n1 - If you are anti-semitian, than shave your head bald and go to the skinhead meetings!\\n\\n2 - If you doubt words of the Bible, that homosexuality is a deadly sin, make a pentagram tatoo on your forehead go to the satanistic masses with your gay pals!\\n\\n3 - First and last warning, you fucking gay - I won't appreciate if any more nazi shwain would write in my page! I don't wish to talk to you anymore!\\n\\nBeware of the Dark Side!</td>\n",
       "      <td>0.32</td>\n",
       "      <td>0.0</td>\n",
       "      <td>0.16</td>\n",
       "      <td>0.0</td>\n",
       "      <td>0.64</td>\n",
       "      <td>1.5</td>\n",
       "      <td>0.436667</td>\n",
       "    </tr>\n",
       "    <tr>\n",
       "      <th>43</th>\n",
       "      <td>00190820581d90ce</td>\n",
       "      <td>FUCK YOUR FILTHY MOTHER IN THE ASS, DRY!</td>\n",
       "      <td>0.32</td>\n",
       "      <td>0.0</td>\n",
       "      <td>0.16</td>\n",
       "      <td>0.0</td>\n",
       "      <td>0.64</td>\n",
       "      <td>0.0</td>\n",
       "      <td>0.186667</td>\n",
       "    </tr>\n",
       "    <tr>\n",
       "      <th>...</th>\n",
       "      <td>...</td>\n",
       "      <td>...</td>\n",
       "      <td>...</td>\n",
       "      <td>...</td>\n",
       "      <td>...</td>\n",
       "      <td>...</td>\n",
       "      <td>...</td>\n",
       "      <td>...</td>\n",
       "      <td>...</td>\n",
       "    </tr>\n",
       "    <tr>\n",
       "      <th>137462</th>\n",
       "      <td>df957e1303ef8c68</td>\n",
       "      <td>\"\\n\\nRead more\\nYou can read more by going to anomtalk.com except with \"\"n\"\" instead of \"\"m\"\".\"</td>\n",
       "      <td>0.00</td>\n",
       "      <td>0.0</td>\n",
       "      <td>0.00</td>\n",
       "      <td>0.0</td>\n",
       "      <td>0.00</td>\n",
       "      <td>0.0</td>\n",
       "      <td>0.000000</td>\n",
       "    </tr>\n",
       "    <tr>\n",
       "      <th>82635</th>\n",
       "      <td>dd0b9714b24c3c66</td>\n",
       "      <td>Sounds like a deal. Thanks for hearing me out.</td>\n",
       "      <td>0.00</td>\n",
       "      <td>0.0</td>\n",
       "      <td>0.00</td>\n",
       "      <td>0.0</td>\n",
       "      <td>0.00</td>\n",
       "      <td>0.0</td>\n",
       "      <td>0.000000</td>\n",
       "    </tr>\n",
       "    <tr>\n",
       "      <th>149206</th>\n",
       "      <td>58e756534c67c8e7</td>\n",
       "      <td>Bone to pick \\n\\nWhat makes you the rulemaker on all things bears related?  Bad and Good go into articles.  Get a life and stay off wikipedia for a good month or two.  People like you are the reason that wikipedia is a joke.  Too much of your personal feelings goes into making sure nothing you don't agree with gets put into an article.  Last I checked your job wasn't encyclopedia writer, so let others ideas be put into articles.214.13.192.187</td>\n",
       "      <td>0.00</td>\n",
       "      <td>0.0</td>\n",
       "      <td>0.00</td>\n",
       "      <td>0.0</td>\n",
       "      <td>0.00</td>\n",
       "      <td>0.0</td>\n",
       "      <td>0.000000</td>\n",
       "    </tr>\n",
       "    <tr>\n",
       "      <th>87807</th>\n",
       "      <td>eade5e302541c3a9</td>\n",
       "      <td>\"\\n\\n Semi-vegetarianism section \\n\\nI like Flyer22's intention in that one's recent edits, though I find the particulars a little unclear. Here is my proposal for the section (  ):\\n===Semi-vegetarian diets===\\nSemi-vegetarian diets primarily consist of vegetarian foods, though occasional exceptions are made for some non-vegetarian foods, including fish, poultry and even red meat. These diets may be followed by those who choose to reduce the amount of animal flesh consumed as a way of transitioning to a vegetarian diet, or for health, environmental, or other reasons. The term \"\"semi-vegetarian\"\" is contested by most vegetarian groups, who believe that vegetarianism must exclude all animal flesh. Many individuals describe themselves as \"\"vegetarian\"\" while practicing a semi-vegetarian diet. Semi-vegetarian diets include: \\n Flexitarianism: A diet that consists primarily of vegetarian food, but includes occasional exceptions such as red meat.\\n Pescetarianism: A diet that is mainly ...</td>\n",
       "      <td>0.00</td>\n",
       "      <td>0.0</td>\n",
       "      <td>0.00</td>\n",
       "      <td>0.0</td>\n",
       "      <td>0.00</td>\n",
       "      <td>0.0</td>\n",
       "      <td>0.000000</td>\n",
       "    </tr>\n",
       "    <tr>\n",
       "      <th>150843</th>\n",
       "      <td>72f8dfe354056f62</td>\n",
       "      <td>that seems appropriate to me. major changes need to be suspended until consensus is reached.</td>\n",
       "      <td>0.00</td>\n",
       "      <td>0.0</td>\n",
       "      <td>0.00</td>\n",
       "      <td>0.0</td>\n",
       "      <td>0.00</td>\n",
       "      <td>0.0</td>\n",
       "      <td>0.000000</td>\n",
       "    </tr>\n",
       "  </tbody>\n",
       "</table>\n",
       "<p>32450 rows × 9 columns</p>\n",
       "</div>"
      ],
      "text/plain": [
       "                      id  \\\n",
       "6       0002bcb3da6cb337   \n",
       "12      0005c987bdfc9d4b   \n",
       "16      0007e25b2121310b   \n",
       "42      001810bf8c45bf5f   \n",
       "43      00190820581d90ce   \n",
       "...                  ...   \n",
       "137462  df957e1303ef8c68   \n",
       "82635   dd0b9714b24c3c66   \n",
       "149206  58e756534c67c8e7   \n",
       "87807   eade5e302541c3a9   \n",
       "150843  72f8dfe354056f62   \n",
       "\n",
       "                                                                                                                                                                                                                                                                                                                                                                                                                                                                                                                                                                                                                                                                                                                                                                                                                                                                                                                                                                                                                                   comment_text  \\\n",
       "6                                                                                                                                                                                                                                                                                                                                                                                                                                                                                                                                                                                                                                                                                                                                                                                                                                                                                                                                                                                                  COCKSUCKER BEFORE YOU PISS AROUND ON MY WORK   \n",
       "12                                                                                                                                                                                                                                                                                                                                                                                                                                                                                                                                                                                                                                                                                                          Hey... what is it..\\n@ | talk .\\nWhat is it... an exclusive group of some WP TALIBANS...who are good at destroying, self-appointed purist who GANG UP any one who asks them questions abt their ANTI-SOCIAL and DESTRUCTIVE (non)-contribution at WP?\\n\\nAsk Sityush to clean up his behavior than issue me nonsensical warnings...   \n",
       "16                                                                                                                                                                                                                                                                                                                                                                                                                                                                                                                                                                                                                                                                                                                                                                                                                                                                                                                                                                                  Bye! \\n\\nDon't look, come or think of comming back! Tosser.   \n",
       "42                                                                                                                                                                                                                                                                                                                                                       You are gay or antisemmitian? \\n\\nArchangel WHite Tiger\\n\\nMeow! Greetingshhh!\\n\\nUh, there are two ways, why you do erased my comment about WW2, that holocaust was brutally slaying of Jews and not gays/Gypsys/Slavs/anyone...\\n\\n1 - If you are anti-semitian, than shave your head bald and go to the skinhead meetings!\\n\\n2 - If you doubt words of the Bible, that homosexuality is a deadly sin, make a pentagram tatoo on your forehead go to the satanistic masses with your gay pals!\\n\\n3 - First and last warning, you fucking gay - I won't appreciate if any more nazi shwain would write in my page! I don't wish to talk to you anymore!\\n\\nBeware of the Dark Side!   \n",
       "43                                                                                                                                                                                                                                                                                                                                                                                                                                                                                                                                                                                                                                                                                                                                                                                                                                                                                                                                                                                                     FUCK YOUR FILTHY MOTHER IN THE ASS, DRY!   \n",
       "...                                                                                                                                                                                                                                                                                                                                                                                                                                                                                                                                                                                                                                                                                                                                                                                                                                                                                                                                                                                                                                         ...   \n",
       "137462                                                                                                                                                                                                                                                                                                                                                                                                                                                                                                                                                                                                                                                                                                                                                                                                                                                                                                                                          \"\\n\\nRead more\\nYou can read more by going to anomtalk.com except with \"\"n\"\" instead of \"\"m\"\".\"   \n",
       "82635                                                                                                                                                                                                                                                                                                                                                                                                                                                                                                                                                                                                                                                                                                                                                                                                                                                                                                                                                                                            Sounds like a deal. Thanks for hearing me out.   \n",
       "149206                                                                                                                                                                                                                                                                                                                                                                                                                                                                                                                                                                           Bone to pick \\n\\nWhat makes you the rulemaker on all things bears related?  Bad and Good go into articles.  Get a life and stay off wikipedia for a good month or two.  People like you are the reason that wikipedia is a joke.  Too much of your personal feelings goes into making sure nothing you don't agree with gets put into an article.  Last I checked your job wasn't encyclopedia writer, so let others ideas be put into articles.214.13.192.187   \n",
       "87807   \"\\n\\n Semi-vegetarianism section \\n\\nI like Flyer22's intention in that one's recent edits, though I find the particulars a little unclear. Here is my proposal for the section (  ):\\n===Semi-vegetarian diets===\\nSemi-vegetarian diets primarily consist of vegetarian foods, though occasional exceptions are made for some non-vegetarian foods, including fish, poultry and even red meat. These diets may be followed by those who choose to reduce the amount of animal flesh consumed as a way of transitioning to a vegetarian diet, or for health, environmental, or other reasons. The term \"\"semi-vegetarian\"\" is contested by most vegetarian groups, who believe that vegetarianism must exclude all animal flesh. Many individuals describe themselves as \"\"vegetarian\"\" while practicing a semi-vegetarian diet. Semi-vegetarian diets include: \\n Flexitarianism: A diet that consists primarily of vegetarian food, but includes occasional exceptions such as red meat.\\n Pescetarianism: A diet that is mainly ...   \n",
       "150843                                                                                                                                                                                                                                                                                                                                                                                                                                                                                                                                                                                                                                                                                                                                                                                                                                                                                                                                             that seems appropriate to me. major changes need to be suspended until consensus is reached.   \n",
       "\n",
       "        toxic  severe_toxic  obscene  threat  insult  identity_hate     score  \n",
       "6        0.32           1.5     0.16     0.0    0.64            0.0  0.436667  \n",
       "12       0.32           0.0     0.00     0.0    0.00            0.0  0.053333  \n",
       "16       0.32           0.0     0.00     0.0    0.00            0.0  0.053333  \n",
       "42       0.32           0.0     0.16     0.0    0.64            1.5  0.436667  \n",
       "43       0.32           0.0     0.16     0.0    0.64            0.0  0.186667  \n",
       "...       ...           ...      ...     ...     ...            ...       ...  \n",
       "137462   0.00           0.0     0.00     0.0    0.00            0.0  0.000000  \n",
       "82635    0.00           0.0     0.00     0.0    0.00            0.0  0.000000  \n",
       "149206   0.00           0.0     0.00     0.0    0.00            0.0  0.000000  \n",
       "87807    0.00           0.0     0.00     0.0    0.00            0.0  0.000000  \n",
       "150843   0.00           0.0     0.00     0.0    0.00            0.0  0.000000  \n",
       "\n",
       "[32450 rows x 9 columns]"
      ]
     },
     "execution_count": 5,
     "metadata": {},
     "output_type": "execute_result"
    }
   ],
   "source": [
    "cat_mtpl = {'obscene': 0.16, 'toxic': 0.32, 'threat': 1.5, \n",
    "            'insult': 0.64, 'severe_toxic': 1.5, 'identity_hate': 1.5}\n",
    "\n",
    "for category in cat_mtpl:\n",
    "    df_train[category] = df_train[category] * cat_mtpl[category]\n",
    "\n",
    "df_train['score'] = df_train.loc[:, 'toxic':'identity_hate'].mean(axis=1)\n",
    "\n",
    "min_len = (df_train['score'] > 0).sum()  # len of toxic comments\n",
    "df_y0_undersample = df_train[df_train['score'] == 0].sample(n=min_len, random_state=41)  # take non toxic comments\n",
    "df_train = pd.concat([df_train[df_train['score'] > 0], df_y0_undersample])  # make new df\n",
    "\n",
    "df_train"
   ]
  },
  {
   "cell_type": "code",
   "execution_count": 6,
   "id": "beda065e",
   "metadata": {},
   "outputs": [],
   "source": [
    "df_train = df_train.sample(frac=1, random_state=5000)\n",
    "train_df = df_train.head(30000).copy()\n",
    "val_df = df_train.tail(2000).copy()"
   ]
  },
  {
   "cell_type": "code",
   "execution_count": 7,
   "id": "6c386780",
   "metadata": {},
   "outputs": [
    {
     "data": {
      "text/html": [
       "<div>\n",
       "<style scoped>\n",
       "    .dataframe tbody tr th:only-of-type {\n",
       "        vertical-align: middle;\n",
       "    }\n",
       "\n",
       "    .dataframe tbody tr th {\n",
       "        vertical-align: top;\n",
       "    }\n",
       "\n",
       "    .dataframe thead th {\n",
       "        text-align: right;\n",
       "    }\n",
       "</style>\n",
       "<table border=\"1\" class=\"dataframe\">\n",
       "  <thead>\n",
       "    <tr style=\"text-align: right;\">\n",
       "      <th></th>\n",
       "      <th>id</th>\n",
       "      <th>comment_text</th>\n",
       "      <th>toxic</th>\n",
       "      <th>severe_toxic</th>\n",
       "      <th>obscene</th>\n",
       "      <th>threat</th>\n",
       "      <th>insult</th>\n",
       "      <th>identity_hate</th>\n",
       "    </tr>\n",
       "  </thead>\n",
       "  <tbody>\n",
       "    <tr>\n",
       "      <th>102316</th>\n",
       "      <td>237fc38cd7a5dcfb</td>\n",
       "      <td>A tag has been placed on Hillsboro Aviation, Inc., requesting that it be speedily deleted from Wikipedia. This has been done under the criteria for speedy deletion, because the article seems to be blatant advertising which only promotes a company, product, group or service and which would need to be fundamentally rewritten in order to become an encyclopedia article. Please read the general criteria for speedy deletion, particularly item 11, as well as the guidelines on spam. \\n\\nIf you can indicate why the subject of this article is not blatant advertising, you may contest the tagging. To do this, please add  on the top of the page and leave a note on the article's talk page explaining your position. Please do not remove the speedy deletion tag yourself, but don't hesitate to add information to the article that would help make it encyclopedic, as well as adding any citations from reliable sources to ensure that the article will be verifiable. Feel free to leave a note on my talk pa...</td>\n",
       "      <td>0.00</td>\n",
       "      <td>0.0</td>\n",
       "      <td>0.00</td>\n",
       "      <td>0.0</td>\n",
       "      <td>0.00</td>\n",
       "      <td>0.0</td>\n",
       "    </tr>\n",
       "    <tr>\n",
       "      <th>31494</th>\n",
       "      <td>53a352b1bb6f4ff9</td>\n",
       "      <td>I'm willing to take criticism for my edits, and I'm willing to back down if I'm wrong. My statement was in good faith, but it's also true that I made the statement on my own authority without citing a source. However, my statement was really no more weaselly than the statement it was intended to answer. So, I've reverted to my last version (because I have criticisms of ImpuMozhi's edits that I think are valid) but removed both of the weasel statements (because I concede that your criticism of some of my wording is valid). If you believe that I was impolite or uncivil to ImpuMozhi or anyone else, then please let me know what I did wrong so that I may tender my apology.</td>\n",
       "      <td>0.00</td>\n",
       "      <td>0.0</td>\n",
       "      <td>0.00</td>\n",
       "      <td>0.0</td>\n",
       "      <td>0.00</td>\n",
       "      <td>0.0</td>\n",
       "    </tr>\n",
       "    <tr>\n",
       "      <th>14360</th>\n",
       "      <td>25f225d975b6db01</td>\n",
       "      <td>\"\\n\\nYou are an open source patent buster. You attacked the Collins patents FIRST, right? I give you facts and you spew politics. I don't have to stand for that. You are being stupid. Stupidity destroys. You are one idiot of many. You are worthless. Apologize for that and I will for mine. But I still hate you. That is a solid fact. There is something wrong with people like you, but that's your problem.   \\n\\nAlso, unlike Hod Lipson's bigoted crazy comments on how \"\"legal immigrants doing all the work\"\" (meaning dirty work as he had referred to) you, Feitas, Merkle Roco (who RUNS the ENTIRE nano department at NSF and he's an X communist scientist!) are taking our GOOD jobs, in fact STEALING THEM as they were stolen from me and as they are stealing the Collins patent.   \\n\\n... Oh, and you said you came here \"\"15 years ago to do work that no American was able to do.\"\" What a pompous ass! You think you are BETTER than ANY American living here? Go to hell!   \"</td>\n",
       "      <td>0.32</td>\n",
       "      <td>0.0</td>\n",
       "      <td>0.00</td>\n",
       "      <td>0.0</td>\n",
       "      <td>0.00</td>\n",
       "      <td>0.0</td>\n",
       "    </tr>\n",
       "    <tr>\n",
       "      <th>15076</th>\n",
       "      <td>27db1e4dc8d4f306</td>\n",
       "      <td>Good. Your encouragement of those who did however was idiotic and self-centered. Too many self-centered arrogant people on this planet. Go away, your big ego is not more important than those people with social anxiety disorder who need help.</td>\n",
       "      <td>0.00</td>\n",
       "      <td>0.0</td>\n",
       "      <td>0.00</td>\n",
       "      <td>0.0</td>\n",
       "      <td>0.64</td>\n",
       "      <td>0.0</td>\n",
       "    </tr>\n",
       "    <tr>\n",
       "      <th>76092</th>\n",
       "      <td>cbaed4022a53000e</td>\n",
       "      <td>What is an moitheather no one knows but you a hoe so go eff a duck... )</td>\n",
       "      <td>0.32</td>\n",
       "      <td>0.0</td>\n",
       "      <td>0.16</td>\n",
       "      <td>0.0</td>\n",
       "      <td>0.64</td>\n",
       "      <td>0.0</td>\n",
       "    </tr>\n",
       "    <tr>\n",
       "      <th>...</th>\n",
       "      <td>...</td>\n",
       "      <td>...</td>\n",
       "      <td>...</td>\n",
       "      <td>...</td>\n",
       "      <td>...</td>\n",
       "      <td>...</td>\n",
       "      <td>...</td>\n",
       "      <td>...</td>\n",
       "    </tr>\n",
       "    <tr>\n",
       "      <th>120607</th>\n",
       "      <td>852589ee2f697076</td>\n",
       "      <td>COULD YOU JUST LISTEN TO ME FOR 5 SECONDS?!! I know you hate me, and I know you want to leave me alone, but it makes me sad that just for one minor edit, you just block me. I know that's what you have to do. By the way, this is NOT vandalism. Truth. I will leave you alone forever if you give me one more chance. PLEASE!</td>\n",
       "      <td>0.00</td>\n",
       "      <td>0.0</td>\n",
       "      <td>0.00</td>\n",
       "      <td>0.0</td>\n",
       "      <td>0.00</td>\n",
       "      <td>0.0</td>\n",
       "    </tr>\n",
       "    <tr>\n",
       "      <th>142797</th>\n",
       "      <td>fbac8e568e73e7e6</td>\n",
       "      <td>\"\\nThank you.  | Talk \"</td>\n",
       "      <td>0.00</td>\n",
       "      <td>0.0</td>\n",
       "      <td>0.00</td>\n",
       "      <td>0.0</td>\n",
       "      <td>0.00</td>\n",
       "      <td>0.0</td>\n",
       "    </tr>\n",
       "    <tr>\n",
       "      <th>32417</th>\n",
       "      <td>5640714285ce656c</td>\n",
       "      <td>\"\\n\\n Why LLD (Mont)? \\n\\nIn the infobox, Trudeau is titled \"\"LLD (Mont)\"\" which presumably means that he got his LLD from University of Montreal.  Is it standard for all Canadian LLDs to have their alma mater specified in parentheses?    \"</td>\n",
       "      <td>0.00</td>\n",
       "      <td>0.0</td>\n",
       "      <td>0.00</td>\n",
       "      <td>0.0</td>\n",
       "      <td>0.00</td>\n",
       "      <td>0.0</td>\n",
       "    </tr>\n",
       "    <tr>\n",
       "      <th>14590</th>\n",
       "      <td>2687391618b89683</td>\n",
       "      <td>WE ARE GOING TO MAKE SURE YOU ARE EXPOSED!! DROP YOUR RELATIONS WITH ANTI AMERICAN HATE GROUPS 'WE ARE GOING TO MAKE SURE YOU ARE EXPOSED!! DROP YOUR RELATIONS WITH ANTI AMERICAN HATE GROUPS</td>\n",
       "      <td>0.32</td>\n",
       "      <td>0.0</td>\n",
       "      <td>0.00</td>\n",
       "      <td>0.0</td>\n",
       "      <td>0.00</td>\n",
       "      <td>0.0</td>\n",
       "    </tr>\n",
       "    <tr>\n",
       "      <th>28722</th>\n",
       "      <td>4c158ceaf2925753</td>\n",
       "      <td>I certainly am not religious about it, but what about the states of northern Europe (which would still be Western), and England, and Scotland, and Wales? What about Spain, and Portugal? If you tell me it is most of the states, I believe you  I simply felt that it was not accurate.</td>\n",
       "      <td>0.00</td>\n",
       "      <td>0.0</td>\n",
       "      <td>0.00</td>\n",
       "      <td>0.0</td>\n",
       "      <td>0.00</td>\n",
       "      <td>0.0</td>\n",
       "    </tr>\n",
       "  </tbody>\n",
       "</table>\n",
       "<p>2000 rows × 8 columns</p>\n",
       "</div>"
      ],
      "text/plain": [
       "                      id  \\\n",
       "102316  237fc38cd7a5dcfb   \n",
       "31494   53a352b1bb6f4ff9   \n",
       "14360   25f225d975b6db01   \n",
       "15076   27db1e4dc8d4f306   \n",
       "76092   cbaed4022a53000e   \n",
       "...                  ...   \n",
       "120607  852589ee2f697076   \n",
       "142797  fbac8e568e73e7e6   \n",
       "32417   5640714285ce656c   \n",
       "14590   2687391618b89683   \n",
       "28722   4c158ceaf2925753   \n",
       "\n",
       "                                                                                                                                                                                                                                                                                                                                                                                                                                                                                                                                                                                                                                                                                                                                                                                                                                                                                                                                                                                                                                   comment_text  \\\n",
       "102316  A tag has been placed on Hillsboro Aviation, Inc., requesting that it be speedily deleted from Wikipedia. This has been done under the criteria for speedy deletion, because the article seems to be blatant advertising which only promotes a company, product, group or service and which would need to be fundamentally rewritten in order to become an encyclopedia article. Please read the general criteria for speedy deletion, particularly item 11, as well as the guidelines on spam. \\n\\nIf you can indicate why the subject of this article is not blatant advertising, you may contest the tagging. To do this, please add  on the top of the page and leave a note on the article's talk page explaining your position. Please do not remove the speedy deletion tag yourself, but don't hesitate to add information to the article that would help make it encyclopedic, as well as adding any citations from reliable sources to ensure that the article will be verifiable. Feel free to leave a note on my talk pa...   \n",
       "31494                                                                                                                                                                                                                                                                                                                                      I'm willing to take criticism for my edits, and I'm willing to back down if I'm wrong. My statement was in good faith, but it's also true that I made the statement on my own authority without citing a source. However, my statement was really no more weaselly than the statement it was intended to answer. So, I've reverted to my last version (because I have criticisms of ImpuMozhi's edits that I think are valid) but removed both of the weasel statements (because I concede that your criticism of some of my wording is valid). If you believe that I was impolite or uncivil to ImpuMozhi or anyone else, then please let me know what I did wrong so that I may tender my apology.   \n",
       "14360                                \"\\n\\nYou are an open source patent buster. You attacked the Collins patents FIRST, right? I give you facts and you spew politics. I don't have to stand for that. You are being stupid. Stupidity destroys. You are one idiot of many. You are worthless. Apologize for that and I will for mine. But I still hate you. That is a solid fact. There is something wrong with people like you, but that's your problem.   \\n\\nAlso, unlike Hod Lipson's bigoted crazy comments on how \"\"legal immigrants doing all the work\"\" (meaning dirty work as he had referred to) you, Feitas, Merkle Roco (who RUNS the ENTIRE nano department at NSF and he's an X communist scientist!) are taking our GOOD jobs, in fact STEALING THEM as they were stolen from me and as they are stealing the Collins patent.   \\n\\n... Oh, and you said you came here \"\"15 years ago to do work that no American was able to do.\"\" What a pompous ass! You think you are BETTER than ANY American living here? Go to hell!   \"   \n",
       "15076                                                                                                                                                                                                                                                                                                                                                                                                                                                                                                                                                                                                                                                                                                                                                                                         Good. Your encouragement of those who did however was idiotic and self-centered. Too many self-centered arrogant people on this planet. Go away, your big ego is not more important than those people with social anxiety disorder who need help.   \n",
       "76092                                                                                                                                                                                                                                                                                                                                                                                                                                                                                                                                                                                                                                                                                                                                                                                                                                                                                                                                                                   What is an moitheather no one knows but you a hoe so go eff a duck... )   \n",
       "...                                                                                                                                                                                                                                                                                                                                                                                                                                                                                                                                                                                                                                                                                                                                                                                                                                                                                                                                                                                                                                         ...   \n",
       "120607                                                                                                                                                                                                                                                                                                                                                                                                                                                                                                                                                                                                                                                                                                         COULD YOU JUST LISTEN TO ME FOR 5 SECONDS?!! I know you hate me, and I know you want to leave me alone, but it makes me sad that just for one minor edit, you just block me. I know that's what you have to do. By the way, this is NOT vandalism. Truth. I will leave you alone forever if you give me one more chance. PLEASE!   \n",
       "142797                                                                                                                                                                                                                                                                                                                                                                                                                                                                                                                                                                                                                                                                                                                                                                                                                                                                                                                                                                                                                  \"\\nThank you.  | Talk \"   \n",
       "32417                                                                                                                                                                                                                                                                                                                                                                                                                                                                                                                                                                                                                                                                                                                                                                                          \"\\n\\n Why LLD (Mont)? \\n\\nIn the infobox, Trudeau is titled \"\"LLD (Mont)\"\" which presumably means that he got his LLD from University of Montreal.  Is it standard for all Canadian LLDs to have their alma mater specified in parentheses?    \"   \n",
       "14590                                                                                                                                                                                                                                                                                                                                                                                                                                                                                                                                                                                                                                                                                                                                                                                                                                            WE ARE GOING TO MAKE SURE YOU ARE EXPOSED!! DROP YOUR RELATIONS WITH ANTI AMERICAN HATE GROUPS 'WE ARE GOING TO MAKE SURE YOU ARE EXPOSED!! DROP YOUR RELATIONS WITH ANTI AMERICAN HATE GROUPS   \n",
       "28722                                                                                                                                                                                                                                                                                                                                                                                                                                                                                                                                                                                                                                                                                                                                                 I certainly am not religious about it, but what about the states of northern Europe (which would still be Western), and England, and Scotland, and Wales? What about Spain, and Portugal? If you tell me it is most of the states, I believe you  I simply felt that it was not accurate.   \n",
       "\n",
       "        toxic  severe_toxic  obscene  threat  insult  identity_hate  \n",
       "102316   0.00           0.0     0.00     0.0    0.00            0.0  \n",
       "31494    0.00           0.0     0.00     0.0    0.00            0.0  \n",
       "14360    0.32           0.0     0.00     0.0    0.00            0.0  \n",
       "15076    0.00           0.0     0.00     0.0    0.64            0.0  \n",
       "76092    0.32           0.0     0.16     0.0    0.64            0.0  \n",
       "...       ...           ...      ...     ...     ...            ...  \n",
       "120607   0.00           0.0     0.00     0.0    0.00            0.0  \n",
       "142797   0.00           0.0     0.00     0.0    0.00            0.0  \n",
       "32417    0.00           0.0     0.00     0.0    0.00            0.0  \n",
       "14590    0.32           0.0     0.00     0.0    0.00            0.0  \n",
       "28722    0.00           0.0     0.00     0.0    0.00            0.0  \n",
       "\n",
       "[2000 rows x 8 columns]"
      ]
     },
     "execution_count": 7,
     "metadata": {},
     "output_type": "execute_result"
    }
   ],
   "source": [
    "val_df_target = val_df[target]\n",
    "val_df = val_df.drop(target, axis=1)\n",
    "val_df"
   ]
  },
  {
   "cell_type": "code",
   "execution_count": 8,
   "id": "1d2f3019",
   "metadata": {},
   "outputs": [
    {
     "name": "stdout",
     "output_type": "stream",
     "text": [
      "Ml task is regression\n",
      "Preferred training mode auto has been chosen. e2eml will automatically detect, if LGBM and Xgboost can use GPU acceleration and optimize the workflow accordingly.\n"
     ]
    }
   ],
   "source": [
    "toxic_ml = regression_blueprints.RegressionBluePrint(datasource=df_train, \n",
    "                        target_variable=target,\n",
    "                        train_split_type='cross',\n",
    "                        preferred_training_mode='auto',\n",
    "                        nlp_transformer_columns='comment_text',\n",
    "                        transformer_chosen='neoyipeng/twitter-roberta-base-sentiment-mlm',\n",
    "                        transformer_epochs=3,\n",
    "                        ml_task='regression')\n",
    "# cardiffnlp/twitter-roberta-base-mar2021\n",
    "toxic_ml.transformer_settings[\"train_batch_size\"] = 16\n",
    "toxic_ml.transformer_settings[\"test_batch_size\"] = 16\n",
    "toxic_ml.transformer_settings[\"pred_batch_size\"] = 8"
   ]
  },
  {
   "cell_type": "code",
   "execution_count": 9,
   "id": "67aa4e83",
   "metadata": {
    "scrolled": true
   },
   "outputs": [
    {
     "name": "stdout",
     "output_type": "stream",
     "text": [
      "Started Execute test train split at 18:34:13.\n",
      "Started Handle rare features at 18:34:13.\n",
      "Started Sort columns alphabetically at 18:34:13.\n"
     ]
    },
    {
     "name": "stderr",
     "output_type": "stream",
     "text": [
      "Some weights of the model checkpoint at neoyipeng/twitter-roberta-base-sentiment-mlm were not used when initializing RobertaForSequenceClassification: ['lm_head.dense.bias', 'lm_head.decoder.weight', 'lm_head.layer_norm.weight', 'lm_head.layer_norm.bias', 'lm_head.dense.weight', 'lm_head.decoder.bias', 'lm_head.bias']\n",
      "- This IS expected if you are initializing RobertaForSequenceClassification from the checkpoint of a model trained on another task or with another architecture (e.g. initializing a BertForSequenceClassification model from a BertForPreTraining model).\n",
      "- This IS NOT expected if you are initializing RobertaForSequenceClassification from the checkpoint of a model that you expect to be exactly identical (initializing a BertForSequenceClassification model from a BertForSequenceClassification model).\n",
      "Some weights of RobertaForSequenceClassification were not initialized from the model checkpoint at neoyipeng/twitter-roberta-base-sentiment-mlm and are newly initialized: ['classifier.out_proj.bias', 'classifier.out_proj.weight', 'classifier.dense.bias', 'classifier.dense.weight']\n",
      "You should probably TRAIN this model on a down-stream task to be able to use it for predictions and inference.\n"
     ]
    },
    {
     "name": "stdout",
     "output_type": "stream",
     "text": [
      "<class 'pandas.core.frame.DataFrame'>\n",
      "RangeIndex: 32450 entries, 0 to 32449\n",
      "Data columns (total 10 columns):\n",
      " #   Column         Non-Null Count  Dtype  \n",
      "---  ------         --------------  -----  \n",
      " 0   comment_text   32450 non-null  object \n",
      " 1   id             32450 non-null  object \n",
      " 2   identity_hate  32450 non-null  float64\n",
      " 3   insult         32450 non-null  float64\n",
      " 4   obscene        32450 non-null  float64\n",
      " 5   severe_toxic   32450 non-null  float64\n",
      " 6   threat         32450 non-null  float64\n",
      " 7   toxic          32450 non-null  float64\n",
      " 8   score          32450 non-null  float64\n",
      " 9   kfold          32450 non-null  int64  \n",
      "dtypes: float64(7), int64(1), object(2)\n",
      "memory usage: 2.5+ MB\n",
      "None\n",
      "<class 'pandas.core.frame.DataFrame'>\n",
      "RangeIndex: 32450 entries, 0 to 32449\n",
      "Data columns (total 11 columns):\n",
      " #   Column         Non-Null Count  Dtype  \n",
      "---  ------         --------------  -----  \n",
      " 0   comment_text   32450 non-null  object \n",
      " 1   id             32450 non-null  object \n",
      " 2   identity_hate  32450 non-null  float64\n",
      " 3   insult         32450 non-null  float64\n",
      " 4   obscene        32450 non-null  float64\n",
      " 5   severe_toxic   32450 non-null  float64\n",
      " 6   threat         32450 non-null  float64\n",
      " 7   toxic          32450 non-null  float64\n",
      " 8   score          32450 non-null  float64\n",
      " 9   kfold          32450 non-null  int64  \n",
      " 10  bins           32450 non-null  int64  \n",
      "dtypes: float64(7), int64(2), object(2)\n",
      "memory usage: 2.7+ MB\n",
      "None\n"
     ]
    },
    {
     "name": "stderr",
     "output_type": "stream",
     "text": [
      "Some weights of the model checkpoint at neoyipeng/twitter-roberta-base-sentiment-mlm were not used when initializing RobertaForSequenceClassification: ['lm_head.dense.bias', 'lm_head.decoder.weight', 'lm_head.layer_norm.weight', 'lm_head.layer_norm.bias', 'lm_head.dense.weight', 'lm_head.decoder.bias', 'lm_head.bias']\n",
      "- This IS expected if you are initializing RobertaForSequenceClassification from the checkpoint of a model trained on another task or with another architecture (e.g. initializing a BertForSequenceClassification model from a BertForPreTraining model).\n",
      "- This IS NOT expected if you are initializing RobertaForSequenceClassification from the checkpoint of a model that you expect to be exactly identical (initializing a BertForSequenceClassification model from a BertForSequenceClassification model).\n",
      "Some weights of RobertaForSequenceClassification were not initialized from the model checkpoint at neoyipeng/twitter-roberta-base-sentiment-mlm and are newly initialized: ['classifier.out_proj.bias', 'classifier.out_proj.weight', 'classifier.dense.bias', 'classifier.dense.weight']\n",
      "You should probably TRAIN this model on a down-stream task to be able to use it for predictions and inference.\n",
      "  0%|                                                     | 0/3 [00:00<?, ?it/s]"
     ]
    },
    {
     "name": "stdout",
     "output_type": "stream",
     "text": [
      "---------------0start-------------\n",
      "<class 'pandas.core.frame.DataFrame'>\n",
      "RangeIndex: 32450 entries, 0 to 32449\n",
      "Data columns (total 10 columns):\n",
      " #   Column         Non-Null Count  Dtype  \n",
      "---  ------         --------------  -----  \n",
      " 0   comment_text   32450 non-null  object \n",
      " 1   id             32450 non-null  object \n",
      " 2   identity_hate  32450 non-null  float64\n",
      " 3   insult         32450 non-null  float64\n",
      " 4   obscene        32450 non-null  float64\n",
      " 5   severe_toxic   32450 non-null  float64\n",
      " 6   threat         32450 non-null  float64\n",
      " 7   toxic          32450 non-null  float64\n",
      " 8   score          32450 non-null  float64\n",
      " 9   kfold          32450 non-null  int64  \n",
      "dtypes: float64(7), int64(1), object(2)\n",
      "memory usage: 2.5+ MB\n",
      "None\n",
      "<class 'pandas.core.frame.DataFrame'>\n",
      "RangeIndex: 32450 entries, 0 to 32449\n",
      "Data columns (total 11 columns):\n",
      " #   Column         Non-Null Count  Dtype  \n",
      "---  ------         --------------  -----  \n",
      " 0   comment_text   32450 non-null  object \n",
      " 1   id             32450 non-null  object \n",
      " 2   identity_hate  32450 non-null  float64\n",
      " 3   insult         32450 non-null  float64\n",
      " 4   obscene        32450 non-null  float64\n",
      " 5   severe_toxic   32450 non-null  float64\n",
      " 6   threat         32450 non-null  float64\n",
      " 7   toxic          32450 non-null  float64\n",
      " 8   score          32450 non-null  float64\n",
      " 9   kfold          32450 non-null  int64  \n",
      " 10  bins           32450 non-null  int64  \n",
      "dtypes: float64(7), int64(2), object(2)\n",
      "memory usage: 2.7+ MB\n",
      "None\n",
      "trainscore is 0.1044643\n"
     ]
    },
    {
     "name": "stderr",
     "output_type": "stream",
     "text": [
      "[W pthreadpool-cpp.cc:90] Warning: Leaking Caffe2 thread-pool after fork. (function pthreadpool)\n",
      "[W pthreadpool-cpp.cc:90] Warning: Leaking Caffe2 thread-pool after fork. (function pthreadpool)\n",
      "[W pthreadpool-cpp.cc:90] Warning: Leaking Caffe2 thread-pool after fork. (function pthreadpool)\n",
      "[W pthreadpool-cpp.cc:90] Warning: Leaking Caffe2 thread-pool after fork. (function pthreadpool)\n"
     ]
    },
    {
     "name": "stdout",
     "output_type": "stream",
     "text": [
      "valscore is 0.09342823\n",
      "Save first model\n"
     ]
    },
    {
     "name": "stderr",
     "output_type": "stream",
     "text": [
      "\r",
      " 33%|██████████████▋                             | 1/3 [07:01<14:03, 421.87s/it]"
     ]
    },
    {
     "name": "stdout",
     "output_type": "stream",
     "text": [
      "---------------1start-------------\n",
      "<class 'pandas.core.frame.DataFrame'>\n",
      "RangeIndex: 32450 entries, 0 to 32449\n",
      "Data columns (total 10 columns):\n",
      " #   Column         Non-Null Count  Dtype  \n",
      "---  ------         --------------  -----  \n",
      " 0   comment_text   32450 non-null  object \n",
      " 1   id             32450 non-null  object \n",
      " 2   identity_hate  32450 non-null  float64\n",
      " 3   insult         32450 non-null  float64\n",
      " 4   obscene        32450 non-null  float64\n",
      " 5   severe_toxic   32450 non-null  float64\n",
      " 6   threat         32450 non-null  float64\n",
      " 7   toxic          32450 non-null  float64\n",
      " 8   score          32450 non-null  float64\n",
      " 9   kfold          32450 non-null  int64  \n",
      "dtypes: float64(7), int64(1), object(2)\n",
      "memory usage: 2.5+ MB\n",
      "None\n",
      "<class 'pandas.core.frame.DataFrame'>\n",
      "RangeIndex: 32450 entries, 0 to 32449\n",
      "Data columns (total 11 columns):\n",
      " #   Column         Non-Null Count  Dtype  \n",
      "---  ------         --------------  -----  \n",
      " 0   comment_text   32450 non-null  object \n",
      " 1   id             32450 non-null  object \n",
      " 2   identity_hate  32450 non-null  float64\n",
      " 3   insult         32450 non-null  float64\n",
      " 4   obscene        32450 non-null  float64\n",
      " 5   severe_toxic   32450 non-null  float64\n",
      " 6   threat         32450 non-null  float64\n",
      " 7   toxic          32450 non-null  float64\n",
      " 8   score          32450 non-null  float64\n",
      " 9   kfold          32450 non-null  int64  \n",
      " 10  bins           32450 non-null  int64  \n",
      "dtypes: float64(7), int64(2), object(2)\n",
      "memory usage: 2.7+ MB\n",
      "None\n"
     ]
    },
    {
     "name": "stderr",
     "output_type": "stream",
     "text": [
      "[W pthreadpool-cpp.cc:90] Warning: Leaking Caffe2 thread-pool after fork. (function pthreadpool)\n",
      "[W pthreadpool-cpp.cc:90] Warning: Leaking Caffe2 thread-pool after fork. (function pthreadpool)\n",
      "[W pthreadpool-cpp.cc:90] Warning: Leaking Caffe2 thread-pool after fork. (function pthreadpool)\n",
      "[W pthreadpool-cpp.cc:90] Warning: Leaking Caffe2 thread-pool after fork. (function pthreadpool)\n"
     ]
    },
    {
     "name": "stdout",
     "output_type": "stream",
     "text": [
      "trainscore is 0.08440612\n"
     ]
    },
    {
     "name": "stderr",
     "output_type": "stream",
     "text": [
      "[W pthreadpool-cpp.cc:90] Warning: Leaking Caffe2 thread-pool after fork. (function pthreadpool)\n",
      "[W pthreadpool-cpp.cc:90] Warning: Leaking Caffe2 thread-pool after fork. (function pthreadpool)\n",
      "[W pthreadpool-cpp.cc:90] Warning: Leaking Caffe2 thread-pool after fork. (function pthreadpool)\n",
      "[W pthreadpool-cpp.cc:90] Warning: Leaking Caffe2 thread-pool after fork. (function pthreadpool)\n"
     ]
    },
    {
     "name": "stdout",
     "output_type": "stream",
     "text": [
      "valscore is 0.08040013\n",
      "found better point\n"
     ]
    },
    {
     "name": "stderr",
     "output_type": "stream",
     "text": [
      "\r",
      " 67%|█████████████████████████████▎              | 2/3 [14:18<07:10, 430.35s/it]"
     ]
    },
    {
     "name": "stdout",
     "output_type": "stream",
     "text": [
      "---------------2start-------------\n",
      "<class 'pandas.core.frame.DataFrame'>\n",
      "RangeIndex: 32450 entries, 0 to 32449\n",
      "Data columns (total 10 columns):\n",
      " #   Column         Non-Null Count  Dtype  \n",
      "---  ------         --------------  -----  \n",
      " 0   comment_text   32450 non-null  object \n",
      " 1   id             32450 non-null  object \n",
      " 2   identity_hate  32450 non-null  float64\n",
      " 3   insult         32450 non-null  float64\n",
      " 4   obscene        32450 non-null  float64\n",
      " 5   severe_toxic   32450 non-null  float64\n",
      " 6   threat         32450 non-null  float64\n",
      " 7   toxic          32450 non-null  float64\n",
      " 8   score          32450 non-null  float64\n",
      " 9   kfold          32450 non-null  int64  \n",
      "dtypes: float64(7), int64(1), object(2)\n",
      "memory usage: 2.5+ MB\n",
      "None\n",
      "<class 'pandas.core.frame.DataFrame'>\n",
      "RangeIndex: 32450 entries, 0 to 32449\n",
      "Data columns (total 11 columns):\n",
      " #   Column         Non-Null Count  Dtype  \n",
      "---  ------         --------------  -----  \n",
      " 0   comment_text   32450 non-null  object \n",
      " 1   id             32450 non-null  object \n",
      " 2   identity_hate  32450 non-null  float64\n",
      " 3   insult         32450 non-null  float64\n",
      " 4   obscene        32450 non-null  float64\n",
      " 5   severe_toxic   32450 non-null  float64\n",
      " 6   threat         32450 non-null  float64\n",
      " 7   toxic          32450 non-null  float64\n",
      " 8   score          32450 non-null  float64\n",
      " 9   kfold          32450 non-null  int64  \n",
      " 10  bins           32450 non-null  int64  \n",
      "dtypes: float64(7), int64(2), object(2)\n",
      "memory usage: 2.7+ MB\n",
      "None\n"
     ]
    },
    {
     "name": "stderr",
     "output_type": "stream",
     "text": [
      "[W pthreadpool-cpp.cc:90] Warning: Leaking Caffe2 thread-pool after fork. (function pthreadpool)\n",
      "[W pthreadpool-cpp.cc:90] Warning: Leaking Caffe2 thread-pool after fork. (function pthreadpool)\n",
      "[W pthreadpool-cpp.cc:90] Warning: Leaking Caffe2 thread-pool after fork. (function pthreadpool)\n",
      "[W pthreadpool-cpp.cc:90] Warning: Leaking Caffe2 thread-pool after fork. (function pthreadpool)\n"
     ]
    },
    {
     "name": "stdout",
     "output_type": "stream",
     "text": [
      "trainscore is 0.074172184\n"
     ]
    },
    {
     "name": "stderr",
     "output_type": "stream",
     "text": [
      "[W pthreadpool-cpp.cc:90] Warning: Leaking Caffe2 thread-pool after fork. (function pthreadpool)\n",
      "[W pthreadpool-cpp.cc:90] Warning: Leaking Caffe2 thread-pool after fork. (function pthreadpool)\n",
      "[W pthreadpool-cpp.cc:90] Warning: Leaking Caffe2 thread-pool after fork. (function pthreadpool)\n",
      "[W pthreadpool-cpp.cc:90] Warning: Leaking Caffe2 thread-pool after fork. (function pthreadpool)\n",
      "100%|████████████████████████████████████████████| 3/3 [21:06<00:00, 422.20s/it]"
     ]
    },
    {
     "name": "stdout",
     "output_type": "stream",
     "text": [
      "valscore is 0.08353134\n",
      "<class 'pandas.core.frame.DataFrame'>\n",
      "RangeIndex: 32450 entries, 0 to 32449\n",
      "Data columns (total 10 columns):\n",
      " #   Column         Non-Null Count  Dtype  \n",
      "---  ------         --------------  -----  \n",
      " 0   comment_text   32450 non-null  object \n",
      " 1   id             32450 non-null  object \n",
      " 2   identity_hate  32450 non-null  float64\n",
      " 3   insult         32450 non-null  float64\n",
      " 4   obscene        32450 non-null  float64\n",
      " 5   severe_toxic   32450 non-null  float64\n",
      " 6   threat         32450 non-null  float64\n",
      " 7   toxic          32450 non-null  float64\n",
      " 8   score          32450 non-null  float64\n",
      " 9   kfold          32450 non-null  int64  \n",
      "dtypes: float64(7), int64(1), object(2)\n",
      "memory usage: 2.5+ MB\n",
      "None\n",
      "<class 'pandas.core.frame.DataFrame'>\n",
      "RangeIndex: 32450 entries, 0 to 32449\n",
      "Data columns (total 11 columns):\n",
      " #   Column         Non-Null Count  Dtype  \n",
      "---  ------         --------------  -----  \n",
      " 0   comment_text   32450 non-null  object \n",
      " 1   id             32450 non-null  object \n",
      " 2   identity_hate  32450 non-null  float64\n",
      " 3   insult         32450 non-null  float64\n",
      " 4   obscene        32450 non-null  float64\n",
      " 5   severe_toxic   32450 non-null  float64\n",
      " 6   threat         32450 non-null  float64\n",
      " 7   toxic          32450 non-null  float64\n",
      " 8   score          32450 non-null  float64\n",
      " 9   kfold          32450 non-null  int64  \n",
      " 10  bins           32450 non-null  int64  \n",
      "dtypes: float64(7), int64(2), object(2)\n",
      "memory usage: 2.7+ MB\n",
      "None\n"
     ]
    },
    {
     "name": "stderr",
     "output_type": "stream",
     "text": [
      "\n",
      "Some weights of the model checkpoint at neoyipeng/twitter-roberta-base-sentiment-mlm were not used when initializing RobertaForSequenceClassification: ['lm_head.dense.bias', 'lm_head.decoder.weight', 'lm_head.layer_norm.weight', 'lm_head.layer_norm.bias', 'lm_head.dense.weight', 'lm_head.decoder.bias', 'lm_head.bias']\n",
      "- This IS expected if you are initializing RobertaForSequenceClassification from the checkpoint of a model trained on another task or with another architecture (e.g. initializing a BertForSequenceClassification model from a BertForPreTraining model).\n",
      "- This IS NOT expected if you are initializing RobertaForSequenceClassification from the checkpoint of a model that you expect to be exactly identical (initializing a BertForSequenceClassification model from a BertForSequenceClassification model).\n",
      "Some weights of RobertaForSequenceClassification were not initialized from the model checkpoint at neoyipeng/twitter-roberta-base-sentiment-mlm and are newly initialized: ['classifier.out_proj.bias', 'classifier.out_proj.weight', 'classifier.dense.bias', 'classifier.dense.weight']\n",
      "You should probably TRAIN this model on a down-stream task to be able to use it for predictions and inference.\n",
      "  0%|                                                     | 0/3 [00:00<?, ?it/s]"
     ]
    },
    {
     "name": "stdout",
     "output_type": "stream",
     "text": [
      "---------------0start-------------\n",
      "<class 'pandas.core.frame.DataFrame'>\n",
      "RangeIndex: 32450 entries, 0 to 32449\n",
      "Data columns (total 10 columns):\n",
      " #   Column         Non-Null Count  Dtype  \n",
      "---  ------         --------------  -----  \n",
      " 0   comment_text   32450 non-null  object \n",
      " 1   id             32450 non-null  object \n",
      " 2   identity_hate  32450 non-null  float64\n",
      " 3   insult         32450 non-null  float64\n",
      " 4   obscene        32450 non-null  float64\n",
      " 5   severe_toxic   32450 non-null  float64\n",
      " 6   threat         32450 non-null  float64\n",
      " 7   toxic          32450 non-null  float64\n",
      " 8   score          32450 non-null  float64\n",
      " 9   kfold          32450 non-null  int64  \n",
      "dtypes: float64(7), int64(1), object(2)\n",
      "memory usage: 2.5+ MB\n",
      "None\n",
      "<class 'pandas.core.frame.DataFrame'>\n",
      "RangeIndex: 32450 entries, 0 to 32449\n",
      "Data columns (total 11 columns):\n",
      " #   Column         Non-Null Count  Dtype  \n",
      "---  ------         --------------  -----  \n",
      " 0   comment_text   32450 non-null  object \n",
      " 1   id             32450 non-null  object \n",
      " 2   identity_hate  32450 non-null  float64\n",
      " 3   insult         32450 non-null  float64\n",
      " 4   obscene        32450 non-null  float64\n",
      " 5   severe_toxic   32450 non-null  float64\n",
      " 6   threat         32450 non-null  float64\n",
      " 7   toxic          32450 non-null  float64\n",
      " 8   score          32450 non-null  float64\n",
      " 9   kfold          32450 non-null  int64  \n",
      " 10  bins           32450 non-null  int64  \n",
      "dtypes: float64(7), int64(2), object(2)\n",
      "memory usage: 2.7+ MB\n",
      "None\n"
     ]
    },
    {
     "name": "stderr",
     "output_type": "stream",
     "text": [
      "[W pthreadpool-cpp.cc:90] Warning: Leaking Caffe2 thread-pool after fork. (function pthreadpool)\n",
      "[W pthreadpool-cpp.cc:90] Warning: Leaking Caffe2 thread-pool after fork. (function pthreadpool)\n",
      "[W pthreadpool-cpp.cc:90] Warning: Leaking Caffe2 thread-pool after fork. (function pthreadpool)\n",
      "[W pthreadpool-cpp.cc:90] Warning: Leaking Caffe2 thread-pool after fork. (function pthreadpool)\n"
     ]
    },
    {
     "name": "stdout",
     "output_type": "stream",
     "text": [
      "trainscore is 0.10383016\n"
     ]
    },
    {
     "name": "stderr",
     "output_type": "stream",
     "text": [
      "[W pthreadpool-cpp.cc:90] Warning: Leaking Caffe2 thread-pool after fork. (function pthreadpool)\n",
      "[W pthreadpool-cpp.cc:90] Warning: Leaking Caffe2 thread-pool after fork. (function pthreadpool)\n",
      "[W pthreadpool-cpp.cc:90] Warning: Leaking Caffe2 thread-pool after fork. (function pthreadpool)\n",
      "[W pthreadpool-cpp.cc:90] Warning: Leaking Caffe2 thread-pool after fork. (function pthreadpool)\n"
     ]
    },
    {
     "name": "stdout",
     "output_type": "stream",
     "text": [
      "valscore is 0.07998023\n",
      "Save first model\n"
     ]
    },
    {
     "name": "stderr",
     "output_type": "stream",
     "text": [
      "\r",
      " 33%|██████████████▋                             | 1/3 [07:27<14:55, 447.59s/it]"
     ]
    },
    {
     "name": "stdout",
     "output_type": "stream",
     "text": [
      "---------------1start-------------\n",
      "<class 'pandas.core.frame.DataFrame'>\n",
      "RangeIndex: 32450 entries, 0 to 32449\n",
      "Data columns (total 10 columns):\n",
      " #   Column         Non-Null Count  Dtype  \n",
      "---  ------         --------------  -----  \n",
      " 0   comment_text   32450 non-null  object \n",
      " 1   id             32450 non-null  object \n",
      " 2   identity_hate  32450 non-null  float64\n",
      " 3   insult         32450 non-null  float64\n",
      " 4   obscene        32450 non-null  float64\n",
      " 5   severe_toxic   32450 non-null  float64\n",
      " 6   threat         32450 non-null  float64\n",
      " 7   toxic          32450 non-null  float64\n",
      " 8   score          32450 non-null  float64\n",
      " 9   kfold          32450 non-null  int64  \n",
      "dtypes: float64(7), int64(1), object(2)\n",
      "memory usage: 2.5+ MB\n",
      "None\n",
      "<class 'pandas.core.frame.DataFrame'>\n",
      "RangeIndex: 32450 entries, 0 to 32449\n",
      "Data columns (total 11 columns):\n",
      " #   Column         Non-Null Count  Dtype  \n",
      "---  ------         --------------  -----  \n",
      " 0   comment_text   32450 non-null  object \n",
      " 1   id             32450 non-null  object \n",
      " 2   identity_hate  32450 non-null  float64\n",
      " 3   insult         32450 non-null  float64\n",
      " 4   obscene        32450 non-null  float64\n",
      " 5   severe_toxic   32450 non-null  float64\n",
      " 6   threat         32450 non-null  float64\n",
      " 7   toxic          32450 non-null  float64\n",
      " 8   score          32450 non-null  float64\n",
      " 9   kfold          32450 non-null  int64  \n",
      " 10  bins           32450 non-null  int64  \n",
      "dtypes: float64(7), int64(2), object(2)\n",
      "memory usage: 2.7+ MB\n",
      "None\n"
     ]
    },
    {
     "name": "stderr",
     "output_type": "stream",
     "text": [
      "[W pthreadpool-cpp.cc:90] Warning: Leaking Caffe2 thread-pool after fork. (function pthreadpool)\n",
      "[W pthreadpool-cpp.cc:90] Warning: Leaking Caffe2 thread-pool after fork. (function pthreadpool)\n",
      "[W pthreadpool-cpp.cc:90] Warning: Leaking Caffe2 thread-pool after fork. (function pthreadpool)\n",
      "[W pthreadpool-cpp.cc:90] Warning: Leaking Caffe2 thread-pool after fork. (function pthreadpool)\n"
     ]
    },
    {
     "name": "stdout",
     "output_type": "stream",
     "text": [
      "trainscore is 0.084018104\n"
     ]
    },
    {
     "name": "stderr",
     "output_type": "stream",
     "text": [
      "[W pthreadpool-cpp.cc:90] Warning: Leaking Caffe2 thread-pool after fork. (function pthreadpool)\n",
      "[W pthreadpool-cpp.cc:90] Warning: Leaking Caffe2 thread-pool after fork. (function pthreadpool)\n",
      "[W pthreadpool-cpp.cc:90] Warning: Leaking Caffe2 thread-pool after fork. (function pthreadpool)\n",
      "[W pthreadpool-cpp.cc:90] Warning: Leaking Caffe2 thread-pool after fork. (function pthreadpool)\n"
     ]
    },
    {
     "name": "stdout",
     "output_type": "stream",
     "text": [
      "valscore is 0.077988744\n",
      "found better point\n"
     ]
    },
    {
     "name": "stderr",
     "output_type": "stream",
     "text": [
      "\r",
      " 67%|█████████████████████████████▎              | 2/3 [14:09<07:00, 420.63s/it]"
     ]
    },
    {
     "name": "stdout",
     "output_type": "stream",
     "text": [
      "---------------2start-------------\n",
      "<class 'pandas.core.frame.DataFrame'>\n",
      "RangeIndex: 32450 entries, 0 to 32449\n",
      "Data columns (total 10 columns):\n",
      " #   Column         Non-Null Count  Dtype  \n",
      "---  ------         --------------  -----  \n",
      " 0   comment_text   32450 non-null  object \n",
      " 1   id             32450 non-null  object \n",
      " 2   identity_hate  32450 non-null  float64\n",
      " 3   insult         32450 non-null  float64\n",
      " 4   obscene        32450 non-null  float64\n",
      " 5   severe_toxic   32450 non-null  float64\n",
      " 6   threat         32450 non-null  float64\n",
      " 7   toxic          32450 non-null  float64\n",
      " 8   score          32450 non-null  float64\n",
      " 9   kfold          32450 non-null  int64  \n",
      "dtypes: float64(7), int64(1), object(2)\n",
      "memory usage: 2.5+ MB\n",
      "None\n",
      "<class 'pandas.core.frame.DataFrame'>\n",
      "RangeIndex: 32450 entries, 0 to 32449\n",
      "Data columns (total 11 columns):\n",
      " #   Column         Non-Null Count  Dtype  \n",
      "---  ------         --------------  -----  \n",
      " 0   comment_text   32450 non-null  object \n",
      " 1   id             32450 non-null  object \n",
      " 2   identity_hate  32450 non-null  float64\n",
      " 3   insult         32450 non-null  float64\n",
      " 4   obscene        32450 non-null  float64\n",
      " 5   severe_toxic   32450 non-null  float64\n",
      " 6   threat         32450 non-null  float64\n",
      " 7   toxic          32450 non-null  float64\n",
      " 8   score          32450 non-null  float64\n",
      " 9   kfold          32450 non-null  int64  \n",
      " 10  bins           32450 non-null  int64  \n",
      "dtypes: float64(7), int64(2), object(2)\n",
      "memory usage: 2.7+ MB\n",
      "None\n"
     ]
    },
    {
     "name": "stderr",
     "output_type": "stream",
     "text": [
      "[W pthreadpool-cpp.cc:90] Warning: Leaking Caffe2 thread-pool after fork. (function pthreadpool)\n",
      "[W pthreadpool-cpp.cc:90] Warning: Leaking Caffe2 thread-pool after fork. (function pthreadpool)\n",
      "[W pthreadpool-cpp.cc:90] Warning: Leaking Caffe2 thread-pool after fork. (function pthreadpool)\n",
      "[W pthreadpool-cpp.cc:90] Warning: Leaking Caffe2 thread-pool after fork. (function pthreadpool)\n"
     ]
    },
    {
     "name": "stdout",
     "output_type": "stream",
     "text": [
      "trainscore is 0.072451524\n"
     ]
    },
    {
     "name": "stderr",
     "output_type": "stream",
     "text": [
      "[W pthreadpool-cpp.cc:90] Warning: Leaking Caffe2 thread-pool after fork. (function pthreadpool)\n",
      "[W pthreadpool-cpp.cc:90] Warning: Leaking Caffe2 thread-pool after fork. (function pthreadpool)\n",
      "[W pthreadpool-cpp.cc:90] Warning: Leaking Caffe2 thread-pool after fork. (function pthreadpool)\n",
      "[W pthreadpool-cpp.cc:90] Warning: Leaking Caffe2 thread-pool after fork. (function pthreadpool)\n",
      "100%|████████████████████████████████████████████| 3/3 [20:40<00:00, 413.47s/it]"
     ]
    },
    {
     "name": "stdout",
     "output_type": "stream",
     "text": [
      "valscore is 0.08190321\n",
      "<class 'pandas.core.frame.DataFrame'>\n",
      "RangeIndex: 32450 entries, 0 to 32449\n",
      "Data columns (total 10 columns):\n",
      " #   Column         Non-Null Count  Dtype  \n",
      "---  ------         --------------  -----  \n",
      " 0   comment_text   32450 non-null  object \n",
      " 1   id             32450 non-null  object \n",
      " 2   identity_hate  32450 non-null  float64\n",
      " 3   insult         32450 non-null  float64\n",
      " 4   obscene        32450 non-null  float64\n",
      " 5   severe_toxic   32450 non-null  float64\n",
      " 6   threat         32450 non-null  float64\n",
      " 7   toxic          32450 non-null  float64\n",
      " 8   score          32450 non-null  float64\n",
      " 9   kfold          32450 non-null  int64  \n",
      "dtypes: float64(7), int64(1), object(2)\n",
      "memory usage: 2.5+ MB\n",
      "None\n",
      "<class 'pandas.core.frame.DataFrame'>\n",
      "RangeIndex: 32450 entries, 0 to 32449\n",
      "Data columns (total 11 columns):\n",
      " #   Column         Non-Null Count  Dtype  \n",
      "---  ------         --------------  -----  \n",
      " 0   comment_text   32450 non-null  object \n",
      " 1   id             32450 non-null  object \n",
      " 2   identity_hate  32450 non-null  float64\n",
      " 3   insult         32450 non-null  float64\n",
      " 4   obscene        32450 non-null  float64\n",
      " 5   severe_toxic   32450 non-null  float64\n",
      " 6   threat         32450 non-null  float64\n",
      " 7   toxic          32450 non-null  float64\n",
      " 8   score          32450 non-null  float64\n",
      " 9   kfold          32450 non-null  int64  \n",
      " 10  bins           32450 non-null  int64  \n",
      "dtypes: float64(7), int64(2), object(2)\n",
      "memory usage: 2.7+ MB\n",
      "None\n"
     ]
    },
    {
     "name": "stderr",
     "output_type": "stream",
     "text": [
      "\n",
      "Some weights of the model checkpoint at neoyipeng/twitter-roberta-base-sentiment-mlm were not used when initializing RobertaForSequenceClassification: ['lm_head.dense.bias', 'lm_head.decoder.weight', 'lm_head.layer_norm.weight', 'lm_head.layer_norm.bias', 'lm_head.dense.weight', 'lm_head.decoder.bias', 'lm_head.bias']\n",
      "- This IS expected if you are initializing RobertaForSequenceClassification from the checkpoint of a model trained on another task or with another architecture (e.g. initializing a BertForSequenceClassification model from a BertForPreTraining model).\n",
      "- This IS NOT expected if you are initializing RobertaForSequenceClassification from the checkpoint of a model that you expect to be exactly identical (initializing a BertForSequenceClassification model from a BertForSequenceClassification model).\n",
      "Some weights of RobertaForSequenceClassification were not initialized from the model checkpoint at neoyipeng/twitter-roberta-base-sentiment-mlm and are newly initialized: ['classifier.out_proj.bias', 'classifier.out_proj.weight', 'classifier.dense.bias', 'classifier.dense.weight']\n",
      "You should probably TRAIN this model on a down-stream task to be able to use it for predictions and inference.\n",
      "  0%|                                                     | 0/3 [00:00<?, ?it/s]"
     ]
    },
    {
     "name": "stdout",
     "output_type": "stream",
     "text": [
      "---------------0start-------------\n",
      "<class 'pandas.core.frame.DataFrame'>\n",
      "RangeIndex: 32450 entries, 0 to 32449\n",
      "Data columns (total 10 columns):\n",
      " #   Column         Non-Null Count  Dtype  \n",
      "---  ------         --------------  -----  \n",
      " 0   comment_text   32450 non-null  object \n",
      " 1   id             32450 non-null  object \n",
      " 2   identity_hate  32450 non-null  float64\n",
      " 3   insult         32450 non-null  float64\n",
      " 4   obscene        32450 non-null  float64\n",
      " 5   severe_toxic   32450 non-null  float64\n",
      " 6   threat         32450 non-null  float64\n",
      " 7   toxic          32450 non-null  float64\n",
      " 8   score          32450 non-null  float64\n",
      " 9   kfold          32450 non-null  int64  \n",
      "dtypes: float64(7), int64(1), object(2)\n",
      "memory usage: 2.5+ MB\n",
      "None\n",
      "<class 'pandas.core.frame.DataFrame'>\n",
      "RangeIndex: 32450 entries, 0 to 32449\n",
      "Data columns (total 11 columns):\n",
      " #   Column         Non-Null Count  Dtype  \n",
      "---  ------         --------------  -----  \n",
      " 0   comment_text   32450 non-null  object \n",
      " 1   id             32450 non-null  object \n",
      " 2   identity_hate  32450 non-null  float64\n",
      " 3   insult         32450 non-null  float64\n",
      " 4   obscene        32450 non-null  float64\n",
      " 5   severe_toxic   32450 non-null  float64\n",
      " 6   threat         32450 non-null  float64\n",
      " 7   toxic          32450 non-null  float64\n",
      " 8   score          32450 non-null  float64\n",
      " 9   kfold          32450 non-null  int64  \n",
      " 10  bins           32450 non-null  int64  \n",
      "dtypes: float64(7), int64(2), object(2)\n",
      "memory usage: 2.7+ MB\n",
      "None\n"
     ]
    },
    {
     "name": "stderr",
     "output_type": "stream",
     "text": [
      "[W pthreadpool-cpp.cc:90] Warning: Leaking Caffe2 thread-pool after fork. (function pthreadpool)\n",
      "[W pthreadpool-cpp.cc:90] Warning: Leaking Caffe2 thread-pool after fork. (function pthreadpool)\n",
      "[W pthreadpool-cpp.cc:90] Warning: Leaking Caffe2 thread-pool after fork. (function pthreadpool)\n",
      "[W pthreadpool-cpp.cc:90] Warning: Leaking Caffe2 thread-pool after fork. (function pthreadpool)\n",
      "[W pthreadpool-cpp.cc:90] Warning: Leaking Caffe2 thread-pool after fork. (function pthreadpool)\n"
     ]
    },
    {
     "name": "stdout",
     "output_type": "stream",
     "text": [
      "trainscore is 0.104280725\n"
     ]
    },
    {
     "name": "stderr",
     "output_type": "stream",
     "text": [
      "[W pthreadpool-cpp.cc:90] Warning: Leaking Caffe2 thread-pool after fork. (function pthreadpool)\n",
      "[W pthreadpool-cpp.cc:90] Warning: Leaking Caffe2 thread-pool after fork. (function pthreadpool)\n",
      "[W pthreadpool-cpp.cc:90] Warning: Leaking Caffe2 thread-pool after fork. (function pthreadpool)\n",
      "[W pthreadpool-cpp.cc:90] Warning: Leaking Caffe2 thread-pool after fork. (function pthreadpool)\n"
     ]
    },
    {
     "name": "stdout",
     "output_type": "stream",
     "text": [
      "valscore is 0.08219455\n",
      "Save first model\n"
     ]
    },
    {
     "name": "stderr",
     "output_type": "stream",
     "text": [
      "\r",
      " 33%|██████████████▋                             | 1/3 [06:41<13:23, 401.57s/it]"
     ]
    },
    {
     "name": "stdout",
     "output_type": "stream",
     "text": [
      "---------------1start-------------\n",
      "<class 'pandas.core.frame.DataFrame'>\n",
      "RangeIndex: 32450 entries, 0 to 32449\n",
      "Data columns (total 10 columns):\n",
      " #   Column         Non-Null Count  Dtype  \n",
      "---  ------         --------------  -----  \n",
      " 0   comment_text   32450 non-null  object \n",
      " 1   id             32450 non-null  object \n",
      " 2   identity_hate  32450 non-null  float64\n",
      " 3   insult         32450 non-null  float64\n",
      " 4   obscene        32450 non-null  float64\n",
      " 5   severe_toxic   32450 non-null  float64\n",
      " 6   threat         32450 non-null  float64\n",
      " 7   toxic          32450 non-null  float64\n",
      " 8   score          32450 non-null  float64\n",
      " 9   kfold          32450 non-null  int64  \n",
      "dtypes: float64(7), int64(1), object(2)\n",
      "memory usage: 2.5+ MB\n",
      "None\n",
      "<class 'pandas.core.frame.DataFrame'>\n",
      "RangeIndex: 32450 entries, 0 to 32449\n",
      "Data columns (total 11 columns):\n",
      " #   Column         Non-Null Count  Dtype  \n",
      "---  ------         --------------  -----  \n",
      " 0   comment_text   32450 non-null  object \n",
      " 1   id             32450 non-null  object \n",
      " 2   identity_hate  32450 non-null  float64\n",
      " 3   insult         32450 non-null  float64\n",
      " 4   obscene        32450 non-null  float64\n",
      " 5   severe_toxic   32450 non-null  float64\n",
      " 6   threat         32450 non-null  float64\n",
      " 7   toxic          32450 non-null  float64\n",
      " 8   score          32450 non-null  float64\n",
      " 9   kfold          32450 non-null  int64  \n",
      " 10  bins           32450 non-null  int64  \n",
      "dtypes: float64(7), int64(2), object(2)\n",
      "memory usage: 2.7+ MB\n",
      "None\n"
     ]
    },
    {
     "name": "stderr",
     "output_type": "stream",
     "text": [
      "[W pthreadpool-cpp.cc:90] Warning: Leaking Caffe2 thread-pool after fork. (function pthreadpool)\n",
      "[W pthreadpool-cpp.cc:90] Warning: Leaking Caffe2 thread-pool after fork. (function pthreadpool)\n",
      "[W pthreadpool-cpp.cc:90] Warning: Leaking Caffe2 thread-pool after fork. (function pthreadpool)\n",
      "[W pthreadpool-cpp.cc:90] Warning: Leaking Caffe2 thread-pool after fork. (function pthreadpool)\n"
     ]
    },
    {
     "name": "stdout",
     "output_type": "stream",
     "text": [
      "trainscore is 0.08404846\n"
     ]
    },
    {
     "name": "stderr",
     "output_type": "stream",
     "text": [
      "[W pthreadpool-cpp.cc:90] Warning: Leaking Caffe2 thread-pool after fork. (function pthreadpool)\n",
      "[W pthreadpool-cpp.cc:90] Warning: Leaking Caffe2 thread-pool after fork. (function pthreadpool)\n",
      "[W pthreadpool-cpp.cc:90] Warning: Leaking Caffe2 thread-pool after fork. (function pthreadpool)\n",
      "[W pthreadpool-cpp.cc:90] Warning: Leaking Caffe2 thread-pool after fork. (function pthreadpool)\n"
     ]
    },
    {
     "name": "stdout",
     "output_type": "stream",
     "text": [
      "valscore is 0.07770972\n",
      "found better point\n"
     ]
    },
    {
     "name": "stderr",
     "output_type": "stream",
     "text": [
      "\r",
      " 67%|█████████████████████████████▎              | 2/3 [13:22<06:41, 401.40s/it]"
     ]
    },
    {
     "name": "stdout",
     "output_type": "stream",
     "text": [
      "---------------2start-------------\n",
      "<class 'pandas.core.frame.DataFrame'>\n",
      "RangeIndex: 32450 entries, 0 to 32449\n",
      "Data columns (total 10 columns):\n",
      " #   Column         Non-Null Count  Dtype  \n",
      "---  ------         --------------  -----  \n",
      " 0   comment_text   32450 non-null  object \n",
      " 1   id             32450 non-null  object \n",
      " 2   identity_hate  32450 non-null  float64\n",
      " 3   insult         32450 non-null  float64\n",
      " 4   obscene        32450 non-null  float64\n",
      " 5   severe_toxic   32450 non-null  float64\n",
      " 6   threat         32450 non-null  float64\n",
      " 7   toxic          32450 non-null  float64\n",
      " 8   score          32450 non-null  float64\n",
      " 9   kfold          32450 non-null  int64  \n",
      "dtypes: float64(7), int64(1), object(2)\n",
      "memory usage: 2.5+ MB\n",
      "None\n",
      "<class 'pandas.core.frame.DataFrame'>\n",
      "RangeIndex: 32450 entries, 0 to 32449\n",
      "Data columns (total 11 columns):\n",
      " #   Column         Non-Null Count  Dtype  \n",
      "---  ------         --------------  -----  \n",
      " 0   comment_text   32450 non-null  object \n",
      " 1   id             32450 non-null  object \n",
      " 2   identity_hate  32450 non-null  float64\n",
      " 3   insult         32450 non-null  float64\n",
      " 4   obscene        32450 non-null  float64\n",
      " 5   severe_toxic   32450 non-null  float64\n",
      " 6   threat         32450 non-null  float64\n",
      " 7   toxic          32450 non-null  float64\n",
      " 8   score          32450 non-null  float64\n",
      " 9   kfold          32450 non-null  int64  \n",
      " 10  bins           32450 non-null  int64  \n",
      "dtypes: float64(7), int64(2), object(2)\n",
      "memory usage: 2.7+ MB\n",
      "None\n"
     ]
    },
    {
     "name": "stderr",
     "output_type": "stream",
     "text": [
      "[W pthreadpool-cpp.cc:90] Warning: Leaking Caffe2 thread-pool after fork. (function pthreadpool)\n",
      "[W pthreadpool-cpp.cc:90] Warning: Leaking Caffe2 thread-pool after fork. (function pthreadpool)\n",
      "[W pthreadpool-cpp.cc:90] Warning: Leaking Caffe2 thread-pool after fork. (function pthreadpool)\n",
      "[W pthreadpool-cpp.cc:90] Warning: Leaking Caffe2 thread-pool after fork. (function pthreadpool)\n"
     ]
    },
    {
     "name": "stdout",
     "output_type": "stream",
     "text": [
      "trainscore is 0.07287292\n"
     ]
    },
    {
     "name": "stderr",
     "output_type": "stream",
     "text": [
      "[W pthreadpool-cpp.cc:90] Warning: Leaking Caffe2 thread-pool after fork. (function pthreadpool)\n",
      "[W pthreadpool-cpp.cc:90] Warning: Leaking Caffe2 thread-pool after fork. (function pthreadpool)\n",
      "[W pthreadpool-cpp.cc:90] Warning: Leaking Caffe2 thread-pool after fork. (function pthreadpool)\n",
      "[W pthreadpool-cpp.cc:90] Warning: Leaking Caffe2 thread-pool after fork. (function pthreadpool)\n",
      "100%|████████████████████████████████████████████| 3/3 [19:53<00:00, 397.96s/it]"
     ]
    },
    {
     "name": "stdout",
     "output_type": "stream",
     "text": [
      "valscore is 0.08058021\n",
      "<class 'pandas.core.frame.DataFrame'>\n",
      "RangeIndex: 32450 entries, 0 to 32449\n",
      "Data columns (total 10 columns):\n",
      " #   Column         Non-Null Count  Dtype  \n",
      "---  ------         --------------  -----  \n",
      " 0   comment_text   32450 non-null  object \n",
      " 1   id             32450 non-null  object \n",
      " 2   identity_hate  32450 non-null  float64\n",
      " 3   insult         32450 non-null  float64\n",
      " 4   obscene        32450 non-null  float64\n",
      " 5   severe_toxic   32450 non-null  float64\n",
      " 6   threat         32450 non-null  float64\n",
      " 7   toxic          32450 non-null  float64\n",
      " 8   score          32450 non-null  float64\n",
      " 9   kfold          32450 non-null  int64  \n",
      "dtypes: float64(7), int64(1), object(2)\n",
      "memory usage: 2.5+ MB\n",
      "None\n",
      "<class 'pandas.core.frame.DataFrame'>\n",
      "RangeIndex: 32450 entries, 0 to 32449\n",
      "Data columns (total 11 columns):\n",
      " #   Column         Non-Null Count  Dtype  \n",
      "---  ------         --------------  -----  \n",
      " 0   comment_text   32450 non-null  object \n",
      " 1   id             32450 non-null  object \n",
      " 2   identity_hate  32450 non-null  float64\n",
      " 3   insult         32450 non-null  float64\n",
      " 4   obscene        32450 non-null  float64\n",
      " 5   severe_toxic   32450 non-null  float64\n",
      " 6   threat         32450 non-null  float64\n",
      " 7   toxic          32450 non-null  float64\n",
      " 8   score          32450 non-null  float64\n",
      " 9   kfold          32450 non-null  int64  \n",
      " 10  bins           32450 non-null  int64  \n",
      "dtypes: float64(7), int64(2), object(2)\n",
      "memory usage: 2.7+ MB\n",
      "None\n"
     ]
    },
    {
     "name": "stderr",
     "output_type": "stream",
     "text": [
      "\n",
      "Some weights of the model checkpoint at neoyipeng/twitter-roberta-base-sentiment-mlm were not used when initializing RobertaForSequenceClassification: ['lm_head.dense.bias', 'lm_head.decoder.weight', 'lm_head.layer_norm.weight', 'lm_head.layer_norm.bias', 'lm_head.dense.weight', 'lm_head.decoder.bias', 'lm_head.bias']\n",
      "- This IS expected if you are initializing RobertaForSequenceClassification from the checkpoint of a model trained on another task or with another architecture (e.g. initializing a BertForSequenceClassification model from a BertForPreTraining model).\n",
      "- This IS NOT expected if you are initializing RobertaForSequenceClassification from the checkpoint of a model that you expect to be exactly identical (initializing a BertForSequenceClassification model from a BertForSequenceClassification model).\n",
      "Some weights of RobertaForSequenceClassification were not initialized from the model checkpoint at neoyipeng/twitter-roberta-base-sentiment-mlm and are newly initialized: ['classifier.out_proj.bias', 'classifier.out_proj.weight', 'classifier.dense.bias', 'classifier.dense.weight']\n",
      "You should probably TRAIN this model on a down-stream task to be able to use it for predictions and inference.\n",
      "  0%|                                                     | 0/3 [00:00<?, ?it/s]"
     ]
    },
    {
     "name": "stdout",
     "output_type": "stream",
     "text": [
      "---------------0start-------------\n",
      "<class 'pandas.core.frame.DataFrame'>\n",
      "RangeIndex: 32450 entries, 0 to 32449\n",
      "Data columns (total 10 columns):\n",
      " #   Column         Non-Null Count  Dtype  \n",
      "---  ------         --------------  -----  \n",
      " 0   comment_text   32450 non-null  object \n",
      " 1   id             32450 non-null  object \n",
      " 2   identity_hate  32450 non-null  float64\n",
      " 3   insult         32450 non-null  float64\n",
      " 4   obscene        32450 non-null  float64\n",
      " 5   severe_toxic   32450 non-null  float64\n",
      " 6   threat         32450 non-null  float64\n",
      " 7   toxic          32450 non-null  float64\n",
      " 8   score          32450 non-null  float64\n",
      " 9   kfold          32450 non-null  int64  \n",
      "dtypes: float64(7), int64(1), object(2)\n",
      "memory usage: 2.5+ MB\n",
      "None\n",
      "<class 'pandas.core.frame.DataFrame'>\n",
      "RangeIndex: 32450 entries, 0 to 32449\n",
      "Data columns (total 11 columns):\n",
      " #   Column         Non-Null Count  Dtype  \n",
      "---  ------         --------------  -----  \n",
      " 0   comment_text   32450 non-null  object \n",
      " 1   id             32450 non-null  object \n",
      " 2   identity_hate  32450 non-null  float64\n",
      " 3   insult         32450 non-null  float64\n",
      " 4   obscene        32450 non-null  float64\n",
      " 5   severe_toxic   32450 non-null  float64\n",
      " 6   threat         32450 non-null  float64\n",
      " 7   toxic          32450 non-null  float64\n",
      " 8   score          32450 non-null  float64\n",
      " 9   kfold          32450 non-null  int64  \n",
      " 10  bins           32450 non-null  int64  \n",
      "dtypes: float64(7), int64(2), object(2)\n",
      "memory usage: 2.7+ MB\n",
      "None\n"
     ]
    },
    {
     "name": "stderr",
     "output_type": "stream",
     "text": [
      "[W pthreadpool-cpp.cc:90] Warning: Leaking Caffe2 thread-pool after fork. (function pthreadpool)\n",
      "[W pthreadpool-cpp.cc:90] Warning: Leaking Caffe2 thread-pool after fork. (function pthreadpool)\n",
      "[W pthreadpool-cpp.cc:90] Warning: Leaking Caffe2 thread-pool after fork. (function pthreadpool)\n",
      "[W pthreadpool-cpp.cc:90] Warning: Leaking Caffe2 thread-pool after fork. (function pthreadpool)\n",
      "[W pthreadpool-cpp.cc:90] Warning: Leaking Caffe2 thread-pool after fork. (function pthreadpool)\n"
     ]
    },
    {
     "name": "stdout",
     "output_type": "stream",
     "text": [
      "trainscore is 0.10790482\n"
     ]
    },
    {
     "name": "stderr",
     "output_type": "stream",
     "text": [
      "[W pthreadpool-cpp.cc:90] Warning: Leaking Caffe2 thread-pool after fork. (function pthreadpool)\n",
      "[W pthreadpool-cpp.cc:90] Warning: Leaking Caffe2 thread-pool after fork. (function pthreadpool)\n",
      "[W pthreadpool-cpp.cc:90] Warning: Leaking Caffe2 thread-pool after fork. (function pthreadpool)\n",
      "[W pthreadpool-cpp.cc:90] Warning: Leaking Caffe2 thread-pool after fork. (function pthreadpool)\n"
     ]
    },
    {
     "name": "stdout",
     "output_type": "stream",
     "text": [
      "valscore is 0.083966225\n",
      "Save first model\n"
     ]
    },
    {
     "name": "stderr",
     "output_type": "stream",
     "text": [
      "\r",
      " 33%|██████████████▋                             | 1/3 [06:41<13:23, 401.86s/it]"
     ]
    },
    {
     "name": "stdout",
     "output_type": "stream",
     "text": [
      "---------------1start-------------\n",
      "<class 'pandas.core.frame.DataFrame'>\n",
      "RangeIndex: 32450 entries, 0 to 32449\n",
      "Data columns (total 10 columns):\n",
      " #   Column         Non-Null Count  Dtype  \n",
      "---  ------         --------------  -----  \n",
      " 0   comment_text   32450 non-null  object \n",
      " 1   id             32450 non-null  object \n",
      " 2   identity_hate  32450 non-null  float64\n",
      " 3   insult         32450 non-null  float64\n",
      " 4   obscene        32450 non-null  float64\n",
      " 5   severe_toxic   32450 non-null  float64\n",
      " 6   threat         32450 non-null  float64\n",
      " 7   toxic          32450 non-null  float64\n",
      " 8   score          32450 non-null  float64\n",
      " 9   kfold          32450 non-null  int64  \n",
      "dtypes: float64(7), int64(1), object(2)\n",
      "memory usage: 2.5+ MB\n",
      "None\n",
      "<class 'pandas.core.frame.DataFrame'>\n",
      "RangeIndex: 32450 entries, 0 to 32449\n",
      "Data columns (total 11 columns):\n",
      " #   Column         Non-Null Count  Dtype  \n",
      "---  ------         --------------  -----  \n",
      " 0   comment_text   32450 non-null  object \n",
      " 1   id             32450 non-null  object \n",
      " 2   identity_hate  32450 non-null  float64\n",
      " 3   insult         32450 non-null  float64\n",
      " 4   obscene        32450 non-null  float64\n",
      " 5   severe_toxic   32450 non-null  float64\n",
      " 6   threat         32450 non-null  float64\n",
      " 7   toxic          32450 non-null  float64\n",
      " 8   score          32450 non-null  float64\n",
      " 9   kfold          32450 non-null  int64  \n",
      " 10  bins           32450 non-null  int64  \n",
      "dtypes: float64(7), int64(2), object(2)\n",
      "memory usage: 2.7+ MB\n",
      "None\n"
     ]
    },
    {
     "name": "stderr",
     "output_type": "stream",
     "text": [
      "[W pthreadpool-cpp.cc:90] Warning: Leaking Caffe2 thread-pool after fork. (function pthreadpool)\n",
      "[W pthreadpool-cpp.cc:90] Warning: Leaking Caffe2 thread-pool after fork. (function pthreadpool)\n",
      "[W pthreadpool-cpp.cc:90] Warning: Leaking Caffe2 thread-pool after fork. (function pthreadpool)\n",
      "[W pthreadpool-cpp.cc:90] Warning: Leaking Caffe2 thread-pool after fork. (function pthreadpool)\n"
     ]
    },
    {
     "name": "stdout",
     "output_type": "stream",
     "text": [
      "trainscore is 0.08454394\n"
     ]
    },
    {
     "name": "stderr",
     "output_type": "stream",
     "text": [
      "[W pthreadpool-cpp.cc:90] Warning: Leaking Caffe2 thread-pool after fork. (function pthreadpool)\n",
      "[W pthreadpool-cpp.cc:90] Warning: Leaking Caffe2 thread-pool after fork. (function pthreadpool)\n",
      "[W pthreadpool-cpp.cc:90] Warning: Leaking Caffe2 thread-pool after fork. (function pthreadpool)\n",
      "[W pthreadpool-cpp.cc:90] Warning: Leaking Caffe2 thread-pool after fork. (function pthreadpool)\n"
     ]
    },
    {
     "name": "stdout",
     "output_type": "stream",
     "text": [
      "valscore is 0.08113856\n",
      "found better point\n"
     ]
    },
    {
     "name": "stderr",
     "output_type": "stream",
     "text": [
      "\r",
      " 67%|█████████████████████████████▎              | 2/3 [13:23<06:41, 401.77s/it]"
     ]
    },
    {
     "name": "stdout",
     "output_type": "stream",
     "text": [
      "---------------2start-------------\n",
      "<class 'pandas.core.frame.DataFrame'>\n",
      "RangeIndex: 32450 entries, 0 to 32449\n",
      "Data columns (total 10 columns):\n",
      " #   Column         Non-Null Count  Dtype  \n",
      "---  ------         --------------  -----  \n",
      " 0   comment_text   32450 non-null  object \n",
      " 1   id             32450 non-null  object \n",
      " 2   identity_hate  32450 non-null  float64\n",
      " 3   insult         32450 non-null  float64\n",
      " 4   obscene        32450 non-null  float64\n",
      " 5   severe_toxic   32450 non-null  float64\n",
      " 6   threat         32450 non-null  float64\n",
      " 7   toxic          32450 non-null  float64\n",
      " 8   score          32450 non-null  float64\n",
      " 9   kfold          32450 non-null  int64  \n",
      "dtypes: float64(7), int64(1), object(2)\n",
      "memory usage: 2.5+ MB\n",
      "None\n",
      "<class 'pandas.core.frame.DataFrame'>\n",
      "RangeIndex: 32450 entries, 0 to 32449\n",
      "Data columns (total 11 columns):\n",
      " #   Column         Non-Null Count  Dtype  \n",
      "---  ------         --------------  -----  \n",
      " 0   comment_text   32450 non-null  object \n",
      " 1   id             32450 non-null  object \n",
      " 2   identity_hate  32450 non-null  float64\n",
      " 3   insult         32450 non-null  float64\n",
      " 4   obscene        32450 non-null  float64\n",
      " 5   severe_toxic   32450 non-null  float64\n",
      " 6   threat         32450 non-null  float64\n",
      " 7   toxic          32450 non-null  float64\n",
      " 8   score          32450 non-null  float64\n",
      " 9   kfold          32450 non-null  int64  \n",
      " 10  bins           32450 non-null  int64  \n",
      "dtypes: float64(7), int64(2), object(2)\n",
      "memory usage: 2.7+ MB\n",
      "None\n"
     ]
    },
    {
     "name": "stderr",
     "output_type": "stream",
     "text": [
      "[W pthreadpool-cpp.cc:90] Warning: Leaking Caffe2 thread-pool after fork. (function pthreadpool)\n",
      "[W pthreadpool-cpp.cc:90] Warning: Leaking Caffe2 thread-pool after fork. (function pthreadpool)\n",
      "[W pthreadpool-cpp.cc:90] Warning: Leaking Caffe2 thread-pool after fork. (function pthreadpool)\n",
      "[W pthreadpool-cpp.cc:90] Warning: Leaking Caffe2 thread-pool after fork. (function pthreadpool)\n"
     ]
    },
    {
     "name": "stdout",
     "output_type": "stream",
     "text": [
      "trainscore is 0.07378318\n"
     ]
    },
    {
     "name": "stderr",
     "output_type": "stream",
     "text": [
      "[W pthreadpool-cpp.cc:90] Warning: Leaking Caffe2 thread-pool after fork. (function pthreadpool)\n",
      "[W pthreadpool-cpp.cc:90] Warning: Leaking Caffe2 thread-pool after fork. (function pthreadpool)\n",
      "[W pthreadpool-cpp.cc:90] Warning: Leaking Caffe2 thread-pool after fork. (function pthreadpool)\n",
      "[W pthreadpool-cpp.cc:90] Warning: Leaking Caffe2 thread-pool after fork. (function pthreadpool)\n",
      "100%|████████████████████████████████████████████| 3/3 [19:56<00:00, 398.76s/it]"
     ]
    },
    {
     "name": "stdout",
     "output_type": "stream",
     "text": [
      "valscore is 0.0827837\n",
      "<class 'pandas.core.frame.DataFrame'>\n",
      "RangeIndex: 32450 entries, 0 to 32449\n",
      "Data columns (total 10 columns):\n",
      " #   Column         Non-Null Count  Dtype  \n",
      "---  ------         --------------  -----  \n",
      " 0   comment_text   32450 non-null  object \n",
      " 1   id             32450 non-null  object \n",
      " 2   identity_hate  32450 non-null  float64\n",
      " 3   insult         32450 non-null  float64\n",
      " 4   obscene        32450 non-null  float64\n",
      " 5   severe_toxic   32450 non-null  float64\n",
      " 6   threat         32450 non-null  float64\n",
      " 7   toxic          32450 non-null  float64\n",
      " 8   score          32450 non-null  float64\n",
      " 9   kfold          32450 non-null  int64  \n",
      "dtypes: float64(7), int64(1), object(2)\n",
      "memory usage: 2.5+ MB\n",
      "None\n",
      "<class 'pandas.core.frame.DataFrame'>\n",
      "RangeIndex: 32450 entries, 0 to 32449\n",
      "Data columns (total 11 columns):\n",
      " #   Column         Non-Null Count  Dtype  \n",
      "---  ------         --------------  -----  \n",
      " 0   comment_text   32450 non-null  object \n",
      " 1   id             32450 non-null  object \n",
      " 2   identity_hate  32450 non-null  float64\n",
      " 3   insult         32450 non-null  float64\n",
      " 4   obscene        32450 non-null  float64\n",
      " 5   severe_toxic   32450 non-null  float64\n",
      " 6   threat         32450 non-null  float64\n",
      " 7   toxic          32450 non-null  float64\n",
      " 8   score          32450 non-null  float64\n",
      " 9   kfold          32450 non-null  int64  \n",
      " 10  bins           32450 non-null  int64  \n",
      "dtypes: float64(7), int64(2), object(2)\n",
      "memory usage: 2.7+ MB\n",
      "None\n"
     ]
    },
    {
     "name": "stderr",
     "output_type": "stream",
     "text": [
      "\n",
      "Some weights of the model checkpoint at neoyipeng/twitter-roberta-base-sentiment-mlm were not used when initializing RobertaForSequenceClassification: ['lm_head.dense.bias', 'lm_head.decoder.weight', 'lm_head.layer_norm.weight', 'lm_head.layer_norm.bias', 'lm_head.dense.weight', 'lm_head.decoder.bias', 'lm_head.bias']\n",
      "- This IS expected if you are initializing RobertaForSequenceClassification from the checkpoint of a model trained on another task or with another architecture (e.g. initializing a BertForSequenceClassification model from a BertForPreTraining model).\n",
      "- This IS NOT expected if you are initializing RobertaForSequenceClassification from the checkpoint of a model that you expect to be exactly identical (initializing a BertForSequenceClassification model from a BertForSequenceClassification model).\n",
      "Some weights of RobertaForSequenceClassification were not initialized from the model checkpoint at neoyipeng/twitter-roberta-base-sentiment-mlm and are newly initialized: ['classifier.out_proj.bias', 'classifier.out_proj.weight', 'classifier.dense.bias', 'classifier.dense.weight']\n",
      "You should probably TRAIN this model on a down-stream task to be able to use it for predictions and inference.\n",
      "  0%|                                                     | 0/3 [00:00<?, ?it/s]"
     ]
    },
    {
     "name": "stdout",
     "output_type": "stream",
     "text": [
      "---------------0start-------------\n",
      "<class 'pandas.core.frame.DataFrame'>\n",
      "RangeIndex: 32450 entries, 0 to 32449\n",
      "Data columns (total 10 columns):\n",
      " #   Column         Non-Null Count  Dtype  \n",
      "---  ------         --------------  -----  \n",
      " 0   comment_text   32450 non-null  object \n",
      " 1   id             32450 non-null  object \n",
      " 2   identity_hate  32450 non-null  float64\n",
      " 3   insult         32450 non-null  float64\n",
      " 4   obscene        32450 non-null  float64\n",
      " 5   severe_toxic   32450 non-null  float64\n",
      " 6   threat         32450 non-null  float64\n",
      " 7   toxic          32450 non-null  float64\n",
      " 8   score          32450 non-null  float64\n",
      " 9   kfold          32450 non-null  int64  \n",
      "dtypes: float64(7), int64(1), object(2)\n",
      "memory usage: 2.5+ MB\n",
      "None\n",
      "<class 'pandas.core.frame.DataFrame'>\n",
      "RangeIndex: 32450 entries, 0 to 32449\n",
      "Data columns (total 11 columns):\n",
      " #   Column         Non-Null Count  Dtype  \n",
      "---  ------         --------------  -----  \n",
      " 0   comment_text   32450 non-null  object \n",
      " 1   id             32450 non-null  object \n",
      " 2   identity_hate  32450 non-null  float64\n",
      " 3   insult         32450 non-null  float64\n",
      " 4   obscene        32450 non-null  float64\n",
      " 5   severe_toxic   32450 non-null  float64\n",
      " 6   threat         32450 non-null  float64\n",
      " 7   toxic          32450 non-null  float64\n",
      " 8   score          32450 non-null  float64\n",
      " 9   kfold          32450 non-null  int64  \n",
      " 10  bins           32450 non-null  int64  \n",
      "dtypes: float64(7), int64(2), object(2)\n",
      "memory usage: 2.7+ MB\n",
      "None\n"
     ]
    },
    {
     "name": "stderr",
     "output_type": "stream",
     "text": [
      "[W pthreadpool-cpp.cc:90] Warning: Leaking Caffe2 thread-pool after fork. (function pthreadpool)\n",
      "[W pthreadpool-cpp.cc:90] Warning: Leaking Caffe2 thread-pool after fork. (function pthreadpool)\n",
      "[W pthreadpool-cpp.cc:90] Warning: Leaking Caffe2 thread-pool after fork. (function pthreadpool)\n",
      "[W pthreadpool-cpp.cc:90] Warning: Leaking Caffe2 thread-pool after fork. (function pthreadpool)\n",
      "[W pthreadpool-cpp.cc:90] Warning: Leaking Caffe2 thread-pool after fork. (function pthreadpool)\n",
      "[W pthreadpool-cpp.cc:90] Warning: Leaking Caffe2 thread-pool after fork. (function pthreadpool)\n"
     ]
    },
    {
     "name": "stdout",
     "output_type": "stream",
     "text": [
      "trainscore is 0.10746204\n"
     ]
    },
    {
     "name": "stderr",
     "output_type": "stream",
     "text": [
      "[W pthreadpool-cpp.cc:90] Warning: Leaking Caffe2 thread-pool after fork. (function pthreadpool)\n",
      "[W pthreadpool-cpp.cc:90] Warning: Leaking Caffe2 thread-pool after fork. (function pthreadpool)\n",
      "[W pthreadpool-cpp.cc:90] Warning: Leaking Caffe2 thread-pool after fork. (function pthreadpool)\n",
      "[W pthreadpool-cpp.cc:90] Warning: Leaking Caffe2 thread-pool after fork. (function pthreadpool)\n",
      "[W pthreadpool-cpp.cc:90] Warning: Leaking Caffe2 thread-pool after fork. (function pthreadpool)\n"
     ]
    },
    {
     "name": "stdout",
     "output_type": "stream",
     "text": [
      "valscore is 0.081687376\n",
      "Save first model\n"
     ]
    },
    {
     "name": "stderr",
     "output_type": "stream",
     "text": [
      "\r",
      " 33%|██████████████▋                             | 1/3 [06:41<13:23, 401.97s/it]"
     ]
    },
    {
     "name": "stdout",
     "output_type": "stream",
     "text": [
      "---------------1start-------------\n",
      "<class 'pandas.core.frame.DataFrame'>\n",
      "RangeIndex: 32450 entries, 0 to 32449\n",
      "Data columns (total 10 columns):\n",
      " #   Column         Non-Null Count  Dtype  \n",
      "---  ------         --------------  -----  \n",
      " 0   comment_text   32450 non-null  object \n",
      " 1   id             32450 non-null  object \n",
      " 2   identity_hate  32450 non-null  float64\n",
      " 3   insult         32450 non-null  float64\n",
      " 4   obscene        32450 non-null  float64\n",
      " 5   severe_toxic   32450 non-null  float64\n",
      " 6   threat         32450 non-null  float64\n",
      " 7   toxic          32450 non-null  float64\n",
      " 8   score          32450 non-null  float64\n",
      " 9   kfold          32450 non-null  int64  \n",
      "dtypes: float64(7), int64(1), object(2)\n",
      "memory usage: 2.5+ MB\n",
      "None\n",
      "<class 'pandas.core.frame.DataFrame'>\n",
      "RangeIndex: 32450 entries, 0 to 32449\n",
      "Data columns (total 11 columns):\n",
      " #   Column         Non-Null Count  Dtype  \n",
      "---  ------         --------------  -----  \n",
      " 0   comment_text   32450 non-null  object \n",
      " 1   id             32450 non-null  object \n",
      " 2   identity_hate  32450 non-null  float64\n",
      " 3   insult         32450 non-null  float64\n",
      " 4   obscene        32450 non-null  float64\n",
      " 5   severe_toxic   32450 non-null  float64\n",
      " 6   threat         32450 non-null  float64\n",
      " 7   toxic          32450 non-null  float64\n",
      " 8   score          32450 non-null  float64\n",
      " 9   kfold          32450 non-null  int64  \n",
      " 10  bins           32450 non-null  int64  \n",
      "dtypes: float64(7), int64(2), object(2)\n",
      "memory usage: 2.7+ MB\n",
      "None\n"
     ]
    },
    {
     "name": "stderr",
     "output_type": "stream",
     "text": [
      "[W pthreadpool-cpp.cc:90] Warning: Leaking Caffe2 thread-pool after fork. (function pthreadpool)\n",
      "[W pthreadpool-cpp.cc:90] Warning: Leaking Caffe2 thread-pool after fork. (function pthreadpool)\n",
      "[W pthreadpool-cpp.cc:90] Warning: Leaking Caffe2 thread-pool after fork. (function pthreadpool)\n",
      "[W pthreadpool-cpp.cc:90] Warning: Leaking Caffe2 thread-pool after fork. (function pthreadpool)\n"
     ]
    },
    {
     "name": "stdout",
     "output_type": "stream",
     "text": [
      "trainscore is 0.084114194\n"
     ]
    },
    {
     "name": "stderr",
     "output_type": "stream",
     "text": [
      "[W pthreadpool-cpp.cc:90] Warning: Leaking Caffe2 thread-pool after fork. (function pthreadpool)\n",
      "[W pthreadpool-cpp.cc:90] Warning: Leaking Caffe2 thread-pool after fork. (function pthreadpool)\n",
      "[W pthreadpool-cpp.cc:90] Warning: Leaking Caffe2 thread-pool after fork. (function pthreadpool)\n",
      "[W pthreadpool-cpp.cc:90] Warning: Leaking Caffe2 thread-pool after fork. (function pthreadpool)\n",
      " 67%|█████████████████████████████▎              | 2/3 [13:13<06:35, 395.54s/it]"
     ]
    },
    {
     "name": "stdout",
     "output_type": "stream",
     "text": [
      "valscore is 0.08256759\n",
      "---------------2start-------------\n",
      "<class 'pandas.core.frame.DataFrame'>\n",
      "RangeIndex: 32450 entries, 0 to 32449\n",
      "Data columns (total 10 columns):\n",
      " #   Column         Non-Null Count  Dtype  \n",
      "---  ------         --------------  -----  \n",
      " 0   comment_text   32450 non-null  object \n",
      " 1   id             32450 non-null  object \n",
      " 2   identity_hate  32450 non-null  float64\n",
      " 3   insult         32450 non-null  float64\n",
      " 4   obscene        32450 non-null  float64\n",
      " 5   severe_toxic   32450 non-null  float64\n",
      " 6   threat         32450 non-null  float64\n",
      " 7   toxic          32450 non-null  float64\n",
      " 8   score          32450 non-null  float64\n",
      " 9   kfold          32450 non-null  int64  \n",
      "dtypes: float64(7), int64(1), object(2)\n",
      "memory usage: 2.5+ MB\n",
      "None\n",
      "<class 'pandas.core.frame.DataFrame'>\n",
      "RangeIndex: 32450 entries, 0 to 32449\n",
      "Data columns (total 11 columns):\n",
      " #   Column         Non-Null Count  Dtype  \n",
      "---  ------         --------------  -----  \n",
      " 0   comment_text   32450 non-null  object \n",
      " 1   id             32450 non-null  object \n",
      " 2   identity_hate  32450 non-null  float64\n",
      " 3   insult         32450 non-null  float64\n",
      " 4   obscene        32450 non-null  float64\n",
      " 5   severe_toxic   32450 non-null  float64\n",
      " 6   threat         32450 non-null  float64\n",
      " 7   toxic          32450 non-null  float64\n",
      " 8   score          32450 non-null  float64\n",
      " 9   kfold          32450 non-null  int64  \n",
      " 10  bins           32450 non-null  int64  \n",
      "dtypes: float64(7), int64(2), object(2)\n",
      "memory usage: 2.7+ MB\n",
      "None\n"
     ]
    },
    {
     "name": "stderr",
     "output_type": "stream",
     "text": [
      "[W pthreadpool-cpp.cc:90] Warning: Leaking Caffe2 thread-pool after fork. (function pthreadpool)\n",
      "[W pthreadpool-cpp.cc:90] Warning: Leaking Caffe2 thread-pool after fork. (function pthreadpool)\n",
      "[W pthreadpool-cpp.cc:90] Warning: Leaking Caffe2 thread-pool after fork. (function pthreadpool)\n",
      "[W pthreadpool-cpp.cc:90] Warning: Leaking Caffe2 thread-pool after fork. (function pthreadpool)\n"
     ]
    },
    {
     "name": "stdout",
     "output_type": "stream",
     "text": [
      "trainscore is 0.07259597\n"
     ]
    },
    {
     "name": "stderr",
     "output_type": "stream",
     "text": [
      "[W pthreadpool-cpp.cc:90] Warning: Leaking Caffe2 thread-pool after fork. (function pthreadpool)\n",
      "[W pthreadpool-cpp.cc:90] Warning: Leaking Caffe2 thread-pool after fork. (function pthreadpool)\n",
      "[W pthreadpool-cpp.cc:90] Warning: Leaking Caffe2 thread-pool after fork. (function pthreadpool)\n",
      "[W pthreadpool-cpp.cc:90] Warning: Leaking Caffe2 thread-pool after fork. (function pthreadpool)\n"
     ]
    },
    {
     "name": "stdout",
     "output_type": "stream",
     "text": [
      "valscore is 0.08025816\n",
      "found better point\n"
     ]
    },
    {
     "name": "stderr",
     "output_type": "stream",
     "text": [
      "100%|████████████████████████████████████████████| 3/3 [19:54<00:00, 398.09s/it]\n"
     ]
    },
    {
     "name": "stdout",
     "output_type": "stream",
     "text": [
      "<class 'pandas.core.frame.DataFrame'>\n",
      "RangeIndex: 32450 entries, 0 to 32449\n",
      "Data columns (total 10 columns):\n",
      " #   Column         Non-Null Count  Dtype  \n",
      "---  ------         --------------  -----  \n",
      " 0   comment_text   32450 non-null  object \n",
      " 1   id             32450 non-null  object \n",
      " 2   identity_hate  32450 non-null  float64\n",
      " 3   insult         32450 non-null  float64\n",
      " 4   obscene        32450 non-null  float64\n",
      " 5   severe_toxic   32450 non-null  float64\n",
      " 6   threat         32450 non-null  float64\n",
      " 7   toxic          32450 non-null  float64\n",
      " 8   score          32450 non-null  float64\n",
      " 9   kfold          32450 non-null  int64  \n",
      "dtypes: float64(7), int64(1), object(2)\n",
      "memory usage: 2.5+ MB\n",
      "None\n",
      "<class 'pandas.core.frame.DataFrame'>\n",
      "RangeIndex: 32450 entries, 0 to 32449\n",
      "Data columns (total 11 columns):\n",
      " #   Column         Non-Null Count  Dtype  \n",
      "---  ------         --------------  -----  \n",
      " 0   comment_text   32450 non-null  object \n",
      " 1   id             32450 non-null  object \n",
      " 2   identity_hate  32450 non-null  float64\n",
      " 3   insult         32450 non-null  float64\n",
      " 4   obscene        32450 non-null  float64\n",
      " 5   severe_toxic   32450 non-null  float64\n",
      " 6   threat         32450 non-null  float64\n",
      " 7   toxic          32450 non-null  float64\n",
      " 8   score          32450 non-null  float64\n",
      " 9   kfold          32450 non-null  int64  \n",
      " 10  bins           32450 non-null  int64  \n",
      "dtypes: float64(7), int64(2), object(2)\n",
      "memory usage: 2.7+ MB\n",
      "None\n"
     ]
    },
    {
     "name": "stderr",
     "output_type": "stream",
     "text": [
      "Some weights of the model checkpoint at neoyipeng/twitter-roberta-base-sentiment-mlm were not used when initializing RobertaForSequenceClassification: ['lm_head.dense.bias', 'lm_head.decoder.weight', 'lm_head.layer_norm.weight', 'lm_head.layer_norm.bias', 'lm_head.dense.weight', 'lm_head.decoder.bias', 'lm_head.bias']\n",
      "- This IS expected if you are initializing RobertaForSequenceClassification from the checkpoint of a model trained on another task or with another architecture (e.g. initializing a BertForSequenceClassification model from a BertForPreTraining model).\n",
      "- This IS NOT expected if you are initializing RobertaForSequenceClassification from the checkpoint of a model that you expect to be exactly identical (initializing a BertForSequenceClassification model from a BertForSequenceClassification model).\n",
      "Some weights of RobertaForSequenceClassification were not initialized from the model checkpoint at neoyipeng/twitter-roberta-base-sentiment-mlm and are newly initialized: ['classifier.out_proj.bias', 'classifier.out_proj.weight', 'classifier.dense.bias', 'classifier.dense.weight']\n",
      "You should probably TRAIN this model on a down-stream task to be able to use it for predictions and inference.\n"
     ]
    },
    {
     "name": "stdout",
     "output_type": "stream",
     "text": [
      "['/home/thomas/Schreibtisch/Data Science/Preprocessing lib test/model4.pth', '/home/thomas/Schreibtisch/Data Science/Preprocessing lib test/model0.pth', '/home/thomas/Schreibtisch/Data Science/Preprocessing lib test/model3.pth', '/home/thomas/Schreibtisch/Data Science/Preprocessing lib test/model2.pth', '/home/thomas/Schreibtisch/Data Science/Preprocessing lib test/model1.pth']\n"
     ]
    },
    {
     "name": "stderr",
     "output_type": "stream",
     "text": [
      "[W pthreadpool-cpp.cc:90] Warning: Leaking Caffe2 thread-pool after fork. (function pthreadpool)\n",
      "[W pthreadpool-cpp.cc:90] Warning: Leaking Caffe2 thread-pool after fork. (function pthreadpool)\n",
      "[W pthreadpool-cpp.cc:90] Warning: Leaking Caffe2 thread-pool after fork. (function pthreadpool)\n",
      "[W pthreadpool-cpp.cc:90] Warning: Leaking Caffe2 thread-pool after fork. (function pthreadpool)\n",
      "[W pthreadpool-cpp.cc:90] Warning: Leaking Caffe2 thread-pool after fork. (function pthreadpool)\n",
      "[W pthreadpool-cpp.cc:90] Warning: Leaking Caffe2 thread-pool after fork. (function pthreadpool)\n",
      "[W pthreadpool-cpp.cc:90] Warning: Leaking Caffe2 thread-pool after fork. (function pthreadpool)\n",
      "[W pthreadpool-cpp.cc:90] Warning: Leaking Caffe2 thread-pool after fork. (function pthreadpool)\n",
      "[W pthreadpool-cpp.cc:90] Warning: Leaking Caffe2 thread-pool after fork. (function pthreadpool)\n",
      "[W pthreadpool-cpp.cc:90] Warning: Leaking Caffe2 thread-pool after fork. (function pthreadpool)\n",
      "[W pthreadpool-cpp.cc:90] Warning: Leaking Caffe2 thread-pool after fork. (function pthreadpool)\n",
      "[W pthreadpool-cpp.cc:90] Warning: Leaking Caffe2 thread-pool after fork. (function pthreadpool)\n",
      "[W pthreadpool-cpp.cc:90] Warning: Leaking Caffe2 thread-pool after fork. (function pthreadpool)\n",
      "[W pthreadpool-cpp.cc:90] Warning: Leaking Caffe2 thread-pool after fork. (function pthreadpool)\n",
      "[W pthreadpool-cpp.cc:90] Warning: Leaking Caffe2 thread-pool after fork. (function pthreadpool)\n",
      "[W pthreadpool-cpp.cc:90] Warning: Leaking Caffe2 thread-pool after fork. (function pthreadpool)\n",
      "[W pthreadpool-cpp.cc:90] Warning: Leaking Caffe2 thread-pool after fork. (function pthreadpool)\n",
      "[W pthreadpool-cpp.cc:90] Warning: Leaking Caffe2 thread-pool after fork. (function pthreadpool)\n",
      "[W pthreadpool-cpp.cc:90] Warning: Leaking Caffe2 thread-pool after fork. (function pthreadpool)\n",
      "[W pthreadpool-cpp.cc:90] Warning: Leaking Caffe2 thread-pool after fork. (function pthreadpool)\n"
     ]
    },
    {
     "name": "stdout",
     "output_type": "stream",
     "text": [
      "The R2 score is 0.7668251735952418\n",
      "The MAE score is 0.03632107367691607\n",
      "The Median absolute error score is 0.01262238220622142\n",
      "The MSE score is 0.06600539522029299\n",
      "The RMSE score is 0.004356712198187076\n"
     ]
    }
   ],
   "source": [
    "toxic_ml.ml_bp16_regressions_full_processing_bert_transformer()"
   ]
  },
  {
   "cell_type": "code",
   "execution_count": 10,
   "id": "945cb5cc",
   "metadata": {},
   "outputs": [],
   "source": [
    "from e2eml.full_processing.postprocessing import save_to_production, load_for_production\n",
    "import gc\n",
    "# Save pipeline\n",
    "save_to_production(toxic_ml, file_name='toxic_ml_bert_instance')"
   ]
  },
  {
   "cell_type": "markdown",
   "id": "0a7e8a39",
   "metadata": {},
   "source": [
    "# Test on holdout set"
   ]
  },
  {
   "cell_type": "code",
   "execution_count": 11,
   "id": "234dbe29",
   "metadata": {
    "scrolled": true
   },
   "outputs": [
    {
     "name": "stdout",
     "output_type": "stream",
     "text": [
      "Started Execute test train split at 20:19:31.\n",
      "Started Handle rare features at 20:19:31.\n",
      "Started Sort columns alphabetically at 20:19:31.\n"
     ]
    },
    {
     "name": "stderr",
     "output_type": "stream",
     "text": [
      "Some weights of the model checkpoint at neoyipeng/twitter-roberta-base-sentiment-mlm were not used when initializing RobertaForSequenceClassification: ['lm_head.dense.bias', 'lm_head.decoder.weight', 'lm_head.layer_norm.weight', 'lm_head.layer_norm.bias', 'lm_head.dense.weight', 'lm_head.decoder.bias', 'lm_head.bias']\n",
      "- This IS expected if you are initializing RobertaForSequenceClassification from the checkpoint of a model trained on another task or with another architecture (e.g. initializing a BertForSequenceClassification model from a BertForPreTraining model).\n",
      "- This IS NOT expected if you are initializing RobertaForSequenceClassification from the checkpoint of a model that you expect to be exactly identical (initializing a BertForSequenceClassification model from a BertForSequenceClassification model).\n",
      "Some weights of RobertaForSequenceClassification were not initialized from the model checkpoint at neoyipeng/twitter-roberta-base-sentiment-mlm and are newly initialized: ['classifier.out_proj.bias', 'classifier.out_proj.weight', 'classifier.dense.bias', 'classifier.dense.weight']\n",
      "You should probably TRAIN this model on a down-stream task to be able to use it for predictions and inference.\n",
      "Some weights of the model checkpoint at neoyipeng/twitter-roberta-base-sentiment-mlm were not used when initializing RobertaForSequenceClassification: ['lm_head.dense.bias', 'lm_head.decoder.weight', 'lm_head.layer_norm.weight', 'lm_head.layer_norm.bias', 'lm_head.dense.weight', 'lm_head.decoder.bias', 'lm_head.bias']\n",
      "- This IS expected if you are initializing RobertaForSequenceClassification from the checkpoint of a model trained on another task or with another architecture (e.g. initializing a BertForSequenceClassification model from a BertForPreTraining model).\n",
      "- This IS NOT expected if you are initializing RobertaForSequenceClassification from the checkpoint of a model that you expect to be exactly identical (initializing a BertForSequenceClassification model from a BertForSequenceClassification model).\n",
      "Some weights of RobertaForSequenceClassification were not initialized from the model checkpoint at neoyipeng/twitter-roberta-base-sentiment-mlm and are newly initialized: ['classifier.out_proj.bias', 'classifier.out_proj.weight', 'classifier.dense.bias', 'classifier.dense.weight']\n",
      "You should probably TRAIN this model on a down-stream task to be able to use it for predictions and inference.\n"
     ]
    },
    {
     "name": "stdout",
     "output_type": "stream",
     "text": [
      "['/home/thomas/Schreibtisch/Data Science/Preprocessing lib test/model4.pth', '/home/thomas/Schreibtisch/Data Science/Preprocessing lib test/model0.pth', '/home/thomas/Schreibtisch/Data Science/Preprocessing lib test/model3.pth', '/home/thomas/Schreibtisch/Data Science/Preprocessing lib test/model2.pth', '/home/thomas/Schreibtisch/Data Science/Preprocessing lib test/model1.pth']\n"
     ]
    },
    {
     "name": "stderr",
     "output_type": "stream",
     "text": [
      "[W pthreadpool-cpp.cc:90] Warning: Leaking Caffe2 thread-pool after fork. (function pthreadpool)\n",
      "[W pthreadpool-cpp.cc:90] Warning: Leaking Caffe2 thread-pool after fork. (function pthreadpool)\n",
      "[W pthreadpool-cpp.cc:90] Warning: Leaking Caffe2 thread-pool after fork. (function pthreadpool)\n",
      "[W pthreadpool-cpp.cc:90] Warning: Leaking Caffe2 thread-pool after fork. (function pthreadpool)\n",
      "[W pthreadpool-cpp.cc:90] Warning: Leaking Caffe2 thread-pool after fork. (function pthreadpool)\n",
      "[W pthreadpool-cpp.cc:90] Warning: Leaking Caffe2 thread-pool after fork. (function pthreadpool)\n",
      "[W pthreadpool-cpp.cc:90] Warning: Leaking Caffe2 thread-pool after fork. (function pthreadpool)\n",
      "[W pthreadpool-cpp.cc:90] Warning: Leaking Caffe2 thread-pool after fork. (function pthreadpool)\n",
      "[W pthreadpool-cpp.cc:90] Warning: Leaking Caffe2 thread-pool after fork. (function pthreadpool)\n",
      "[W pthreadpool-cpp.cc:90] Warning: Leaking Caffe2 thread-pool after fork. (function pthreadpool)\n",
      "[W pthreadpool-cpp.cc:90] Warning: Leaking Caffe2 thread-pool after fork. (function pthreadpool)\n",
      "[W pthreadpool-cpp.cc:90] Warning: Leaking Caffe2 thread-pool after fork. (function pthreadpool)\n",
      "[W pthreadpool-cpp.cc:90] Warning: Leaking Caffe2 thread-pool after fork. (function pthreadpool)\n",
      "[W pthreadpool-cpp.cc:90] Warning: Leaking Caffe2 thread-pool after fork. (function pthreadpool)\n",
      "[W pthreadpool-cpp.cc:90] Warning: Leaking Caffe2 thread-pool after fork. (function pthreadpool)\n",
      "[W pthreadpool-cpp.cc:90] Warning: Leaking Caffe2 thread-pool after fork. (function pthreadpool)\n",
      "[W pthreadpool-cpp.cc:90] Warning: Leaking Caffe2 thread-pool after fork. (function pthreadpool)\n",
      "[W pthreadpool-cpp.cc:90] Warning: Leaking Caffe2 thread-pool after fork. (function pthreadpool)\n",
      "[W pthreadpool-cpp.cc:90] Warning: Leaking Caffe2 thread-pool after fork. (function pthreadpool)\n",
      "[W pthreadpool-cpp.cc:90] Warning: Leaking Caffe2 thread-pool after fork. (function pthreadpool)\n"
     ]
    }
   ],
   "source": [
    "toxic_ml.ml_bp16_regressions_full_processing_bert_transformer(val_df)"
   ]
  },
  {
   "cell_type": "code",
   "execution_count": 12,
   "id": "1cbd7b5d",
   "metadata": {},
   "outputs": [
    {
     "data": {
      "text/plain": [
       "0      -0.001790\n",
       "1      -0.002693\n",
       "2       0.137523\n",
       "3       0.078491\n",
       "4       0.184188\n",
       "          ...   \n",
       "1995    0.031827\n",
       "1996   -0.000405\n",
       "1997    0.000538\n",
       "1998    0.052142\n",
       "1999   -0.006482\n",
       "Name: transformers_mean, Length: 2000, dtype: float32"
      ]
     },
     "execution_count": 12,
     "metadata": {},
     "output_type": "execute_result"
    }
   ],
   "source": [
    "val_y_hat = toxic_ml.predicted_values[\"nlp_transformer\"]\n",
    "val_y_hat"
   ]
  },
  {
   "cell_type": "code",
   "execution_count": 13,
   "id": "1edc88f3",
   "metadata": {},
   "outputs": [],
   "source": [
    "from sklearn.metrics import mean_absolute_error"
   ]
  },
  {
   "cell_type": "markdown",
   "id": "a639e1f7",
   "metadata": {},
   "source": [
    "# Individual model performance"
   ]
  },
  {
   "cell_type": "code",
   "execution_count": 14,
   "id": "e57c9e1d",
   "metadata": {},
   "outputs": [
    {
     "name": "stdout",
     "output_type": "stream",
     "text": [
      "0.03585176950653914\n"
     ]
    }
   ],
   "source": [
    "mae = mean_absolute_error(val_df_target, val_y_hat)\n",
    "print(mae)"
   ]
  },
  {
   "cell_type": "code",
   "execution_count": null,
   "id": "d87d45e9",
   "metadata": {},
   "outputs": [],
   "source": []
  }
 ],
 "metadata": {
  "kernelspec": {
   "display_name": "Python 3 (ipykernel)",
   "language": "python",
   "name": "python3"
  },
  "language_info": {
   "codemirror_mode": {
    "name": "ipython",
    "version": 3
   },
   "file_extension": ".py",
   "mimetype": "text/x-python",
   "name": "python",
   "nbconvert_exporter": "python",
   "pygments_lexer": "ipython3",
   "version": "3.8.12"
  }
 },
 "nbformat": 4,
 "nbformat_minor": 5
}
