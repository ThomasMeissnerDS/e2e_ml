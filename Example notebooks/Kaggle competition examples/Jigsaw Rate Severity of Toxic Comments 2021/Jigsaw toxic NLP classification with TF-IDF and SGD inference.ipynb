{
 "cells": [
  {
   "cell_type": "code",
   "execution_count": 1,
   "metadata": {
    "execution": {
     "iopub.execute_input": "2022-01-21T10:59:58.750602Z",
     "iopub.status.busy": "2022-01-21T10:59:58.749906Z",
     "iopub.status.idle": "2022-01-21T11:00:54.095489Z",
     "shell.execute_reply": "2022-01-21T11:00:54.094327Z",
     "shell.execute_reply.started": "2022-01-21T10:59:58.750485Z"
    }
   },
   "outputs": [],
   "source": [
    "!pip install interface_meta --no-index --find-links=file:../input/e2eml-inc-dependencies/interface_meta-1.2.4-py2.py3-none-any.whl\n",
    "!pip install astor --no-index --find-links=file:../input/e2eml-inc-dependencies/astor-0.8.1-py2.py3-none-any.whl\n",
    "!pip install formulaic --no-index --find-links=file:../input/formulaic/formulaic-0.2.4-py3-none-any.whl\n",
    "!pip install autograd --no-index --find-links=file:../input/e2eml-inc-dependencies/autograd-1.3-py3-none-any.whl\n",
    "!pip install autograd-gamma --no-index --find-links=file:../input/e2eml-inc-dependencies/autograd-gamma-0.5.0/dist/autograd-gamma-0.5.0.tar\n",
    "!pip install lifelines --no-index --find-links=file:../input/lifelines/lifelines-0.26.4-py3-none-any.whl\n",
    "!pip install ngboost --no-index --find-links=file:../input/e2eml-inc-dependencies/ngboost-0.3.12-py3-none-any.whl"
   ]
  },
  {
   "cell_type": "code",
   "execution_count": 2,
   "metadata": {
    "execution": {
     "iopub.execute_input": "2022-01-21T11:00:54.098577Z",
     "iopub.status.busy": "2022-01-21T11:00:54.098279Z",
     "iopub.status.idle": "2022-01-21T11:01:09.088692Z",
     "shell.execute_reply": "2022-01-21T11:01:09.087987Z",
     "shell.execute_reply.started": "2022-01-21T11:00:54.098544Z"
    }
   },
   "outputs": [],
   "source": [
    "!pip install boostaroota --no-index --find-links=file:../input/e2eml-inc-dependencies/boostaroota-1.3-py2.py3-none-any.whl\n",
    "!pip install matplotlib --no-index --find-links=file:../input/e2eml-inc-dependencies/matplotlib-3.1.3-cp38-cp38-manylinux1_x86_64.whl"
   ]
  },
  {
   "cell_type": "code",
   "execution_count": 3,
   "metadata": {
    "execution": {
     "iopub.execute_input": "2022-01-21T11:01:09.103050Z",
     "iopub.status.busy": "2022-01-21T11:01:09.102844Z",
     "iopub.status.idle": "2022-01-21T11:01:16.577664Z",
     "shell.execute_reply": "2022-01-21T11:01:16.576847Z",
     "shell.execute_reply.started": "2022-01-21T11:01:09.103023Z"
    }
   },
   "outputs": [],
   "source": [
    "!pip install catboost --no-index --find-links=file:../input/e2eml-inc-dependencies/catboost-0.21-cp38-none-manylinux1_x86_64.whl"
   ]
  },
  {
   "cell_type": "code",
   "execution_count": 4,
   "metadata": {
    "execution": {
     "iopub.execute_input": "2022-01-21T11:01:16.580099Z",
     "iopub.status.busy": "2022-01-21T11:01:16.579751Z",
     "iopub.status.idle": "2022-01-21T11:01:24.084073Z",
     "shell.execute_reply": "2022-01-21T11:01:24.083051Z",
     "shell.execute_reply.started": "2022-01-21T11:01:16.580057Z"
    }
   },
   "outputs": [],
   "source": [
    "!pip install pytorch_tabnet --no-index --find-links=file:../input/e2eml-inc-dependencies/pytorch_tabnet-3.1.1-py3-none-any.whl"
   ]
  },
  {
   "cell_type": "code",
   "execution_count": 5,
   "metadata": {
    "execution": {
     "iopub.execute_input": "2022-01-21T11:01:24.086486Z",
     "iopub.status.busy": "2022-01-21T11:01:24.085860Z",
     "iopub.status.idle": "2022-01-21T11:01:31.423104Z",
     "shell.execute_reply": "2022-01-21T11:01:31.422268Z",
     "shell.execute_reply.started": "2022-01-21T11:01:24.086440Z"
    }
   },
   "outputs": [],
   "source": [
    "!pip install shap --no-index --find-links=file:../input/e2eml-inc-dependencies/shap-0.39.0-cp35-cp35m-linux_armv6l.whl"
   ]
  },
  {
   "cell_type": "code",
   "execution_count": 6,
   "metadata": {
    "execution": {
     "iopub.execute_input": "2022-01-21T11:01:31.427463Z",
     "iopub.status.busy": "2022-01-21T11:01:31.426538Z",
     "iopub.status.idle": "2022-01-21T11:01:33.766548Z",
     "shell.execute_reply": "2022-01-21T11:01:33.765768Z",
     "shell.execute_reply.started": "2022-01-21T11:01:31.427414Z"
    }
   },
   "outputs": [],
   "source": [
    "!pip install e2eml --no-index --no-dependencies --find-links=file:../input/e2eml-inc-dependencies/e2eml-2.10.4-py3-none-any.whl"
   ]
  },
  {
   "cell_type": "code",
   "execution_count": 7,
   "metadata": {
    "execution": {
     "iopub.execute_input": "2022-01-21T11:01:33.768347Z",
     "iopub.status.busy": "2022-01-21T11:01:33.768010Z",
     "iopub.status.idle": "2022-01-21T11:03:09.366904Z",
     "shell.execute_reply": "2022-01-21T11:03:09.366130Z",
     "shell.execute_reply.started": "2022-01-21T11:01:33.768309Z"
    }
   },
   "outputs": [],
   "source": [
    "import pandas as pd\n",
    "import numpy as np\n",
    "import nltk\n",
    "from nltk.corpus import stopwords\n",
    "# load libraries\n",
    "from e2eml.regression import regression_blueprints\n",
    "from e2eml.full_processing import postprocessing\n",
    "from e2eml.full_processing.postprocessing import save_to_production, load_for_production\n",
    "import gc"
   ]
  },
  {
   "cell_type": "code",
   "execution_count": 14,
   "metadata": {
    "execution": {
     "iopub.execute_input": "2022-01-21T11:05:10.117518Z",
     "iopub.status.busy": "2022-01-21T11:05:10.116479Z",
     "iopub.status.idle": "2022-01-21T11:05:10.124792Z",
     "shell.execute_reply": "2022-01-21T11:05:10.123984Z",
     "shell.execute_reply.started": "2022-01-21T11:05:10.117464Z"
    }
   },
   "outputs": [],
   "source": [
    "target = \"score\""
   ]
  },
  {
   "cell_type": "code",
   "execution_count": 15,
   "metadata": {
    "execution": {
     "iopub.execute_input": "2022-01-21T11:05:10.127027Z",
     "iopub.status.busy": "2022-01-21T11:05:10.126388Z",
     "iopub.status.idle": "2022-01-21T11:05:10.189166Z",
     "shell.execute_reply": "2022-01-21T11:05:10.188367Z",
     "shell.execute_reply.started": "2022-01-21T11:05:10.126986Z"
    }
   },
   "outputs": [],
   "source": [
    "df_train = pd.read_csv(\"../input/jigsaw-toxic-severity-rating/comments_to_score.csv\")\n",
    "df_train = df_train.rename(columns={\"text\": \"comment_text\"})"
   ]
  },
  {
   "cell_type": "code",
   "execution_count": 16,
   "metadata": {
    "execution": {
     "iopub.execute_input": "2022-01-21T11:05:10.190794Z",
     "iopub.status.busy": "2022-01-21T11:05:10.190358Z",
     "iopub.status.idle": "2022-01-21T11:05:10.209731Z",
     "shell.execute_reply": "2022-01-21T11:05:10.208751Z",
     "shell.execute_reply.started": "2022-01-21T11:05:10.190760Z"
    }
   },
   "outputs": [],
   "source": [
    "df_train"
   ]
  },
  {
   "cell_type": "code",
   "execution_count": 17,
   "metadata": {
    "execution": {
     "iopub.execute_input": "2022-01-21T11:05:10.211582Z",
     "iopub.status.busy": "2022-01-21T11:05:10.211185Z",
     "iopub.status.idle": "2022-01-21T11:05:10.220236Z",
     "shell.execute_reply": "2022-01-21T11:05:10.219249Z",
     "shell.execute_reply.started": "2022-01-21T11:05:10.211540Z"
    }
   },
   "outputs": [],
   "source": [
    "batch_size = 2500\n",
    "max_len = len(df_train.index)\n",
    "\n",
    "if max_len%batch_size == 0:\n",
    "    nb_batches = int(max_len/batch_size)\n",
    "else:\n",
    "    nb_batches = int(max_len/batch_size + 1)"
   ]
  },
  {
   "cell_type": "code",
   "execution_count": 20,
   "metadata": {
    "execution": {
     "iopub.execute_input": "2022-01-21T11:08:50.273733Z",
     "iopub.status.busy": "2022-01-21T11:08:50.272833Z",
     "iopub.status.idle": "2022-01-21T11:09:33.946920Z",
     "shell.execute_reply": "2022-01-21T11:09:33.945838Z",
     "shell.execute_reply.started": "2022-01-21T11:08:50.273670Z"
    }
   },
   "outputs": [],
   "source": [
    "results = []\n",
    "already_batched = 0\n",
    "\n",
    "for batch in range(nb_batches):\n",
    "    start_idx = already_batched\n",
    "    end_idx = already_batched + batch_size\n",
    "    if max_len - already_batched < batch_size:\n",
    "        batch_size = max_len-already_batched\n",
    "        end_idx = already_batched + batch_size\n",
    "    \n",
    "    temp_df = df_train[[\"comment_text\"]].iloc[start_idx:end_idx, :].copy()\n",
    "    toxic_ml = load_for_production(file_path='../input/toxic-auto-ml/', file_name='toxic_ml_sgd_instance.dat')\n",
    "    toxic_ml.ml_bp20_regression_full_processing_sgd(temp_df)\n",
    "    val_y_hat = toxic_ml.predicted_values['sgd']\n",
    "    results.append(pd.Series(val_y_hat))\n",
    "    already_batched += batch_size\n",
    "    del temp_df\n",
    "    del toxic_ml\n",
    "    del val_y_hat\n",
    "    _ = gc.collect()"
   ]
  },
  {
   "cell_type": "code",
   "execution_count": 21,
   "metadata": {
    "execution": {
     "iopub.execute_input": "2022-01-21T11:09:43.407178Z",
     "iopub.status.busy": "2022-01-21T11:09:43.406839Z",
     "iopub.status.idle": "2022-01-21T11:09:43.453066Z",
     "shell.execute_reply": "2022-01-21T11:09:43.452321Z",
     "shell.execute_reply.started": "2022-01-21T11:09:43.407137Z"
    }
   },
   "outputs": [],
   "source": [
    "res_ser = pd.concat(results)\n",
    "df_train[\"score\"] = res_ser.values\n",
    "df_train = df_train[['comment_id','score']]\n",
    "df_train.to_csv('./submission.csv', index=False)\n",
    "df_train"
   ]
  }
 ],
 "metadata": {
  "kernelspec": {
   "display_name": "Python 3 (ipykernel)",
   "language": "python",
   "name": "python3"
  },
  "language_info": {
   "codemirror_mode": {
    "name": "ipython",
    "version": 3
   },
   "file_extension": ".py",
   "mimetype": "text/x-python",
   "name": "python",
   "nbconvert_exporter": "python",
   "pygments_lexer": "ipython3",
   "version": "3.8.12"
  }
 },
 "nbformat": 4,
 "nbformat_minor": 4
}
