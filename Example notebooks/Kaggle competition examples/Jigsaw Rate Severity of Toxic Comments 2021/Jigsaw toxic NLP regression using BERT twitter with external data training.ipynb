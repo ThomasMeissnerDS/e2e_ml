{
 "cells": [
  {
   "cell_type": "code",
   "execution_count": 1,
   "id": "8970cd1c",
   "metadata": {
    "scrolled": false
   },
   "outputs": [
    {
     "name": "stderr",
     "output_type": "stream",
     "text": [
      "[nltk_data] Downloading package punkt to /home/thomas/nltk_data...\n",
      "[nltk_data]   Package punkt is already up-to-date!\n",
      "[nltk_data] Downloading package averaged_perceptron_tagger to\n",
      "[nltk_data]     /home/thomas/nltk_data...\n",
      "[nltk_data]   Package averaged_perceptron_tagger is already up-to-\n",
      "[nltk_data]       date!\n",
      "[nltk_data] Downloading package stopwords to /home/thomas/nltk_data...\n",
      "[nltk_data]   Package stopwords is already up-to-date!\n",
      "[nltk_data] Downloading package wordnet to /home/thomas/nltk_data...\n",
      "[nltk_data]   Package wordnet is already up-to-date!\n"
     ]
    }
   ],
   "source": [
    "import pandas as pd\n",
    "import numpy as np\n",
    "# load libraries\n",
    "import sys\n",
    "from e2eml.regression import regression_blueprints\n",
    "from e2eml.full_processing import postprocessing\n",
    "from sklearn.model_selection import train_test_split\n",
    "import gc"
   ]
  },
  {
   "cell_type": "code",
   "execution_count": 2,
   "id": "1a6f7493",
   "metadata": {},
   "outputs": [],
   "source": [
    "target = \"score\""
   ]
  },
  {
   "cell_type": "code",
   "execution_count": 3,
   "id": "4ddc5f62",
   "metadata": {},
   "outputs": [],
   "source": [
    "#comments = pd.read_csv(\"jigsaw_toxic_comments_to_score.csv\")\n",
    "#comments"
   ]
  },
  {
   "cell_type": "code",
   "execution_count": 4,
   "id": "39d6326f",
   "metadata": {},
   "outputs": [
    {
     "data": {
      "text/html": [
       "<div>\n",
       "<style scoped>\n",
       "    .dataframe tbody tr th:only-of-type {\n",
       "        vertical-align: middle;\n",
       "    }\n",
       "\n",
       "    .dataframe tbody tr th {\n",
       "        vertical-align: top;\n",
       "    }\n",
       "\n",
       "    .dataframe thead th {\n",
       "        text-align: right;\n",
       "    }\n",
       "</style>\n",
       "<table border=\"1\" class=\"dataframe\">\n",
       "  <thead>\n",
       "    <tr style=\"text-align: right;\">\n",
       "      <th></th>\n",
       "      <th>id</th>\n",
       "      <th>comment_text</th>\n",
       "      <th>toxic</th>\n",
       "      <th>severe_toxic</th>\n",
       "      <th>obscene</th>\n",
       "      <th>threat</th>\n",
       "      <th>insult</th>\n",
       "      <th>identity_hate</th>\n",
       "    </tr>\n",
       "  </thead>\n",
       "  <tbody>\n",
       "    <tr>\n",
       "      <th>0</th>\n",
       "      <td>0000997932d777bf</td>\n",
       "      <td>Explanation\\nWhy the edits made under my username Hardcore Metallica Fan were reverted? They weren't vandalisms, just closure on some GAs after I voted at New York Dolls FAC. And please don't remove the template from the talk page since I'm retired now.89.205.38.27</td>\n",
       "      <td>0</td>\n",
       "      <td>0</td>\n",
       "      <td>0</td>\n",
       "      <td>0</td>\n",
       "      <td>0</td>\n",
       "      <td>0</td>\n",
       "    </tr>\n",
       "    <tr>\n",
       "      <th>1</th>\n",
       "      <td>000103f0d9cfb60f</td>\n",
       "      <td>D'aww! He matches this background colour I'm seemingly stuck with. Thanks.  (talk) 21:51, January 11, 2016 (UTC)</td>\n",
       "      <td>0</td>\n",
       "      <td>0</td>\n",
       "      <td>0</td>\n",
       "      <td>0</td>\n",
       "      <td>0</td>\n",
       "      <td>0</td>\n",
       "    </tr>\n",
       "    <tr>\n",
       "      <th>2</th>\n",
       "      <td>000113f07ec002fd</td>\n",
       "      <td>Hey man, I'm really not trying to edit war. It's just that this guy is constantly removing relevant information and talking to me through edits instead of my talk page. He seems to care more about the formatting than the actual info.</td>\n",
       "      <td>0</td>\n",
       "      <td>0</td>\n",
       "      <td>0</td>\n",
       "      <td>0</td>\n",
       "      <td>0</td>\n",
       "      <td>0</td>\n",
       "    </tr>\n",
       "    <tr>\n",
       "      <th>3</th>\n",
       "      <td>0001b41b1c6bb37e</td>\n",
       "      <td>\"\\nMore\\nI can't make any real suggestions on improvement - I wondered if the section statistics should be later on, or a subsection of \"\"types of accidents\"\"  -I think the references may need tidying so that they are all in the exact same format ie date format etc. I can do that later on, if no-one else does first - if you have any preferences for formatting style on references or want to do it yourself please let me know.\\n\\nThere appears to be a backlog on articles for review so I guess there may be a delay until a reviewer turns up. It's listed in the relevant form eg Wikipedia:Good_article_nominations#Transport  \"</td>\n",
       "      <td>0</td>\n",
       "      <td>0</td>\n",
       "      <td>0</td>\n",
       "      <td>0</td>\n",
       "      <td>0</td>\n",
       "      <td>0</td>\n",
       "    </tr>\n",
       "    <tr>\n",
       "      <th>4</th>\n",
       "      <td>0001d958c54c6e35</td>\n",
       "      <td>You, sir, are my hero. Any chance you remember what page that's on?</td>\n",
       "      <td>0</td>\n",
       "      <td>0</td>\n",
       "      <td>0</td>\n",
       "      <td>0</td>\n",
       "      <td>0</td>\n",
       "      <td>0</td>\n",
       "    </tr>\n",
       "    <tr>\n",
       "      <th>...</th>\n",
       "      <td>...</td>\n",
       "      <td>...</td>\n",
       "      <td>...</td>\n",
       "      <td>...</td>\n",
       "      <td>...</td>\n",
       "      <td>...</td>\n",
       "      <td>...</td>\n",
       "      <td>...</td>\n",
       "    </tr>\n",
       "    <tr>\n",
       "      <th>159566</th>\n",
       "      <td>ffe987279560d7ff</td>\n",
       "      <td>\":::::And for the second time of asking, when your view completely contradicts the coverage in reliable sources, why should anyone care what you feel? You can't even give a consistent argument - is the opening only supposed to mention significant aspects, or the \"\"most significant\"\" ones?   \\n\\n\"</td>\n",
       "      <td>0</td>\n",
       "      <td>0</td>\n",
       "      <td>0</td>\n",
       "      <td>0</td>\n",
       "      <td>0</td>\n",
       "      <td>0</td>\n",
       "    </tr>\n",
       "    <tr>\n",
       "      <th>159567</th>\n",
       "      <td>ffea4adeee384e90</td>\n",
       "      <td>You should be ashamed of yourself \\n\\nThat is a horrible thing you put on my talk page.  128.61.19.93</td>\n",
       "      <td>0</td>\n",
       "      <td>0</td>\n",
       "      <td>0</td>\n",
       "      <td>0</td>\n",
       "      <td>0</td>\n",
       "      <td>0</td>\n",
       "    </tr>\n",
       "    <tr>\n",
       "      <th>159568</th>\n",
       "      <td>ffee36eab5c267c9</td>\n",
       "      <td>Spitzer \\n\\nUmm, theres no actual article for prostitution ring.  - Crunch Captain.</td>\n",
       "      <td>0</td>\n",
       "      <td>0</td>\n",
       "      <td>0</td>\n",
       "      <td>0</td>\n",
       "      <td>0</td>\n",
       "      <td>0</td>\n",
       "    </tr>\n",
       "    <tr>\n",
       "      <th>159569</th>\n",
       "      <td>fff125370e4aaaf3</td>\n",
       "      <td>And it looks like it was actually you who put on the speedy to have the first version deleted now that I look at it.</td>\n",
       "      <td>0</td>\n",
       "      <td>0</td>\n",
       "      <td>0</td>\n",
       "      <td>0</td>\n",
       "      <td>0</td>\n",
       "      <td>0</td>\n",
       "    </tr>\n",
       "    <tr>\n",
       "      <th>159570</th>\n",
       "      <td>fff46fc426af1f9a</td>\n",
       "      <td>\"\\nAnd ... I really don't think you understand.  I came here and my idea was bad right away.  What kind of community goes \"\"you have bad ideas\"\" go away, instead of helping rewrite them.   \"</td>\n",
       "      <td>0</td>\n",
       "      <td>0</td>\n",
       "      <td>0</td>\n",
       "      <td>0</td>\n",
       "      <td>0</td>\n",
       "      <td>0</td>\n",
       "    </tr>\n",
       "  </tbody>\n",
       "</table>\n",
       "<p>159571 rows × 8 columns</p>\n",
       "</div>"
      ],
      "text/plain": [
       "                      id  \\\n",
       "0       0000997932d777bf   \n",
       "1       000103f0d9cfb60f   \n",
       "2       000113f07ec002fd   \n",
       "3       0001b41b1c6bb37e   \n",
       "4       0001d958c54c6e35   \n",
       "...                  ...   \n",
       "159566  ffe987279560d7ff   \n",
       "159567  ffea4adeee384e90   \n",
       "159568  ffee36eab5c267c9   \n",
       "159569  fff125370e4aaaf3   \n",
       "159570  fff46fc426af1f9a   \n",
       "\n",
       "                                                                                                                                                                                                                                                                                                                                                                                                                                                                                                                                                                                                                                              comment_text  \\\n",
       "0                                                                                                                                                                                                                                                                                                                                                                                Explanation\\nWhy the edits made under my username Hardcore Metallica Fan were reverted? They weren't vandalisms, just closure on some GAs after I voted at New York Dolls FAC. And please don't remove the template from the talk page since I'm retired now.89.205.38.27   \n",
       "1                                                                                                                                                                                                                                                                                                                                                                                                                                                                                                                                         D'aww! He matches this background colour I'm seemingly stuck with. Thanks.  (talk) 21:51, January 11, 2016 (UTC)   \n",
       "2                                                                                                                                                                                                                                                                                                                                                                                                                Hey man, I'm really not trying to edit war. It's just that this guy is constantly removing relevant information and talking to me through edits instead of my talk page. He seems to care more about the formatting than the actual info.   \n",
       "3       \"\\nMore\\nI can't make any real suggestions on improvement - I wondered if the section statistics should be later on, or a subsection of \"\"types of accidents\"\"  -I think the references may need tidying so that they are all in the exact same format ie date format etc. I can do that later on, if no-one else does first - if you have any preferences for formatting style on references or want to do it yourself please let me know.\\n\\nThere appears to be a backlog on articles for review so I guess there may be a delay until a reviewer turns up. It's listed in the relevant form eg Wikipedia:Good_article_nominations#Transport  \"   \n",
       "4                                                                                                                                                                                                                                                                                                                                                                                                                                                                                                                                                                                      You, sir, are my hero. Any chance you remember what page that's on?   \n",
       "...                                                                                                                                                                                                                                                                                                                                                                                                                                                                                                                                                                                                                                                    ...   \n",
       "159566                                                                                                                                                                                                                                                                                                                                           \":::::And for the second time of asking, when your view completely contradicts the coverage in reliable sources, why should anyone care what you feel? You can't even give a consistent argument - is the opening only supposed to mention significant aspects, or the \"\"most significant\"\" ones?   \\n\\n\"   \n",
       "159567                                                                                                                                                                                                                                                                                                                                                                                                                                                                                                                                               You should be ashamed of yourself \\n\\nThat is a horrible thing you put on my talk page.  128.61.19.93   \n",
       "159568                                                                                                                                                                                                                                                                                                                                                                                                                                                                                                                                                                 Spitzer \\n\\nUmm, theres no actual article for prostitution ring.  - Crunch Captain.   \n",
       "159569                                                                                                                                                                                                                                                                                                                                                                                                                                                                                                                                And it looks like it was actually you who put on the speedy to have the first version deleted now that I look at it.   \n",
       "159570                                                                                                                                                                                                                                                                                                                                                                                                                                                      \"\\nAnd ... I really don't think you understand.  I came here and my idea was bad right away.  What kind of community goes \"\"you have bad ideas\"\" go away, instead of helping rewrite them.   \"   \n",
       "\n",
       "        toxic  severe_toxic  obscene  threat  insult  identity_hate  \n",
       "0           0             0        0       0       0              0  \n",
       "1           0             0        0       0       0              0  \n",
       "2           0             0        0       0       0              0  \n",
       "3           0             0        0       0       0              0  \n",
       "4           0             0        0       0       0              0  \n",
       "...       ...           ...      ...     ...     ...            ...  \n",
       "159566      0             0        0       0       0              0  \n",
       "159567      0             0        0       0       0              0  \n",
       "159568      0             0        0       0       0              0  \n",
       "159569      0             0        0       0       0              0  \n",
       "159570      0             0        0       0       0              0  \n",
       "\n",
       "[159571 rows x 8 columns]"
      ]
     },
     "execution_count": 4,
     "metadata": {},
     "output_type": "execute_result"
    }
   ],
   "source": [
    "df_train = pd.read_csv(\"jigsaw_toxic_validation_data.csv\")\n",
    "df_train"
   ]
  },
  {
   "cell_type": "code",
   "execution_count": 5,
   "id": "62272d8d",
   "metadata": {},
   "outputs": [
    {
     "data": {
      "text/html": [
       "<div>\n",
       "<style scoped>\n",
       "    .dataframe tbody tr th:only-of-type {\n",
       "        vertical-align: middle;\n",
       "    }\n",
       "\n",
       "    .dataframe tbody tr th {\n",
       "        vertical-align: top;\n",
       "    }\n",
       "\n",
       "    .dataframe thead th {\n",
       "        text-align: right;\n",
       "    }\n",
       "</style>\n",
       "<table border=\"1\" class=\"dataframe\">\n",
       "  <thead>\n",
       "    <tr style=\"text-align: right;\">\n",
       "      <th></th>\n",
       "      <th>id</th>\n",
       "      <th>comment_text</th>\n",
       "      <th>toxic</th>\n",
       "      <th>severe_toxic</th>\n",
       "      <th>obscene</th>\n",
       "      <th>threat</th>\n",
       "      <th>insult</th>\n",
       "      <th>identity_hate</th>\n",
       "      <th>score</th>\n",
       "    </tr>\n",
       "  </thead>\n",
       "  <tbody>\n",
       "    <tr>\n",
       "      <th>6</th>\n",
       "      <td>0002bcb3da6cb337</td>\n",
       "      <td>COCKSUCKER BEFORE YOU PISS AROUND ON MY WORK</td>\n",
       "      <td>0.32</td>\n",
       "      <td>1.5</td>\n",
       "      <td>0.16</td>\n",
       "      <td>0.0</td>\n",
       "      <td>0.64</td>\n",
       "      <td>0.0</td>\n",
       "      <td>0.436667</td>\n",
       "    </tr>\n",
       "    <tr>\n",
       "      <th>12</th>\n",
       "      <td>0005c987bdfc9d4b</td>\n",
       "      <td>Hey... what is it..\\n@ | talk .\\nWhat is it... an exclusive group of some WP TALIBANS...who are good at destroying, self-appointed purist who GANG UP any one who asks them questions abt their ANTI-SOCIAL and DESTRUCTIVE (non)-contribution at WP?\\n\\nAsk Sityush to clean up his behavior than issue me nonsensical warnings...</td>\n",
       "      <td>0.32</td>\n",
       "      <td>0.0</td>\n",
       "      <td>0.00</td>\n",
       "      <td>0.0</td>\n",
       "      <td>0.00</td>\n",
       "      <td>0.0</td>\n",
       "      <td>0.053333</td>\n",
       "    </tr>\n",
       "    <tr>\n",
       "      <th>16</th>\n",
       "      <td>0007e25b2121310b</td>\n",
       "      <td>Bye! \\n\\nDon't look, come or think of comming back! Tosser.</td>\n",
       "      <td>0.32</td>\n",
       "      <td>0.0</td>\n",
       "      <td>0.00</td>\n",
       "      <td>0.0</td>\n",
       "      <td>0.00</td>\n",
       "      <td>0.0</td>\n",
       "      <td>0.053333</td>\n",
       "    </tr>\n",
       "    <tr>\n",
       "      <th>42</th>\n",
       "      <td>001810bf8c45bf5f</td>\n",
       "      <td>You are gay or antisemmitian? \\n\\nArchangel WHite Tiger\\n\\nMeow! Greetingshhh!\\n\\nUh, there are two ways, why you do erased my comment about WW2, that holocaust was brutally slaying of Jews and not gays/Gypsys/Slavs/anyone...\\n\\n1 - If you are anti-semitian, than shave your head bald and go to the skinhead meetings!\\n\\n2 - If you doubt words of the Bible, that homosexuality is a deadly sin, make a pentagram tatoo on your forehead go to the satanistic masses with your gay pals!\\n\\n3 - First and last warning, you fucking gay - I won't appreciate if any more nazi shwain would write in my page! I don't wish to talk to you anymore!\\n\\nBeware of the Dark Side!</td>\n",
       "      <td>0.32</td>\n",
       "      <td>0.0</td>\n",
       "      <td>0.16</td>\n",
       "      <td>0.0</td>\n",
       "      <td>0.64</td>\n",
       "      <td>1.5</td>\n",
       "      <td>0.436667</td>\n",
       "    </tr>\n",
       "    <tr>\n",
       "      <th>43</th>\n",
       "      <td>00190820581d90ce</td>\n",
       "      <td>FUCK YOUR FILTHY MOTHER IN THE ASS, DRY!</td>\n",
       "      <td>0.32</td>\n",
       "      <td>0.0</td>\n",
       "      <td>0.16</td>\n",
       "      <td>0.0</td>\n",
       "      <td>0.64</td>\n",
       "      <td>0.0</td>\n",
       "      <td>0.186667</td>\n",
       "    </tr>\n",
       "    <tr>\n",
       "      <th>...</th>\n",
       "      <td>...</td>\n",
       "      <td>...</td>\n",
       "      <td>...</td>\n",
       "      <td>...</td>\n",
       "      <td>...</td>\n",
       "      <td>...</td>\n",
       "      <td>...</td>\n",
       "      <td>...</td>\n",
       "      <td>...</td>\n",
       "    </tr>\n",
       "    <tr>\n",
       "      <th>137462</th>\n",
       "      <td>df957e1303ef8c68</td>\n",
       "      <td>\"\\n\\nRead more\\nYou can read more by going to anomtalk.com except with \"\"n\"\" instead of \"\"m\"\".\"</td>\n",
       "      <td>0.00</td>\n",
       "      <td>0.0</td>\n",
       "      <td>0.00</td>\n",
       "      <td>0.0</td>\n",
       "      <td>0.00</td>\n",
       "      <td>0.0</td>\n",
       "      <td>0.000000</td>\n",
       "    </tr>\n",
       "    <tr>\n",
       "      <th>82635</th>\n",
       "      <td>dd0b9714b24c3c66</td>\n",
       "      <td>Sounds like a deal. Thanks for hearing me out.</td>\n",
       "      <td>0.00</td>\n",
       "      <td>0.0</td>\n",
       "      <td>0.00</td>\n",
       "      <td>0.0</td>\n",
       "      <td>0.00</td>\n",
       "      <td>0.0</td>\n",
       "      <td>0.000000</td>\n",
       "    </tr>\n",
       "    <tr>\n",
       "      <th>149206</th>\n",
       "      <td>58e756534c67c8e7</td>\n",
       "      <td>Bone to pick \\n\\nWhat makes you the rulemaker on all things bears related?  Bad and Good go into articles.  Get a life and stay off wikipedia for a good month or two.  People like you are the reason that wikipedia is a joke.  Too much of your personal feelings goes into making sure nothing you don't agree with gets put into an article.  Last I checked your job wasn't encyclopedia writer, so let others ideas be put into articles.214.13.192.187</td>\n",
       "      <td>0.00</td>\n",
       "      <td>0.0</td>\n",
       "      <td>0.00</td>\n",
       "      <td>0.0</td>\n",
       "      <td>0.00</td>\n",
       "      <td>0.0</td>\n",
       "      <td>0.000000</td>\n",
       "    </tr>\n",
       "    <tr>\n",
       "      <th>87807</th>\n",
       "      <td>eade5e302541c3a9</td>\n",
       "      <td>\"\\n\\n Semi-vegetarianism section \\n\\nI like Flyer22's intention in that one's recent edits, though I find the particulars a little unclear. Here is my proposal for the section (  ):\\n===Semi-vegetarian diets===\\nSemi-vegetarian diets primarily consist of vegetarian foods, though occasional exceptions are made for some non-vegetarian foods, including fish, poultry and even red meat. These diets may be followed by those who choose to reduce the amount of animal flesh consumed as a way of transitioning to a vegetarian diet, or for health, environmental, or other reasons. The term \"\"semi-vegetarian\"\" is contested by most vegetarian groups, who believe that vegetarianism must exclude all animal flesh. Many individuals describe themselves as \"\"vegetarian\"\" while practicing a semi-vegetarian diet. Semi-vegetarian diets include: \\n Flexitarianism: A diet that consists primarily of vegetarian food, but includes occasional exceptions such as red meat.\\n Pescetarianism: A diet that is mainly ...</td>\n",
       "      <td>0.00</td>\n",
       "      <td>0.0</td>\n",
       "      <td>0.00</td>\n",
       "      <td>0.0</td>\n",
       "      <td>0.00</td>\n",
       "      <td>0.0</td>\n",
       "      <td>0.000000</td>\n",
       "    </tr>\n",
       "    <tr>\n",
       "      <th>150843</th>\n",
       "      <td>72f8dfe354056f62</td>\n",
       "      <td>that seems appropriate to me. major changes need to be suspended until consensus is reached.</td>\n",
       "      <td>0.00</td>\n",
       "      <td>0.0</td>\n",
       "      <td>0.00</td>\n",
       "      <td>0.0</td>\n",
       "      <td>0.00</td>\n",
       "      <td>0.0</td>\n",
       "      <td>0.000000</td>\n",
       "    </tr>\n",
       "  </tbody>\n",
       "</table>\n",
       "<p>32450 rows × 9 columns</p>\n",
       "</div>"
      ],
      "text/plain": [
       "                      id  \\\n",
       "6       0002bcb3da6cb337   \n",
       "12      0005c987bdfc9d4b   \n",
       "16      0007e25b2121310b   \n",
       "42      001810bf8c45bf5f   \n",
       "43      00190820581d90ce   \n",
       "...                  ...   \n",
       "137462  df957e1303ef8c68   \n",
       "82635   dd0b9714b24c3c66   \n",
       "149206  58e756534c67c8e7   \n",
       "87807   eade5e302541c3a9   \n",
       "150843  72f8dfe354056f62   \n",
       "\n",
       "                                                                                                                                                                                                                                                                                                                                                                                                                                                                                                                                                                                                                                                                                                                                                                                                                                                                                                                                                                                                                                   comment_text  \\\n",
       "6                                                                                                                                                                                                                                                                                                                                                                                                                                                                                                                                                                                                                                                                                                                                                                                                                                                                                                                                                                                                  COCKSUCKER BEFORE YOU PISS AROUND ON MY WORK   \n",
       "12                                                                                                                                                                                                                                                                                                                                                                                                                                                                                                                                                                                                                                                                                                          Hey... what is it..\\n@ | talk .\\nWhat is it... an exclusive group of some WP TALIBANS...who are good at destroying, self-appointed purist who GANG UP any one who asks them questions abt their ANTI-SOCIAL and DESTRUCTIVE (non)-contribution at WP?\\n\\nAsk Sityush to clean up his behavior than issue me nonsensical warnings...   \n",
       "16                                                                                                                                                                                                                                                                                                                                                                                                                                                                                                                                                                                                                                                                                                                                                                                                                                                                                                                                                                                  Bye! \\n\\nDon't look, come or think of comming back! Tosser.   \n",
       "42                                                                                                                                                                                                                                                                                                                                                       You are gay or antisemmitian? \\n\\nArchangel WHite Tiger\\n\\nMeow! Greetingshhh!\\n\\nUh, there are two ways, why you do erased my comment about WW2, that holocaust was brutally slaying of Jews and not gays/Gypsys/Slavs/anyone...\\n\\n1 - If you are anti-semitian, than shave your head bald and go to the skinhead meetings!\\n\\n2 - If you doubt words of the Bible, that homosexuality is a deadly sin, make a pentagram tatoo on your forehead go to the satanistic masses with your gay pals!\\n\\n3 - First and last warning, you fucking gay - I won't appreciate if any more nazi shwain would write in my page! I don't wish to talk to you anymore!\\n\\nBeware of the Dark Side!   \n",
       "43                                                                                                                                                                                                                                                                                                                                                                                                                                                                                                                                                                                                                                                                                                                                                                                                                                                                                                                                                                                                     FUCK YOUR FILTHY MOTHER IN THE ASS, DRY!   \n",
       "...                                                                                                                                                                                                                                                                                                                                                                                                                                                                                                                                                                                                                                                                                                                                                                                                                                                                                                                                                                                                                                         ...   \n",
       "137462                                                                                                                                                                                                                                                                                                                                                                                                                                                                                                                                                                                                                                                                                                                                                                                                                                                                                                                                          \"\\n\\nRead more\\nYou can read more by going to anomtalk.com except with \"\"n\"\" instead of \"\"m\"\".\"   \n",
       "82635                                                                                                                                                                                                                                                                                                                                                                                                                                                                                                                                                                                                                                                                                                                                                                                                                                                                                                                                                                                            Sounds like a deal. Thanks for hearing me out.   \n",
       "149206                                                                                                                                                                                                                                                                                                                                                                                                                                                                                                                                                                           Bone to pick \\n\\nWhat makes you the rulemaker on all things bears related?  Bad and Good go into articles.  Get a life and stay off wikipedia for a good month or two.  People like you are the reason that wikipedia is a joke.  Too much of your personal feelings goes into making sure nothing you don't agree with gets put into an article.  Last I checked your job wasn't encyclopedia writer, so let others ideas be put into articles.214.13.192.187   \n",
       "87807   \"\\n\\n Semi-vegetarianism section \\n\\nI like Flyer22's intention in that one's recent edits, though I find the particulars a little unclear. Here is my proposal for the section (  ):\\n===Semi-vegetarian diets===\\nSemi-vegetarian diets primarily consist of vegetarian foods, though occasional exceptions are made for some non-vegetarian foods, including fish, poultry and even red meat. These diets may be followed by those who choose to reduce the amount of animal flesh consumed as a way of transitioning to a vegetarian diet, or for health, environmental, or other reasons. The term \"\"semi-vegetarian\"\" is contested by most vegetarian groups, who believe that vegetarianism must exclude all animal flesh. Many individuals describe themselves as \"\"vegetarian\"\" while practicing a semi-vegetarian diet. Semi-vegetarian diets include: \\n Flexitarianism: A diet that consists primarily of vegetarian food, but includes occasional exceptions such as red meat.\\n Pescetarianism: A diet that is mainly ...   \n",
       "150843                                                                                                                                                                                                                                                                                                                                                                                                                                                                                                                                                                                                                                                                                                                                                                                                                                                                                                                                             that seems appropriate to me. major changes need to be suspended until consensus is reached.   \n",
       "\n",
       "        toxic  severe_toxic  obscene  threat  insult  identity_hate     score  \n",
       "6        0.32           1.5     0.16     0.0    0.64            0.0  0.436667  \n",
       "12       0.32           0.0     0.00     0.0    0.00            0.0  0.053333  \n",
       "16       0.32           0.0     0.00     0.0    0.00            0.0  0.053333  \n",
       "42       0.32           0.0     0.16     0.0    0.64            1.5  0.436667  \n",
       "43       0.32           0.0     0.16     0.0    0.64            0.0  0.186667  \n",
       "...       ...           ...      ...     ...     ...            ...       ...  \n",
       "137462   0.00           0.0     0.00     0.0    0.00            0.0  0.000000  \n",
       "82635    0.00           0.0     0.00     0.0    0.00            0.0  0.000000  \n",
       "149206   0.00           0.0     0.00     0.0    0.00            0.0  0.000000  \n",
       "87807    0.00           0.0     0.00     0.0    0.00            0.0  0.000000  \n",
       "150843   0.00           0.0     0.00     0.0    0.00            0.0  0.000000  \n",
       "\n",
       "[32450 rows x 9 columns]"
      ]
     },
     "execution_count": 5,
     "metadata": {},
     "output_type": "execute_result"
    }
   ],
   "source": [
    "cat_mtpl = {'obscene': 0.16, 'toxic': 0.32, 'threat': 1.5, \n",
    "            'insult': 0.64, 'severe_toxic': 1.5, 'identity_hate': 1.5}\n",
    "\n",
    "for category in cat_mtpl:\n",
    "    df_train[category] = df_train[category] * cat_mtpl[category]\n",
    "\n",
    "df_train['score'] = df_train.loc[:, 'toxic':'identity_hate'].mean(axis=1)\n",
    "\n",
    "min_len = (df_train['score'] > 0).sum()  # len of toxic comments\n",
    "df_y0_undersample = df_train[df_train['score'] == 0].sample(n=min_len, random_state=41)  # take non toxic comments\n",
    "df_train = pd.concat([df_train[df_train['score'] > 0], df_y0_undersample])  # make new df\n",
    "\n",
    "df_train"
   ]
  },
  {
   "cell_type": "code",
   "execution_count": 6,
   "id": "beda065e",
   "metadata": {},
   "outputs": [],
   "source": [
    "df_train = df_train.sample(frac=1, random_state=5000)\n",
    "train_df = df_train.head(25000).copy()\n",
    "val_df = df_train.tail(5000).copy()"
   ]
  },
  {
   "cell_type": "code",
   "execution_count": 7,
   "id": "6c386780",
   "metadata": {},
   "outputs": [
    {
     "data": {
      "text/html": [
       "<div>\n",
       "<style scoped>\n",
       "    .dataframe tbody tr th:only-of-type {\n",
       "        vertical-align: middle;\n",
       "    }\n",
       "\n",
       "    .dataframe tbody tr th {\n",
       "        vertical-align: top;\n",
       "    }\n",
       "\n",
       "    .dataframe thead th {\n",
       "        text-align: right;\n",
       "    }\n",
       "</style>\n",
       "<table border=\"1\" class=\"dataframe\">\n",
       "  <thead>\n",
       "    <tr style=\"text-align: right;\">\n",
       "      <th></th>\n",
       "      <th>id</th>\n",
       "      <th>comment_text</th>\n",
       "      <th>toxic</th>\n",
       "      <th>severe_toxic</th>\n",
       "      <th>obscene</th>\n",
       "      <th>threat</th>\n",
       "      <th>insult</th>\n",
       "      <th>identity_hate</th>\n",
       "    </tr>\n",
       "  </thead>\n",
       "  <tbody>\n",
       "    <tr>\n",
       "      <th>92199</th>\n",
       "      <td>f67e6b569638f366</td>\n",
       "      <td>have no life coo \\noco coco haaaaaaaaaaaaz</td>\n",
       "      <td>0.32</td>\n",
       "      <td>0.0</td>\n",
       "      <td>0.00</td>\n",
       "      <td>0.0</td>\n",
       "      <td>0.00</td>\n",
       "      <td>0.0</td>\n",
       "    </tr>\n",
       "    <tr>\n",
       "      <th>84107</th>\n",
       "      <td>e10b2247952b0913</td>\n",
       "      <td>a fire, you worthless, friendless bastard. I hate you.</td>\n",
       "      <td>0.32</td>\n",
       "      <td>0.0</td>\n",
       "      <td>0.16</td>\n",
       "      <td>0.0</td>\n",
       "      <td>0.64</td>\n",
       "      <td>0.0</td>\n",
       "    </tr>\n",
       "    <tr>\n",
       "      <th>26362</th>\n",
       "      <td>45cc66085311b07b</td>\n",
       "      <td>:Internet media in Shreveport\\nA tag has been placed on Internet media in Shreveport, requesting that it be speedily deleted from Wikipedia. This has been done because it is an article about a certain web site, blog, forum, or other community of web users that does not assert the importance or significance of that web location. Please read our criteria for speedy deletion, particularly item 7 under Articles, as well as notability guidelines for websites. Please note that articles must be on notable subjects and should provide references to reliable sources which verify their content.\\n\\nPlease do not remove the speedy deletion tag yourself. To contest the tagging and request that administrators wait a while for you to add contextual material, please affix the template {{hangon}} to the page, and put a note on Talk:Internet media in Shreveport. Feel free to leave a note on my talk page if you have any questions about this.</td>\n",
       "      <td>0.00</td>\n",
       "      <td>0.0</td>\n",
       "      <td>0.00</td>\n",
       "      <td>0.0</td>\n",
       "      <td>0.00</td>\n",
       "      <td>0.0</td>\n",
       "    </tr>\n",
       "    <tr>\n",
       "      <th>56013</th>\n",
       "      <td>95aa6f9a0a4cbf0c</td>\n",
       "      <td>Bin Laden and his 19 so-called hijackers were patsies.</td>\n",
       "      <td>0.32</td>\n",
       "      <td>0.0</td>\n",
       "      <td>0.00</td>\n",
       "      <td>0.0</td>\n",
       "      <td>0.00</td>\n",
       "      <td>0.0</td>\n",
       "    </tr>\n",
       "    <tr>\n",
       "      <th>3131</th>\n",
       "      <td>0872804fee5e6408</td>\n",
       "      <td>\"\\n\\n Re: AIP \\n\\nGo fuck yourself. -The'FortyFive' \"</td>\n",
       "      <td>0.32</td>\n",
       "      <td>0.0</td>\n",
       "      <td>0.16</td>\n",
       "      <td>0.0</td>\n",
       "      <td>0.64</td>\n",
       "      <td>0.0</td>\n",
       "    </tr>\n",
       "    <tr>\n",
       "      <th>...</th>\n",
       "      <td>...</td>\n",
       "      <td>...</td>\n",
       "      <td>...</td>\n",
       "      <td>...</td>\n",
       "      <td>...</td>\n",
       "      <td>...</td>\n",
       "      <td>...</td>\n",
       "      <td>...</td>\n",
       "    </tr>\n",
       "    <tr>\n",
       "      <th>120607</th>\n",
       "      <td>852589ee2f697076</td>\n",
       "      <td>COULD YOU JUST LISTEN TO ME FOR 5 SECONDS?!! I know you hate me, and I know you want to leave me alone, but it makes me sad that just for one minor edit, you just block me. I know that's what you have to do. By the way, this is NOT vandalism. Truth. I will leave you alone forever if you give me one more chance. PLEASE!</td>\n",
       "      <td>0.00</td>\n",
       "      <td>0.0</td>\n",
       "      <td>0.00</td>\n",
       "      <td>0.0</td>\n",
       "      <td>0.00</td>\n",
       "      <td>0.0</td>\n",
       "    </tr>\n",
       "    <tr>\n",
       "      <th>142797</th>\n",
       "      <td>fbac8e568e73e7e6</td>\n",
       "      <td>\"\\nThank you.  | Talk \"</td>\n",
       "      <td>0.00</td>\n",
       "      <td>0.0</td>\n",
       "      <td>0.00</td>\n",
       "      <td>0.0</td>\n",
       "      <td>0.00</td>\n",
       "      <td>0.0</td>\n",
       "    </tr>\n",
       "    <tr>\n",
       "      <th>32417</th>\n",
       "      <td>5640714285ce656c</td>\n",
       "      <td>\"\\n\\n Why LLD (Mont)? \\n\\nIn the infobox, Trudeau is titled \"\"LLD (Mont)\"\" which presumably means that he got his LLD from University of Montreal.  Is it standard for all Canadian LLDs to have their alma mater specified in parentheses?    \"</td>\n",
       "      <td>0.00</td>\n",
       "      <td>0.0</td>\n",
       "      <td>0.00</td>\n",
       "      <td>0.0</td>\n",
       "      <td>0.00</td>\n",
       "      <td>0.0</td>\n",
       "    </tr>\n",
       "    <tr>\n",
       "      <th>14590</th>\n",
       "      <td>2687391618b89683</td>\n",
       "      <td>WE ARE GOING TO MAKE SURE YOU ARE EXPOSED!! DROP YOUR RELATIONS WITH ANTI AMERICAN HATE GROUPS 'WE ARE GOING TO MAKE SURE YOU ARE EXPOSED!! DROP YOUR RELATIONS WITH ANTI AMERICAN HATE GROUPS</td>\n",
       "      <td>0.32</td>\n",
       "      <td>0.0</td>\n",
       "      <td>0.00</td>\n",
       "      <td>0.0</td>\n",
       "      <td>0.00</td>\n",
       "      <td>0.0</td>\n",
       "    </tr>\n",
       "    <tr>\n",
       "      <th>28722</th>\n",
       "      <td>4c158ceaf2925753</td>\n",
       "      <td>I certainly am not religious about it, but what about the states of northern Europe (which would still be Western), and England, and Scotland, and Wales? What about Spain, and Portugal? If you tell me it is most of the states, I believe you  I simply felt that it was not accurate.</td>\n",
       "      <td>0.00</td>\n",
       "      <td>0.0</td>\n",
       "      <td>0.00</td>\n",
       "      <td>0.0</td>\n",
       "      <td>0.00</td>\n",
       "      <td>0.0</td>\n",
       "    </tr>\n",
       "  </tbody>\n",
       "</table>\n",
       "<p>5000 rows × 8 columns</p>\n",
       "</div>"
      ],
      "text/plain": [
       "                      id  \\\n",
       "92199   f67e6b569638f366   \n",
       "84107   e10b2247952b0913   \n",
       "26362   45cc66085311b07b   \n",
       "56013   95aa6f9a0a4cbf0c   \n",
       "3131    0872804fee5e6408   \n",
       "...                  ...   \n",
       "120607  852589ee2f697076   \n",
       "142797  fbac8e568e73e7e6   \n",
       "32417   5640714285ce656c   \n",
       "14590   2687391618b89683   \n",
       "28722   4c158ceaf2925753   \n",
       "\n",
       "                                                                                                                                                                                                                                                                                                                                                                                                                                                                                                                                                                                                                                                                                                                                                                                                                                                                                                                                                                   comment_text  \\\n",
       "92199                                                                                                                                                                                                                                                                                                                                                                                                                                                                                                                                                                                                                                                                                                                                                                                                                                                                                                                                have no life coo \\noco coco haaaaaaaaaaaaz   \n",
       "84107                                                                                                                                                                                                                                                                                                                                                                                                                                                                                                                                                                                                                                                                                                                                                                                                                                                                                                                    a fire, you worthless, friendless bastard. I hate you.   \n",
       "26362   :Internet media in Shreveport\\nA tag has been placed on Internet media in Shreveport, requesting that it be speedily deleted from Wikipedia. This has been done because it is an article about a certain web site, blog, forum, or other community of web users that does not assert the importance or significance of that web location. Please read our criteria for speedy deletion, particularly item 7 under Articles, as well as notability guidelines for websites. Please note that articles must be on notable subjects and should provide references to reliable sources which verify their content.\\n\\nPlease do not remove the speedy deletion tag yourself. To contest the tagging and request that administrators wait a while for you to add contextual material, please affix the template {{hangon}} to the page, and put a note on Talk:Internet media in Shreveport. Feel free to leave a note on my talk page if you have any questions about this.   \n",
       "56013                                                                                                                                                                                                                                                                                                                                                                                                                                                                                                                                                                                                                                                                                                                                                                                                                                                                                                                    Bin Laden and his 19 so-called hijackers were patsies.   \n",
       "3131                                                                                                                                                                                                                                                                                                                                                                                                                                                                                                                                                                                                                                                                                                                                                                                                                                                                                                                      \"\\n\\n Re: AIP \\n\\nGo fuck yourself. -The'FortyFive' \"   \n",
       "...                                                                                                                                                                                                                                                                                                                                                                                                                                                                                                                                                                                                                                                                                                                                                                                                                                                                                                                                                                         ...   \n",
       "120607                                                                                                                                                                                                                                                                                                                                                                                                                                                                                                                                                                                                                                         COULD YOU JUST LISTEN TO ME FOR 5 SECONDS?!! I know you hate me, and I know you want to leave me alone, but it makes me sad that just for one minor edit, you just block me. I know that's what you have to do. By the way, this is NOT vandalism. Truth. I will leave you alone forever if you give me one more chance. PLEASE!   \n",
       "142797                                                                                                                                                                                                                                                                                                                                                                                                                                                                                                                                                                                                                                                                                                                                                                                                                                                                                                                                                  \"\\nThank you.  | Talk \"   \n",
       "32417                                                                                                                                                                                                                                                                                                                                                                                                                                                                                                                                                                                                                                                                                                                          \"\\n\\n Why LLD (Mont)? \\n\\nIn the infobox, Trudeau is titled \"\"LLD (Mont)\"\" which presumably means that he got his LLD from University of Montreal.  Is it standard for all Canadian LLDs to have their alma mater specified in parentheses?    \"   \n",
       "14590                                                                                                                                                                                                                                                                                                                                                                                                                                                                                                                                                                                                                                                                                                                                                                            WE ARE GOING TO MAKE SURE YOU ARE EXPOSED!! DROP YOUR RELATIONS WITH ANTI AMERICAN HATE GROUPS 'WE ARE GOING TO MAKE SURE YOU ARE EXPOSED!! DROP YOUR RELATIONS WITH ANTI AMERICAN HATE GROUPS   \n",
       "28722                                                                                                                                                                                                                                                                                                                                                                                                                                                                                                                                                                                                                                                                                 I certainly am not religious about it, but what about the states of northern Europe (which would still be Western), and England, and Scotland, and Wales? What about Spain, and Portugal? If you tell me it is most of the states, I believe you  I simply felt that it was not accurate.   \n",
       "\n",
       "        toxic  severe_toxic  obscene  threat  insult  identity_hate  \n",
       "92199    0.32           0.0     0.00     0.0    0.00            0.0  \n",
       "84107    0.32           0.0     0.16     0.0    0.64            0.0  \n",
       "26362    0.00           0.0     0.00     0.0    0.00            0.0  \n",
       "56013    0.32           0.0     0.00     0.0    0.00            0.0  \n",
       "3131     0.32           0.0     0.16     0.0    0.64            0.0  \n",
       "...       ...           ...      ...     ...     ...            ...  \n",
       "120607   0.00           0.0     0.00     0.0    0.00            0.0  \n",
       "142797   0.00           0.0     0.00     0.0    0.00            0.0  \n",
       "32417    0.00           0.0     0.00     0.0    0.00            0.0  \n",
       "14590    0.32           0.0     0.00     0.0    0.00            0.0  \n",
       "28722    0.00           0.0     0.00     0.0    0.00            0.0  \n",
       "\n",
       "[5000 rows x 8 columns]"
      ]
     },
     "execution_count": 7,
     "metadata": {},
     "output_type": "execute_result"
    }
   ],
   "source": [
    "val_df_target = val_df[target]\n",
    "val_df = val_df.drop(target, axis=1)\n",
    "val_df"
   ]
  },
  {
   "cell_type": "code",
   "execution_count": 8,
   "id": "baf23616",
   "metadata": {},
   "outputs": [
    {
     "name": "stdout",
     "output_type": "stream",
     "text": [
      "Ml task is regression\n",
      "Preferred training mode auto has been chosen. e2eml will automatically detect, if LGBM and Xgboost can use GPU acceleration and optimize the workflow accordingly.\n"
     ]
    }
   ],
   "source": [
    "toxic_ml = regression_blueprints.RegressionBluePrint(datasource=df_train, \n",
    "                        target_variable=target,\n",
    "                        train_split_type='cross',\n",
    "                        preferred_training_mode='auto',\n",
    "                        nlp_transformer_columns='comment_text',\n",
    "                        transformer_chosen='neoyipeng/twitter-roberta-base-sentiment-mlm',\n",
    "                        transformer_epochs=3,\n",
    "                        ml_task='regression')\n",
    "# cardiffnlp/twitter-roberta-base-dec2021\n",
    "# neoyipeng/twitter-roberta-base-sentiment-mlm\n",
    "\n",
    "toxic_ml.blueprint_step_selection_nlp_transformers[\"random_synonym_replacement\"] = True\n",
    "\n",
    "toxic_ml.transformer_settings[\"train_batch_size\"] = 16\n",
    "toxic_ml.transformer_settings[\"test_batch_size\"] = 16\n",
    "toxic_ml.transformer_settings[\"pred_batch_size\"] = 1"
   ]
  },
  {
   "cell_type": "code",
   "execution_count": 9,
   "id": "67aa4e83",
   "metadata": {
    "scrolled": true
   },
   "outputs": [
    {
     "name": "stdout",
     "output_type": "stream",
     "text": [
      "Started Execute test train split at 06:48:25.\n",
      "Started Handle rare features at 06:48:43.\n",
      "Started Sort columns alphabetically at 06:48:44.\n"
     ]
    },
    {
     "name": "stderr",
     "output_type": "stream",
     "text": [
      "Some weights of the model checkpoint at neoyipeng/twitter-roberta-base-sentiment-mlm were not used when initializing RobertaForSequenceClassification: ['lm_head.dense.weight', 'lm_head.layer_norm.weight', 'lm_head.decoder.bias', 'lm_head.decoder.weight', 'lm_head.dense.bias', 'lm_head.layer_norm.bias', 'lm_head.bias']\n",
      "- This IS expected if you are initializing RobertaForSequenceClassification from the checkpoint of a model trained on another task or with another architecture (e.g. initializing a BertForSequenceClassification model from a BertForPreTraining model).\n",
      "- This IS NOT expected if you are initializing RobertaForSequenceClassification from the checkpoint of a model that you expect to be exactly identical (initializing a BertForSequenceClassification model from a BertForSequenceClassification model).\n",
      "Some weights of RobertaForSequenceClassification were not initialized from the model checkpoint at neoyipeng/twitter-roberta-base-sentiment-mlm and are newly initialized: ['classifier.out_proj.weight', 'classifier.dense.bias', 'classifier.out_proj.bias', 'classifier.dense.weight']\n",
      "You should probably TRAIN this model on a down-stream task to be able to use it for predictions and inference.\n"
     ]
    },
    {
     "name": "stdout",
     "output_type": "stream",
     "text": [
      "<class 'pandas.core.frame.DataFrame'>\n",
      "RangeIndex: 55165 entries, 0 to 55164\n",
      "Data columns (total 10 columns):\n",
      " #   Column         Non-Null Count  Dtype  \n",
      "---  ------         --------------  -----  \n",
      " 0   comment_text   55165 non-null  object \n",
      " 1   id             55165 non-null  object \n",
      " 2   identity_hate  55165 non-null  float64\n",
      " 3   insult         55165 non-null  float64\n",
      " 4   obscene        55165 non-null  float64\n",
      " 5   score          55165 non-null  float64\n",
      " 6   severe_toxic   55165 non-null  float64\n",
      " 7   threat         55165 non-null  float64\n",
      " 8   toxic          55165 non-null  float64\n",
      " 9   kfold          55165 non-null  int64  \n",
      "dtypes: float64(7), int64(1), object(2)\n",
      "memory usage: 4.2+ MB\n",
      "None\n",
      "<class 'pandas.core.frame.DataFrame'>\n",
      "RangeIndex: 55165 entries, 0 to 55164\n",
      "Data columns (total 11 columns):\n",
      " #   Column         Non-Null Count  Dtype  \n",
      "---  ------         --------------  -----  \n",
      " 0   comment_text   55165 non-null  object \n",
      " 1   id             55165 non-null  object \n",
      " 2   identity_hate  55165 non-null  float64\n",
      " 3   insult         55165 non-null  float64\n",
      " 4   obscene        55165 non-null  float64\n",
      " 5   score          55165 non-null  float64\n",
      " 6   severe_toxic   55165 non-null  float64\n",
      " 7   threat         55165 non-null  float64\n",
      " 8   toxic          55165 non-null  float64\n",
      " 9   kfold          55165 non-null  int64  \n",
      " 10  bins           55165 non-null  int64  \n",
      "dtypes: float64(7), int64(2), object(2)\n",
      "memory usage: 4.6+ MB\n",
      "None\n"
     ]
    },
    {
     "name": "stderr",
     "output_type": "stream",
     "text": [
      "Some weights of the model checkpoint at neoyipeng/twitter-roberta-base-sentiment-mlm were not used when initializing RobertaForSequenceClassification: ['lm_head.dense.weight', 'lm_head.layer_norm.weight', 'lm_head.decoder.bias', 'lm_head.decoder.weight', 'lm_head.dense.bias', 'lm_head.layer_norm.bias', 'lm_head.bias']\n",
      "- This IS expected if you are initializing RobertaForSequenceClassification from the checkpoint of a model trained on another task or with another architecture (e.g. initializing a BertForSequenceClassification model from a BertForPreTraining model).\n",
      "- This IS NOT expected if you are initializing RobertaForSequenceClassification from the checkpoint of a model that you expect to be exactly identical (initializing a BertForSequenceClassification model from a BertForSequenceClassification model).\n",
      "Some weights of RobertaForSequenceClassification were not initialized from the model checkpoint at neoyipeng/twitter-roberta-base-sentiment-mlm and are newly initialized: ['classifier.out_proj.weight', 'classifier.dense.bias', 'classifier.out_proj.bias', 'classifier.dense.weight']\n",
      "You should probably TRAIN this model on a down-stream task to be able to use it for predictions and inference.\n",
      "  0%|                                                     | 0/3 [00:00<?, ?it/s]"
     ]
    },
    {
     "name": "stdout",
     "output_type": "stream",
     "text": [
      "---------------0start-------------\n",
      "<class 'pandas.core.frame.DataFrame'>\n",
      "RangeIndex: 55165 entries, 0 to 55164\n",
      "Data columns (total 10 columns):\n",
      " #   Column         Non-Null Count  Dtype  \n",
      "---  ------         --------------  -----  \n",
      " 0   comment_text   55165 non-null  object \n",
      " 1   id             55165 non-null  object \n",
      " 2   identity_hate  55165 non-null  float64\n",
      " 3   insult         55165 non-null  float64\n",
      " 4   obscene        55165 non-null  float64\n",
      " 5   score          55165 non-null  float64\n",
      " 6   severe_toxic   55165 non-null  float64\n",
      " 7   threat         55165 non-null  float64\n",
      " 8   toxic          55165 non-null  float64\n",
      " 9   kfold          55165 non-null  int64  \n",
      "dtypes: float64(7), int64(1), object(2)\n",
      "memory usage: 4.2+ MB\n",
      "None\n",
      "<class 'pandas.core.frame.DataFrame'>\n",
      "RangeIndex: 55165 entries, 0 to 55164\n",
      "Data columns (total 11 columns):\n",
      " #   Column         Non-Null Count  Dtype  \n",
      "---  ------         --------------  -----  \n",
      " 0   comment_text   55165 non-null  object \n",
      " 1   id             55165 non-null  object \n",
      " 2   identity_hate  55165 non-null  float64\n",
      " 3   insult         55165 non-null  float64\n",
      " 4   obscene        55165 non-null  float64\n",
      " 5   score          55165 non-null  float64\n",
      " 6   severe_toxic   55165 non-null  float64\n",
      " 7   threat         55165 non-null  float64\n",
      " 8   toxic          55165 non-null  float64\n",
      " 9   kfold          55165 non-null  int64  \n",
      " 10  bins           55165 non-null  int64  \n",
      "dtypes: float64(7), int64(2), object(2)\n",
      "memory usage: 4.6+ MB\n",
      "None\n",
      "trainscore is 0.11258339\n"
     ]
    },
    {
     "name": "stderr",
     "output_type": "stream",
     "text": [
      "[W pthreadpool-cpp.cc:90] Warning: Leaking Caffe2 thread-pool after fork. (function pthreadpool)\n",
      "[W pthreadpool-cpp.cc:90] Warning: Leaking Caffe2 thread-pool after fork. (function pthreadpool)\n",
      "[W pthreadpool-cpp.cc:90] Warning: Leaking Caffe2 thread-pool after fork. (function pthreadpool)\n",
      "[W pthreadpool-cpp.cc:90] Warning: Leaking Caffe2 thread-pool after fork. (function pthreadpool)\n"
     ]
    },
    {
     "name": "stdout",
     "output_type": "stream",
     "text": [
      "valscore is 0.08633852\n",
      "Save first model\n"
     ]
    },
    {
     "name": "stderr",
     "output_type": "stream",
     "text": [
      "\r",
      " 33%|██████████████▋                             | 1/3 [11:13<22:27, 673.67s/it]"
     ]
    },
    {
     "name": "stdout",
     "output_type": "stream",
     "text": [
      "---------------1start-------------\n",
      "<class 'pandas.core.frame.DataFrame'>\n",
      "RangeIndex: 55165 entries, 0 to 55164\n",
      "Data columns (total 10 columns):\n",
      " #   Column         Non-Null Count  Dtype  \n",
      "---  ------         --------------  -----  \n",
      " 0   comment_text   55165 non-null  object \n",
      " 1   id             55165 non-null  object \n",
      " 2   identity_hate  55165 non-null  float64\n",
      " 3   insult         55165 non-null  float64\n",
      " 4   obscene        55165 non-null  float64\n",
      " 5   score          55165 non-null  float64\n",
      " 6   severe_toxic   55165 non-null  float64\n",
      " 7   threat         55165 non-null  float64\n",
      " 8   toxic          55165 non-null  float64\n",
      " 9   kfold          55165 non-null  int64  \n",
      "dtypes: float64(7), int64(1), object(2)\n",
      "memory usage: 4.2+ MB\n",
      "None\n",
      "<class 'pandas.core.frame.DataFrame'>\n",
      "RangeIndex: 55165 entries, 0 to 55164\n",
      "Data columns (total 11 columns):\n",
      " #   Column         Non-Null Count  Dtype  \n",
      "---  ------         --------------  -----  \n",
      " 0   comment_text   55165 non-null  object \n",
      " 1   id             55165 non-null  object \n",
      " 2   identity_hate  55165 non-null  float64\n",
      " 3   insult         55165 non-null  float64\n",
      " 4   obscene        55165 non-null  float64\n",
      " 5   score          55165 non-null  float64\n",
      " 6   severe_toxic   55165 non-null  float64\n",
      " 7   threat         55165 non-null  float64\n",
      " 8   toxic          55165 non-null  float64\n",
      " 9   kfold          55165 non-null  int64  \n",
      " 10  bins           55165 non-null  int64  \n",
      "dtypes: float64(7), int64(2), object(2)\n",
      "memory usage: 4.6+ MB\n",
      "None\n"
     ]
    },
    {
     "name": "stderr",
     "output_type": "stream",
     "text": [
      "[W pthreadpool-cpp.cc:90] Warning: Leaking Caffe2 thread-pool after fork. (function pthreadpool)\n",
      "[W pthreadpool-cpp.cc:90] Warning: Leaking Caffe2 thread-pool after fork. (function pthreadpool)\n",
      "[W pthreadpool-cpp.cc:90] Warning: Leaking Caffe2 thread-pool after fork. (function pthreadpool)\n",
      "[W pthreadpool-cpp.cc:90] Warning: Leaking Caffe2 thread-pool after fork. (function pthreadpool)\n"
     ]
    },
    {
     "name": "stdout",
     "output_type": "stream",
     "text": [
      "trainscore is 0.08297833\n"
     ]
    },
    {
     "name": "stderr",
     "output_type": "stream",
     "text": [
      "[W pthreadpool-cpp.cc:90] Warning: Leaking Caffe2 thread-pool after fork. (function pthreadpool)\n",
      "[W pthreadpool-cpp.cc:90] Warning: Leaking Caffe2 thread-pool after fork. (function pthreadpool)\n",
      "[W pthreadpool-cpp.cc:90] Warning: Leaking Caffe2 thread-pool after fork. (function pthreadpool)\n",
      "[W pthreadpool-cpp.cc:90] Warning: Leaking Caffe2 thread-pool after fork. (function pthreadpool)\n"
     ]
    },
    {
     "name": "stdout",
     "output_type": "stream",
     "text": [
      "valscore is 0.07919769\n",
      "found better point\n"
     ]
    },
    {
     "name": "stderr",
     "output_type": "stream",
     "text": [
      "\r",
      " 67%|█████████████████████████████▎              | 2/3 [22:27<11:13, 673.72s/it]"
     ]
    },
    {
     "name": "stdout",
     "output_type": "stream",
     "text": [
      "---------------2start-------------\n",
      "<class 'pandas.core.frame.DataFrame'>\n",
      "RangeIndex: 55165 entries, 0 to 55164\n",
      "Data columns (total 10 columns):\n",
      " #   Column         Non-Null Count  Dtype  \n",
      "---  ------         --------------  -----  \n",
      " 0   comment_text   55165 non-null  object \n",
      " 1   id             55165 non-null  object \n",
      " 2   identity_hate  55165 non-null  float64\n",
      " 3   insult         55165 non-null  float64\n",
      " 4   obscene        55165 non-null  float64\n",
      " 5   score          55165 non-null  float64\n",
      " 6   severe_toxic   55165 non-null  float64\n",
      " 7   threat         55165 non-null  float64\n",
      " 8   toxic          55165 non-null  float64\n",
      " 9   kfold          55165 non-null  int64  \n",
      "dtypes: float64(7), int64(1), object(2)\n",
      "memory usage: 4.2+ MB\n",
      "None\n",
      "<class 'pandas.core.frame.DataFrame'>\n",
      "RangeIndex: 55165 entries, 0 to 55164\n",
      "Data columns (total 11 columns):\n",
      " #   Column         Non-Null Count  Dtype  \n",
      "---  ------         --------------  -----  \n",
      " 0   comment_text   55165 non-null  object \n",
      " 1   id             55165 non-null  object \n",
      " 2   identity_hate  55165 non-null  float64\n",
      " 3   insult         55165 non-null  float64\n",
      " 4   obscene        55165 non-null  float64\n",
      " 5   score          55165 non-null  float64\n",
      " 6   severe_toxic   55165 non-null  float64\n",
      " 7   threat         55165 non-null  float64\n",
      " 8   toxic          55165 non-null  float64\n",
      " 9   kfold          55165 non-null  int64  \n",
      " 10  bins           55165 non-null  int64  \n",
      "dtypes: float64(7), int64(2), object(2)\n",
      "memory usage: 4.6+ MB\n",
      "None\n"
     ]
    },
    {
     "name": "stderr",
     "output_type": "stream",
     "text": [
      "[W pthreadpool-cpp.cc:90] Warning: Leaking Caffe2 thread-pool after fork. (function pthreadpool)\n",
      "[W pthreadpool-cpp.cc:90] Warning: Leaking Caffe2 thread-pool after fork. (function pthreadpool)\n",
      "[W pthreadpool-cpp.cc:90] Warning: Leaking Caffe2 thread-pool after fork. (function pthreadpool)\n",
      "[W pthreadpool-cpp.cc:90] Warning: Leaking Caffe2 thread-pool after fork. (function pthreadpool)\n"
     ]
    },
    {
     "name": "stdout",
     "output_type": "stream",
     "text": [
      "trainscore is 0.06999882\n"
     ]
    },
    {
     "name": "stderr",
     "output_type": "stream",
     "text": [
      "[W pthreadpool-cpp.cc:90] Warning: Leaking Caffe2 thread-pool after fork. (function pthreadpool)\n",
      "[W pthreadpool-cpp.cc:90] Warning: Leaking Caffe2 thread-pool after fork. (function pthreadpool)\n",
      "[W pthreadpool-cpp.cc:90] Warning: Leaking Caffe2 thread-pool after fork. (function pthreadpool)\n",
      "[W pthreadpool-cpp.cc:90] Warning: Leaking Caffe2 thread-pool after fork. (function pthreadpool)\n",
      "100%|████████████████████████████████████████████| 3/3 [33:28<00:00, 669.57s/it]"
     ]
    },
    {
     "name": "stdout",
     "output_type": "stream",
     "text": [
      "valscore is 0.081305325\n",
      "<class 'pandas.core.frame.DataFrame'>\n",
      "RangeIndex: 55165 entries, 0 to 55164\n",
      "Data columns (total 10 columns):\n",
      " #   Column         Non-Null Count  Dtype  \n",
      "---  ------         --------------  -----  \n",
      " 0   comment_text   55165 non-null  object \n",
      " 1   id             55165 non-null  object \n",
      " 2   identity_hate  55165 non-null  float64\n",
      " 3   insult         55165 non-null  float64\n",
      " 4   obscene        55165 non-null  float64\n",
      " 5   score          55165 non-null  float64\n",
      " 6   severe_toxic   55165 non-null  float64\n",
      " 7   threat         55165 non-null  float64\n",
      " 8   toxic          55165 non-null  float64\n",
      " 9   kfold          55165 non-null  int64  \n",
      "dtypes: float64(7), int64(1), object(2)\n",
      "memory usage: 4.2+ MB\n",
      "None\n",
      "<class 'pandas.core.frame.DataFrame'>\n",
      "RangeIndex: 55165 entries, 0 to 55164\n",
      "Data columns (total 11 columns):\n",
      " #   Column         Non-Null Count  Dtype  \n",
      "---  ------         --------------  -----  \n",
      " 0   comment_text   55165 non-null  object \n",
      " 1   id             55165 non-null  object \n",
      " 2   identity_hate  55165 non-null  float64\n",
      " 3   insult         55165 non-null  float64\n",
      " 4   obscene        55165 non-null  float64\n",
      " 5   score          55165 non-null  float64\n",
      " 6   severe_toxic   55165 non-null  float64\n",
      " 7   threat         55165 non-null  float64\n",
      " 8   toxic          55165 non-null  float64\n",
      " 9   kfold          55165 non-null  int64  \n",
      " 10  bins           55165 non-null  int64  \n",
      "dtypes: float64(7), int64(2), object(2)\n",
      "memory usage: 4.6+ MB\n",
      "None\n"
     ]
    },
    {
     "name": "stderr",
     "output_type": "stream",
     "text": [
      "\n",
      "Some weights of the model checkpoint at neoyipeng/twitter-roberta-base-sentiment-mlm were not used when initializing RobertaForSequenceClassification: ['lm_head.dense.weight', 'lm_head.layer_norm.weight', 'lm_head.decoder.bias', 'lm_head.decoder.weight', 'lm_head.dense.bias', 'lm_head.layer_norm.bias', 'lm_head.bias']\n",
      "- This IS expected if you are initializing RobertaForSequenceClassification from the checkpoint of a model trained on another task or with another architecture (e.g. initializing a BertForSequenceClassification model from a BertForPreTraining model).\n",
      "- This IS NOT expected if you are initializing RobertaForSequenceClassification from the checkpoint of a model that you expect to be exactly identical (initializing a BertForSequenceClassification model from a BertForSequenceClassification model).\n",
      "Some weights of RobertaForSequenceClassification were not initialized from the model checkpoint at neoyipeng/twitter-roberta-base-sentiment-mlm and are newly initialized: ['classifier.out_proj.weight', 'classifier.dense.bias', 'classifier.out_proj.bias', 'classifier.dense.weight']\n",
      "You should probably TRAIN this model on a down-stream task to be able to use it for predictions and inference.\n",
      "  0%|                                                     | 0/3 [00:00<?, ?it/s]"
     ]
    },
    {
     "name": "stdout",
     "output_type": "stream",
     "text": [
      "---------------0start-------------\n",
      "<class 'pandas.core.frame.DataFrame'>\n",
      "RangeIndex: 55165 entries, 0 to 55164\n",
      "Data columns (total 10 columns):\n",
      " #   Column         Non-Null Count  Dtype  \n",
      "---  ------         --------------  -----  \n",
      " 0   comment_text   55165 non-null  object \n",
      " 1   id             55165 non-null  object \n",
      " 2   identity_hate  55165 non-null  float64\n",
      " 3   insult         55165 non-null  float64\n",
      " 4   obscene        55165 non-null  float64\n",
      " 5   score          55165 non-null  float64\n",
      " 6   severe_toxic   55165 non-null  float64\n",
      " 7   threat         55165 non-null  float64\n",
      " 8   toxic          55165 non-null  float64\n",
      " 9   kfold          55165 non-null  int64  \n",
      "dtypes: float64(7), int64(1), object(2)\n",
      "memory usage: 4.2+ MB\n",
      "None\n",
      "<class 'pandas.core.frame.DataFrame'>\n",
      "RangeIndex: 55165 entries, 0 to 55164\n",
      "Data columns (total 11 columns):\n",
      " #   Column         Non-Null Count  Dtype  \n",
      "---  ------         --------------  -----  \n",
      " 0   comment_text   55165 non-null  object \n",
      " 1   id             55165 non-null  object \n",
      " 2   identity_hate  55165 non-null  float64\n",
      " 3   insult         55165 non-null  float64\n",
      " 4   obscene        55165 non-null  float64\n",
      " 5   score          55165 non-null  float64\n",
      " 6   severe_toxic   55165 non-null  float64\n",
      " 7   threat         55165 non-null  float64\n",
      " 8   toxic          55165 non-null  float64\n",
      " 9   kfold          55165 non-null  int64  \n",
      " 10  bins           55165 non-null  int64  \n",
      "dtypes: float64(7), int64(2), object(2)\n",
      "memory usage: 4.6+ MB\n",
      "None\n"
     ]
    },
    {
     "name": "stderr",
     "output_type": "stream",
     "text": [
      "[W pthreadpool-cpp.cc:90] Warning: Leaking Caffe2 thread-pool after fork. (function pthreadpool)\n",
      "[W pthreadpool-cpp.cc:90] Warning: Leaking Caffe2 thread-pool after fork. (function pthreadpool)\n",
      "[W pthreadpool-cpp.cc:90] Warning: Leaking Caffe2 thread-pool after fork. (function pthreadpool)\n",
      "[W pthreadpool-cpp.cc:90] Warning: Leaking Caffe2 thread-pool after fork. (function pthreadpool)\n",
      "[W pthreadpool-cpp.cc:90] Warning: Leaking Caffe2 thread-pool after fork. (function pthreadpool)\n"
     ]
    },
    {
     "name": "stdout",
     "output_type": "stream",
     "text": [
      "trainscore is 0.10454877\n"
     ]
    },
    {
     "name": "stderr",
     "output_type": "stream",
     "text": [
      "[W pthreadpool-cpp.cc:90] Warning: Leaking Caffe2 thread-pool after fork. (function pthreadpool)\n",
      "[W pthreadpool-cpp.cc:90] Warning: Leaking Caffe2 thread-pool after fork. (function pthreadpool)\n",
      "[W pthreadpool-cpp.cc:90] Warning: Leaking Caffe2 thread-pool after fork. (function pthreadpool)\n",
      "[W pthreadpool-cpp.cc:90] Warning: Leaking Caffe2 thread-pool after fork. (function pthreadpool)\n"
     ]
    },
    {
     "name": "stdout",
     "output_type": "stream",
     "text": [
      "valscore is 0.081984915\n",
      "Save first model\n"
     ]
    },
    {
     "name": "stderr",
     "output_type": "stream",
     "text": [
      "\r",
      " 33%|██████████████▋                             | 1/3 [11:11<22:23, 671.77s/it]"
     ]
    },
    {
     "name": "stdout",
     "output_type": "stream",
     "text": [
      "---------------1start-------------\n",
      "<class 'pandas.core.frame.DataFrame'>\n",
      "RangeIndex: 55165 entries, 0 to 55164\n",
      "Data columns (total 10 columns):\n",
      " #   Column         Non-Null Count  Dtype  \n",
      "---  ------         --------------  -----  \n",
      " 0   comment_text   55165 non-null  object \n",
      " 1   id             55165 non-null  object \n",
      " 2   identity_hate  55165 non-null  float64\n",
      " 3   insult         55165 non-null  float64\n",
      " 4   obscene        55165 non-null  float64\n",
      " 5   score          55165 non-null  float64\n",
      " 6   severe_toxic   55165 non-null  float64\n",
      " 7   threat         55165 non-null  float64\n",
      " 8   toxic          55165 non-null  float64\n",
      " 9   kfold          55165 non-null  int64  \n",
      "dtypes: float64(7), int64(1), object(2)\n",
      "memory usage: 4.2+ MB\n",
      "None\n",
      "<class 'pandas.core.frame.DataFrame'>\n",
      "RangeIndex: 55165 entries, 0 to 55164\n",
      "Data columns (total 11 columns):\n",
      " #   Column         Non-Null Count  Dtype  \n",
      "---  ------         --------------  -----  \n",
      " 0   comment_text   55165 non-null  object \n",
      " 1   id             55165 non-null  object \n",
      " 2   identity_hate  55165 non-null  float64\n",
      " 3   insult         55165 non-null  float64\n",
      " 4   obscene        55165 non-null  float64\n",
      " 5   score          55165 non-null  float64\n",
      " 6   severe_toxic   55165 non-null  float64\n",
      " 7   threat         55165 non-null  float64\n",
      " 8   toxic          55165 non-null  float64\n",
      " 9   kfold          55165 non-null  int64  \n",
      " 10  bins           55165 non-null  int64  \n",
      "dtypes: float64(7), int64(2), object(2)\n",
      "memory usage: 4.6+ MB\n",
      "None\n"
     ]
    },
    {
     "name": "stderr",
     "output_type": "stream",
     "text": [
      "[W pthreadpool-cpp.cc:90] Warning: Leaking Caffe2 thread-pool after fork. (function pthreadpool)\n",
      "[W pthreadpool-cpp.cc:90] Warning: Leaking Caffe2 thread-pool after fork. (function pthreadpool)\n",
      "[W pthreadpool-cpp.cc:90] Warning: Leaking Caffe2 thread-pool after fork. (function pthreadpool)\n",
      "[W pthreadpool-cpp.cc:90] Warning: Leaking Caffe2 thread-pool after fork. (function pthreadpool)\n"
     ]
    },
    {
     "name": "stdout",
     "output_type": "stream",
     "text": [
      "trainscore is 0.08379385\n"
     ]
    },
    {
     "name": "stderr",
     "output_type": "stream",
     "text": [
      "[W pthreadpool-cpp.cc:90] Warning: Leaking Caffe2 thread-pool after fork. (function pthreadpool)\n",
      "[W pthreadpool-cpp.cc:90] Warning: Leaking Caffe2 thread-pool after fork. (function pthreadpool)\n",
      "[W pthreadpool-cpp.cc:90] Warning: Leaking Caffe2 thread-pool after fork. (function pthreadpool)\n",
      "[W pthreadpool-cpp.cc:90] Warning: Leaking Caffe2 thread-pool after fork. (function pthreadpool)\n"
     ]
    },
    {
     "name": "stdout",
     "output_type": "stream",
     "text": [
      "valscore is 0.08064649\n",
      "found better point\n"
     ]
    },
    {
     "name": "stderr",
     "output_type": "stream",
     "text": [
      "\r",
      " 67%|█████████████████████████████▎              | 2/3 [22:23<11:11, 671.64s/it]"
     ]
    },
    {
     "name": "stdout",
     "output_type": "stream",
     "text": [
      "---------------2start-------------\n",
      "<class 'pandas.core.frame.DataFrame'>\n",
      "RangeIndex: 55165 entries, 0 to 55164\n",
      "Data columns (total 10 columns):\n",
      " #   Column         Non-Null Count  Dtype  \n",
      "---  ------         --------------  -----  \n",
      " 0   comment_text   55165 non-null  object \n",
      " 1   id             55165 non-null  object \n",
      " 2   identity_hate  55165 non-null  float64\n",
      " 3   insult         55165 non-null  float64\n",
      " 4   obscene        55165 non-null  float64\n",
      " 5   score          55165 non-null  float64\n",
      " 6   severe_toxic   55165 non-null  float64\n",
      " 7   threat         55165 non-null  float64\n",
      " 8   toxic          55165 non-null  float64\n",
      " 9   kfold          55165 non-null  int64  \n",
      "dtypes: float64(7), int64(1), object(2)\n",
      "memory usage: 4.2+ MB\n",
      "None\n",
      "<class 'pandas.core.frame.DataFrame'>\n",
      "RangeIndex: 55165 entries, 0 to 55164\n",
      "Data columns (total 11 columns):\n",
      " #   Column         Non-Null Count  Dtype  \n",
      "---  ------         --------------  -----  \n",
      " 0   comment_text   55165 non-null  object \n",
      " 1   id             55165 non-null  object \n",
      " 2   identity_hate  55165 non-null  float64\n",
      " 3   insult         55165 non-null  float64\n",
      " 4   obscene        55165 non-null  float64\n",
      " 5   score          55165 non-null  float64\n",
      " 6   severe_toxic   55165 non-null  float64\n",
      " 7   threat         55165 non-null  float64\n",
      " 8   toxic          55165 non-null  float64\n",
      " 9   kfold          55165 non-null  int64  \n",
      " 10  bins           55165 non-null  int64  \n",
      "dtypes: float64(7), int64(2), object(2)\n",
      "memory usage: 4.6+ MB\n",
      "None\n"
     ]
    },
    {
     "name": "stderr",
     "output_type": "stream",
     "text": [
      "[W pthreadpool-cpp.cc:90] Warning: Leaking Caffe2 thread-pool after fork. (function pthreadpool)\n",
      "[W pthreadpool-cpp.cc:90] Warning: Leaking Caffe2 thread-pool after fork. (function pthreadpool)\n",
      "[W pthreadpool-cpp.cc:90] Warning: Leaking Caffe2 thread-pool after fork. (function pthreadpool)\n",
      "[W pthreadpool-cpp.cc:90] Warning: Leaking Caffe2 thread-pool after fork. (function pthreadpool)\n"
     ]
    },
    {
     "name": "stdout",
     "output_type": "stream",
     "text": [
      "trainscore is 0.07138242\n"
     ]
    },
    {
     "name": "stderr",
     "output_type": "stream",
     "text": [
      "[W pthreadpool-cpp.cc:90] Warning: Leaking Caffe2 thread-pool after fork. (function pthreadpool)\n",
      "[W pthreadpool-cpp.cc:90] Warning: Leaking Caffe2 thread-pool after fork. (function pthreadpool)\n",
      "[W pthreadpool-cpp.cc:90] Warning: Leaking Caffe2 thread-pool after fork. (function pthreadpool)\n",
      "[W pthreadpool-cpp.cc:90] Warning: Leaking Caffe2 thread-pool after fork. (function pthreadpool)\n"
     ]
    },
    {
     "name": "stdout",
     "output_type": "stream",
     "text": [
      "valscore is 0.07847794\n",
      "found better point\n"
     ]
    },
    {
     "name": "stderr",
     "output_type": "stream",
     "text": [
      "100%|████████████████████████████████████████████| 3/3 [33:34<00:00, 671.58s/it]\n"
     ]
    },
    {
     "name": "stdout",
     "output_type": "stream",
     "text": [
      "<class 'pandas.core.frame.DataFrame'>\n",
      "RangeIndex: 55165 entries, 0 to 55164\n",
      "Data columns (total 10 columns):\n",
      " #   Column         Non-Null Count  Dtype  \n",
      "---  ------         --------------  -----  \n",
      " 0   comment_text   55165 non-null  object \n",
      " 1   id             55165 non-null  object \n",
      " 2   identity_hate  55165 non-null  float64\n",
      " 3   insult         55165 non-null  float64\n",
      " 4   obscene        55165 non-null  float64\n",
      " 5   score          55165 non-null  float64\n",
      " 6   severe_toxic   55165 non-null  float64\n",
      " 7   threat         55165 non-null  float64\n",
      " 8   toxic          55165 non-null  float64\n",
      " 9   kfold          55165 non-null  int64  \n",
      "dtypes: float64(7), int64(1), object(2)\n",
      "memory usage: 4.2+ MB\n",
      "None\n",
      "<class 'pandas.core.frame.DataFrame'>\n",
      "RangeIndex: 55165 entries, 0 to 55164\n",
      "Data columns (total 11 columns):\n",
      " #   Column         Non-Null Count  Dtype  \n",
      "---  ------         --------------  -----  \n",
      " 0   comment_text   55165 non-null  object \n",
      " 1   id             55165 non-null  object \n",
      " 2   identity_hate  55165 non-null  float64\n",
      " 3   insult         55165 non-null  float64\n",
      " 4   obscene        55165 non-null  float64\n",
      " 5   score          55165 non-null  float64\n",
      " 6   severe_toxic   55165 non-null  float64\n",
      " 7   threat         55165 non-null  float64\n",
      " 8   toxic          55165 non-null  float64\n",
      " 9   kfold          55165 non-null  int64  \n",
      " 10  bins           55165 non-null  int64  \n",
      "dtypes: float64(7), int64(2), object(2)\n",
      "memory usage: 4.6+ MB\n",
      "None\n"
     ]
    },
    {
     "name": "stderr",
     "output_type": "stream",
     "text": [
      "Some weights of the model checkpoint at neoyipeng/twitter-roberta-base-sentiment-mlm were not used when initializing RobertaForSequenceClassification: ['lm_head.dense.weight', 'lm_head.layer_norm.weight', 'lm_head.decoder.bias', 'lm_head.decoder.weight', 'lm_head.dense.bias', 'lm_head.layer_norm.bias', 'lm_head.bias']\n",
      "- This IS expected if you are initializing RobertaForSequenceClassification from the checkpoint of a model trained on another task or with another architecture (e.g. initializing a BertForSequenceClassification model from a BertForPreTraining model).\n",
      "- This IS NOT expected if you are initializing RobertaForSequenceClassification from the checkpoint of a model that you expect to be exactly identical (initializing a BertForSequenceClassification model from a BertForSequenceClassification model).\n",
      "Some weights of RobertaForSequenceClassification were not initialized from the model checkpoint at neoyipeng/twitter-roberta-base-sentiment-mlm and are newly initialized: ['classifier.out_proj.weight', 'classifier.dense.bias', 'classifier.out_proj.bias', 'classifier.dense.weight']\n",
      "You should probably TRAIN this model on a down-stream task to be able to use it for predictions and inference.\n",
      "  0%|                                                     | 0/3 [00:00<?, ?it/s]"
     ]
    },
    {
     "name": "stdout",
     "output_type": "stream",
     "text": [
      "---------------0start-------------\n",
      "<class 'pandas.core.frame.DataFrame'>\n",
      "RangeIndex: 55165 entries, 0 to 55164\n",
      "Data columns (total 10 columns):\n",
      " #   Column         Non-Null Count  Dtype  \n",
      "---  ------         --------------  -----  \n",
      " 0   comment_text   55165 non-null  object \n",
      " 1   id             55165 non-null  object \n",
      " 2   identity_hate  55165 non-null  float64\n",
      " 3   insult         55165 non-null  float64\n",
      " 4   obscene        55165 non-null  float64\n",
      " 5   score          55165 non-null  float64\n",
      " 6   severe_toxic   55165 non-null  float64\n",
      " 7   threat         55165 non-null  float64\n",
      " 8   toxic          55165 non-null  float64\n",
      " 9   kfold          55165 non-null  int64  \n",
      "dtypes: float64(7), int64(1), object(2)\n",
      "memory usage: 4.2+ MB\n",
      "None\n",
      "<class 'pandas.core.frame.DataFrame'>\n",
      "RangeIndex: 55165 entries, 0 to 55164\n",
      "Data columns (total 11 columns):\n",
      " #   Column         Non-Null Count  Dtype  \n",
      "---  ------         --------------  -----  \n",
      " 0   comment_text   55165 non-null  object \n",
      " 1   id             55165 non-null  object \n",
      " 2   identity_hate  55165 non-null  float64\n",
      " 3   insult         55165 non-null  float64\n",
      " 4   obscene        55165 non-null  float64\n",
      " 5   score          55165 non-null  float64\n",
      " 6   severe_toxic   55165 non-null  float64\n",
      " 7   threat         55165 non-null  float64\n",
      " 8   toxic          55165 non-null  float64\n",
      " 9   kfold          55165 non-null  int64  \n",
      " 10  bins           55165 non-null  int64  \n",
      "dtypes: float64(7), int64(2), object(2)\n",
      "memory usage: 4.6+ MB\n",
      "None\n"
     ]
    },
    {
     "name": "stderr",
     "output_type": "stream",
     "text": [
      "[W pthreadpool-cpp.cc:90] Warning: Leaking Caffe2 thread-pool after fork. (function pthreadpool)\n",
      "[W pthreadpool-cpp.cc:90] Warning: Leaking Caffe2 thread-pool after fork. (function pthreadpool)\n",
      "[W pthreadpool-cpp.cc:90] Warning: Leaking Caffe2 thread-pool after fork. (function pthreadpool)\n",
      "[W pthreadpool-cpp.cc:90] Warning: Leaking Caffe2 thread-pool after fork. (function pthreadpool)\n"
     ]
    },
    {
     "name": "stdout",
     "output_type": "stream",
     "text": [
      "trainscore is 0.112518534\n"
     ]
    },
    {
     "name": "stderr",
     "output_type": "stream",
     "text": [
      "[W pthreadpool-cpp.cc:90] Warning: Leaking Caffe2 thread-pool after fork. (function pthreadpool)\n",
      "[W pthreadpool-cpp.cc:90] Warning: Leaking Caffe2 thread-pool after fork. (function pthreadpool)\n",
      "[W pthreadpool-cpp.cc:90] Warning: Leaking Caffe2 thread-pool after fork. (function pthreadpool)\n",
      "[W pthreadpool-cpp.cc:90] Warning: Leaking Caffe2 thread-pool after fork. (function pthreadpool)\n"
     ]
    },
    {
     "name": "stdout",
     "output_type": "stream",
     "text": [
      "valscore is 0.08473934\n",
      "Save first model\n"
     ]
    },
    {
     "name": "stderr",
     "output_type": "stream",
     "text": [
      "\r",
      " 33%|██████████████▋                             | 1/3 [11:11<22:22, 671.46s/it]"
     ]
    },
    {
     "name": "stdout",
     "output_type": "stream",
     "text": [
      "---------------1start-------------\n",
      "<class 'pandas.core.frame.DataFrame'>\n",
      "RangeIndex: 55165 entries, 0 to 55164\n",
      "Data columns (total 10 columns):\n",
      " #   Column         Non-Null Count  Dtype  \n",
      "---  ------         --------------  -----  \n",
      " 0   comment_text   55165 non-null  object \n",
      " 1   id             55165 non-null  object \n",
      " 2   identity_hate  55165 non-null  float64\n",
      " 3   insult         55165 non-null  float64\n",
      " 4   obscene        55165 non-null  float64\n",
      " 5   score          55165 non-null  float64\n",
      " 6   severe_toxic   55165 non-null  float64\n",
      " 7   threat         55165 non-null  float64\n",
      " 8   toxic          55165 non-null  float64\n",
      " 9   kfold          55165 non-null  int64  \n",
      "dtypes: float64(7), int64(1), object(2)\n",
      "memory usage: 4.2+ MB\n",
      "None\n",
      "<class 'pandas.core.frame.DataFrame'>\n",
      "RangeIndex: 55165 entries, 0 to 55164\n",
      "Data columns (total 11 columns):\n",
      " #   Column         Non-Null Count  Dtype  \n",
      "---  ------         --------------  -----  \n",
      " 0   comment_text   55165 non-null  object \n",
      " 1   id             55165 non-null  object \n",
      " 2   identity_hate  55165 non-null  float64\n",
      " 3   insult         55165 non-null  float64\n",
      " 4   obscene        55165 non-null  float64\n",
      " 5   score          55165 non-null  float64\n",
      " 6   severe_toxic   55165 non-null  float64\n",
      " 7   threat         55165 non-null  float64\n",
      " 8   toxic          55165 non-null  float64\n",
      " 9   kfold          55165 non-null  int64  \n",
      " 10  bins           55165 non-null  int64  \n",
      "dtypes: float64(7), int64(2), object(2)\n",
      "memory usage: 4.6+ MB\n",
      "None\n"
     ]
    },
    {
     "name": "stderr",
     "output_type": "stream",
     "text": [
      "[W pthreadpool-cpp.cc:90] Warning: Leaking Caffe2 thread-pool after fork. (function pthreadpool)\n",
      "[W pthreadpool-cpp.cc:90] Warning: Leaking Caffe2 thread-pool after fork. (function pthreadpool)\n",
      "[W pthreadpool-cpp.cc:90] Warning: Leaking Caffe2 thread-pool after fork. (function pthreadpool)\n",
      "[W pthreadpool-cpp.cc:90] Warning: Leaking Caffe2 thread-pool after fork. (function pthreadpool)\n"
     ]
    },
    {
     "name": "stdout",
     "output_type": "stream",
     "text": [
      "trainscore is 0.08497541\n"
     ]
    },
    {
     "name": "stderr",
     "output_type": "stream",
     "text": [
      "[W pthreadpool-cpp.cc:90] Warning: Leaking Caffe2 thread-pool after fork. (function pthreadpool)\n",
      "[W pthreadpool-cpp.cc:90] Warning: Leaking Caffe2 thread-pool after fork. (function pthreadpool)\n",
      "[W pthreadpool-cpp.cc:90] Warning: Leaking Caffe2 thread-pool after fork. (function pthreadpool)\n",
      "[W pthreadpool-cpp.cc:90] Warning: Leaking Caffe2 thread-pool after fork. (function pthreadpool)\n"
     ]
    },
    {
     "name": "stdout",
     "output_type": "stream",
     "text": [
      "valscore is 0.07947622\n",
      "found better point\n"
     ]
    },
    {
     "name": "stderr",
     "output_type": "stream",
     "text": [
      "\r",
      " 67%|█████████████████████████████▎              | 2/3 [22:23<11:11, 671.52s/it]"
     ]
    },
    {
     "name": "stdout",
     "output_type": "stream",
     "text": [
      "---------------2start-------------\n",
      "<class 'pandas.core.frame.DataFrame'>\n",
      "RangeIndex: 55165 entries, 0 to 55164\n",
      "Data columns (total 10 columns):\n",
      " #   Column         Non-Null Count  Dtype  \n",
      "---  ------         --------------  -----  \n",
      " 0   comment_text   55165 non-null  object \n",
      " 1   id             55165 non-null  object \n",
      " 2   identity_hate  55165 non-null  float64\n",
      " 3   insult         55165 non-null  float64\n",
      " 4   obscene        55165 non-null  float64\n",
      " 5   score          55165 non-null  float64\n",
      " 6   severe_toxic   55165 non-null  float64\n",
      " 7   threat         55165 non-null  float64\n",
      " 8   toxic          55165 non-null  float64\n",
      " 9   kfold          55165 non-null  int64  \n",
      "dtypes: float64(7), int64(1), object(2)\n",
      "memory usage: 4.2+ MB\n",
      "None\n",
      "<class 'pandas.core.frame.DataFrame'>\n",
      "RangeIndex: 55165 entries, 0 to 55164\n",
      "Data columns (total 11 columns):\n",
      " #   Column         Non-Null Count  Dtype  \n",
      "---  ------         --------------  -----  \n",
      " 0   comment_text   55165 non-null  object \n",
      " 1   id             55165 non-null  object \n",
      " 2   identity_hate  55165 non-null  float64\n",
      " 3   insult         55165 non-null  float64\n",
      " 4   obscene        55165 non-null  float64\n",
      " 5   score          55165 non-null  float64\n",
      " 6   severe_toxic   55165 non-null  float64\n",
      " 7   threat         55165 non-null  float64\n",
      " 8   toxic          55165 non-null  float64\n",
      " 9   kfold          55165 non-null  int64  \n",
      " 10  bins           55165 non-null  int64  \n",
      "dtypes: float64(7), int64(2), object(2)\n",
      "memory usage: 4.6+ MB\n",
      "None\n"
     ]
    },
    {
     "name": "stderr",
     "output_type": "stream",
     "text": [
      "[W pthreadpool-cpp.cc:90] Warning: Leaking Caffe2 thread-pool after fork. (function pthreadpool)\n",
      "[W pthreadpool-cpp.cc:90] Warning: Leaking Caffe2 thread-pool after fork. (function pthreadpool)\n",
      "[W pthreadpool-cpp.cc:90] Warning: Leaking Caffe2 thread-pool after fork. (function pthreadpool)\n",
      "[W pthreadpool-cpp.cc:90] Warning: Leaking Caffe2 thread-pool after fork. (function pthreadpool)\n"
     ]
    },
    {
     "name": "stdout",
     "output_type": "stream",
     "text": [
      "trainscore is 0.07174288\n"
     ]
    },
    {
     "name": "stderr",
     "output_type": "stream",
     "text": [
      "[W pthreadpool-cpp.cc:90] Warning: Leaking Caffe2 thread-pool after fork. (function pthreadpool)\n",
      "[W pthreadpool-cpp.cc:90] Warning: Leaking Caffe2 thread-pool after fork. (function pthreadpool)\n",
      "[W pthreadpool-cpp.cc:90] Warning: Leaking Caffe2 thread-pool after fork. (function pthreadpool)\n",
      "[W pthreadpool-cpp.cc:90] Warning: Leaking Caffe2 thread-pool after fork. (function pthreadpool)\n",
      "100%|████████████████████████████████████████████| 3/3 [33:40<00:00, 673.53s/it]"
     ]
    },
    {
     "name": "stdout",
     "output_type": "stream",
     "text": [
      "valscore is 0.082683675\n",
      "<class 'pandas.core.frame.DataFrame'>\n",
      "RangeIndex: 55165 entries, 0 to 55164\n",
      "Data columns (total 10 columns):\n",
      " #   Column         Non-Null Count  Dtype  \n",
      "---  ------         --------------  -----  \n",
      " 0   comment_text   55165 non-null  object \n",
      " 1   id             55165 non-null  object \n",
      " 2   identity_hate  55165 non-null  float64\n",
      " 3   insult         55165 non-null  float64\n",
      " 4   obscene        55165 non-null  float64\n",
      " 5   score          55165 non-null  float64\n",
      " 6   severe_toxic   55165 non-null  float64\n",
      " 7   threat         55165 non-null  float64\n",
      " 8   toxic          55165 non-null  float64\n",
      " 9   kfold          55165 non-null  int64  \n",
      "dtypes: float64(7), int64(1), object(2)\n",
      "memory usage: 4.2+ MB\n",
      "None\n",
      "<class 'pandas.core.frame.DataFrame'>\n",
      "RangeIndex: 55165 entries, 0 to 55164\n",
      "Data columns (total 11 columns):\n",
      " #   Column         Non-Null Count  Dtype  \n",
      "---  ------         --------------  -----  \n",
      " 0   comment_text   55165 non-null  object \n",
      " 1   id             55165 non-null  object \n",
      " 2   identity_hate  55165 non-null  float64\n",
      " 3   insult         55165 non-null  float64\n",
      " 4   obscene        55165 non-null  float64\n",
      " 5   score          55165 non-null  float64\n",
      " 6   severe_toxic   55165 non-null  float64\n",
      " 7   threat         55165 non-null  float64\n",
      " 8   toxic          55165 non-null  float64\n",
      " 9   kfold          55165 non-null  int64  \n",
      " 10  bins           55165 non-null  int64  \n",
      "dtypes: float64(7), int64(2), object(2)\n",
      "memory usage: 4.6+ MB\n",
      "None\n"
     ]
    },
    {
     "name": "stderr",
     "output_type": "stream",
     "text": [
      "\n",
      "Some weights of the model checkpoint at neoyipeng/twitter-roberta-base-sentiment-mlm were not used when initializing RobertaForSequenceClassification: ['lm_head.dense.weight', 'lm_head.layer_norm.weight', 'lm_head.decoder.bias', 'lm_head.decoder.weight', 'lm_head.dense.bias', 'lm_head.layer_norm.bias', 'lm_head.bias']\n",
      "- This IS expected if you are initializing RobertaForSequenceClassification from the checkpoint of a model trained on another task or with another architecture (e.g. initializing a BertForSequenceClassification model from a BertForPreTraining model).\n",
      "- This IS NOT expected if you are initializing RobertaForSequenceClassification from the checkpoint of a model that you expect to be exactly identical (initializing a BertForSequenceClassification model from a BertForSequenceClassification model).\n",
      "Some weights of RobertaForSequenceClassification were not initialized from the model checkpoint at neoyipeng/twitter-roberta-base-sentiment-mlm and are newly initialized: ['classifier.out_proj.weight', 'classifier.dense.bias', 'classifier.out_proj.bias', 'classifier.dense.weight']\n",
      "You should probably TRAIN this model on a down-stream task to be able to use it for predictions and inference.\n",
      "  0%|                                                     | 0/3 [00:00<?, ?it/s]"
     ]
    },
    {
     "name": "stdout",
     "output_type": "stream",
     "text": [
      "---------------0start-------------\n",
      "<class 'pandas.core.frame.DataFrame'>\n",
      "RangeIndex: 55165 entries, 0 to 55164\n",
      "Data columns (total 10 columns):\n",
      " #   Column         Non-Null Count  Dtype  \n",
      "---  ------         --------------  -----  \n",
      " 0   comment_text   55165 non-null  object \n",
      " 1   id             55165 non-null  object \n",
      " 2   identity_hate  55165 non-null  float64\n",
      " 3   insult         55165 non-null  float64\n",
      " 4   obscene        55165 non-null  float64\n",
      " 5   score          55165 non-null  float64\n",
      " 6   severe_toxic   55165 non-null  float64\n",
      " 7   threat         55165 non-null  float64\n",
      " 8   toxic          55165 non-null  float64\n",
      " 9   kfold          55165 non-null  int64  \n",
      "dtypes: float64(7), int64(1), object(2)\n",
      "memory usage: 4.2+ MB\n",
      "None\n",
      "<class 'pandas.core.frame.DataFrame'>\n",
      "RangeIndex: 55165 entries, 0 to 55164\n",
      "Data columns (total 11 columns):\n",
      " #   Column         Non-Null Count  Dtype  \n",
      "---  ------         --------------  -----  \n",
      " 0   comment_text   55165 non-null  object \n",
      " 1   id             55165 non-null  object \n",
      " 2   identity_hate  55165 non-null  float64\n",
      " 3   insult         55165 non-null  float64\n",
      " 4   obscene        55165 non-null  float64\n",
      " 5   score          55165 non-null  float64\n",
      " 6   severe_toxic   55165 non-null  float64\n",
      " 7   threat         55165 non-null  float64\n",
      " 8   toxic          55165 non-null  float64\n",
      " 9   kfold          55165 non-null  int64  \n",
      " 10  bins           55165 non-null  int64  \n",
      "dtypes: float64(7), int64(2), object(2)\n",
      "memory usage: 4.6+ MB\n",
      "None\n"
     ]
    },
    {
     "name": "stderr",
     "output_type": "stream",
     "text": [
      "[W pthreadpool-cpp.cc:90] Warning: Leaking Caffe2 thread-pool after fork. (function pthreadpool)\n",
      "[W pthreadpool-cpp.cc:90] Warning: Leaking Caffe2 thread-pool after fork. (function pthreadpool)\n",
      "[W pthreadpool-cpp.cc:90] Warning: Leaking Caffe2 thread-pool after fork. (function pthreadpool)\n",
      "[W pthreadpool-cpp.cc:90] Warning: Leaking Caffe2 thread-pool after fork. (function pthreadpool)\n"
     ]
    },
    {
     "name": "stdout",
     "output_type": "stream",
     "text": [
      "trainscore is 0.10624065\n"
     ]
    },
    {
     "name": "stderr",
     "output_type": "stream",
     "text": [
      "[W pthreadpool-cpp.cc:90] Warning: Leaking Caffe2 thread-pool after fork. (function pthreadpool)\n",
      "[W pthreadpool-cpp.cc:90] Warning: Leaking Caffe2 thread-pool after fork. (function pthreadpool)\n",
      "[W pthreadpool-cpp.cc:90] Warning: Leaking Caffe2 thread-pool after fork. (function pthreadpool)\n",
      "[W pthreadpool-cpp.cc:90] Warning: Leaking Caffe2 thread-pool after fork. (function pthreadpool)\n"
     ]
    },
    {
     "name": "stdout",
     "output_type": "stream",
     "text": [
      "valscore is 0.08574595\n",
      "Save first model\n"
     ]
    },
    {
     "name": "stderr",
     "output_type": "stream",
     "text": [
      "\r",
      " 33%|██████████████▋                             | 1/3 [11:38<23:16, 698.28s/it]"
     ]
    },
    {
     "name": "stdout",
     "output_type": "stream",
     "text": [
      "---------------1start-------------\n",
      "<class 'pandas.core.frame.DataFrame'>\n",
      "RangeIndex: 55165 entries, 0 to 55164\n",
      "Data columns (total 10 columns):\n",
      " #   Column         Non-Null Count  Dtype  \n",
      "---  ------         --------------  -----  \n",
      " 0   comment_text   55165 non-null  object \n",
      " 1   id             55165 non-null  object \n",
      " 2   identity_hate  55165 non-null  float64\n",
      " 3   insult         55165 non-null  float64\n",
      " 4   obscene        55165 non-null  float64\n",
      " 5   score          55165 non-null  float64\n",
      " 6   severe_toxic   55165 non-null  float64\n",
      " 7   threat         55165 non-null  float64\n",
      " 8   toxic          55165 non-null  float64\n",
      " 9   kfold          55165 non-null  int64  \n",
      "dtypes: float64(7), int64(1), object(2)\n",
      "memory usage: 4.2+ MB\n",
      "None\n",
      "<class 'pandas.core.frame.DataFrame'>\n",
      "RangeIndex: 55165 entries, 0 to 55164\n",
      "Data columns (total 11 columns):\n",
      " #   Column         Non-Null Count  Dtype  \n",
      "---  ------         --------------  -----  \n",
      " 0   comment_text   55165 non-null  object \n",
      " 1   id             55165 non-null  object \n",
      " 2   identity_hate  55165 non-null  float64\n",
      " 3   insult         55165 non-null  float64\n",
      " 4   obscene        55165 non-null  float64\n",
      " 5   score          55165 non-null  float64\n",
      " 6   severe_toxic   55165 non-null  float64\n",
      " 7   threat         55165 non-null  float64\n",
      " 8   toxic          55165 non-null  float64\n",
      " 9   kfold          55165 non-null  int64  \n",
      " 10  bins           55165 non-null  int64  \n",
      "dtypes: float64(7), int64(2), object(2)\n",
      "memory usage: 4.6+ MB\n",
      "None\n"
     ]
    },
    {
     "name": "stderr",
     "output_type": "stream",
     "text": [
      "[W pthreadpool-cpp.cc:90] Warning: Leaking Caffe2 thread-pool after fork. (function pthreadpool)\n",
      "[W pthreadpool-cpp.cc:90] Warning: Leaking Caffe2 thread-pool after fork. (function pthreadpool)\n",
      "[W pthreadpool-cpp.cc:90] Warning: Leaking Caffe2 thread-pool after fork. (function pthreadpool)\n",
      "[W pthreadpool-cpp.cc:90] Warning: Leaking Caffe2 thread-pool after fork. (function pthreadpool)\n"
     ]
    },
    {
     "name": "stdout",
     "output_type": "stream",
     "text": [
      "trainscore is 0.0841102\n"
     ]
    },
    {
     "name": "stderr",
     "output_type": "stream",
     "text": [
      "[W pthreadpool-cpp.cc:90] Warning: Leaking Caffe2 thread-pool after fork. (function pthreadpool)\n",
      "[W pthreadpool-cpp.cc:90] Warning: Leaking Caffe2 thread-pool after fork. (function pthreadpool)\n",
      "[W pthreadpool-cpp.cc:90] Warning: Leaking Caffe2 thread-pool after fork. (function pthreadpool)\n",
      "[W pthreadpool-cpp.cc:90] Warning: Leaking Caffe2 thread-pool after fork. (function pthreadpool)\n"
     ]
    },
    {
     "name": "stdout",
     "output_type": "stream",
     "text": [
      "valscore is 0.078559466\n",
      "found better point\n"
     ]
    },
    {
     "name": "stderr",
     "output_type": "stream",
     "text": [
      "\r",
      " 67%|█████████████████████████████▎              | 2/3 [23:10<11:34, 694.53s/it]"
     ]
    },
    {
     "name": "stdout",
     "output_type": "stream",
     "text": [
      "---------------2start-------------\n",
      "<class 'pandas.core.frame.DataFrame'>\n",
      "RangeIndex: 55165 entries, 0 to 55164\n",
      "Data columns (total 10 columns):\n",
      " #   Column         Non-Null Count  Dtype  \n",
      "---  ------         --------------  -----  \n",
      " 0   comment_text   55165 non-null  object \n",
      " 1   id             55165 non-null  object \n",
      " 2   identity_hate  55165 non-null  float64\n",
      " 3   insult         55165 non-null  float64\n",
      " 4   obscene        55165 non-null  float64\n",
      " 5   score          55165 non-null  float64\n",
      " 6   severe_toxic   55165 non-null  float64\n",
      " 7   threat         55165 non-null  float64\n",
      " 8   toxic          55165 non-null  float64\n",
      " 9   kfold          55165 non-null  int64  \n",
      "dtypes: float64(7), int64(1), object(2)\n",
      "memory usage: 4.2+ MB\n",
      "None\n",
      "<class 'pandas.core.frame.DataFrame'>\n",
      "RangeIndex: 55165 entries, 0 to 55164\n",
      "Data columns (total 11 columns):\n",
      " #   Column         Non-Null Count  Dtype  \n",
      "---  ------         --------------  -----  \n",
      " 0   comment_text   55165 non-null  object \n",
      " 1   id             55165 non-null  object \n",
      " 2   identity_hate  55165 non-null  float64\n",
      " 3   insult         55165 non-null  float64\n",
      " 4   obscene        55165 non-null  float64\n",
      " 5   score          55165 non-null  float64\n",
      " 6   severe_toxic   55165 non-null  float64\n",
      " 7   threat         55165 non-null  float64\n",
      " 8   toxic          55165 non-null  float64\n",
      " 9   kfold          55165 non-null  int64  \n",
      " 10  bins           55165 non-null  int64  \n",
      "dtypes: float64(7), int64(2), object(2)\n",
      "memory usage: 4.6+ MB\n",
      "None\n"
     ]
    },
    {
     "name": "stderr",
     "output_type": "stream",
     "text": [
      "[W pthreadpool-cpp.cc:90] Warning: Leaking Caffe2 thread-pool after fork. (function pthreadpool)\n",
      "[W pthreadpool-cpp.cc:90] Warning: Leaking Caffe2 thread-pool after fork. (function pthreadpool)\n",
      "[W pthreadpool-cpp.cc:90] Warning: Leaking Caffe2 thread-pool after fork. (function pthreadpool)\n",
      "[W pthreadpool-cpp.cc:90] Warning: Leaking Caffe2 thread-pool after fork. (function pthreadpool)\n"
     ]
    },
    {
     "name": "stdout",
     "output_type": "stream",
     "text": [
      "trainscore is 0.07046167\n"
     ]
    },
    {
     "name": "stderr",
     "output_type": "stream",
     "text": [
      "[W pthreadpool-cpp.cc:90] Warning: Leaking Caffe2 thread-pool after fork. (function pthreadpool)\n",
      "[W pthreadpool-cpp.cc:90] Warning: Leaking Caffe2 thread-pool after fork. (function pthreadpool)\n",
      "[W pthreadpool-cpp.cc:90] Warning: Leaking Caffe2 thread-pool after fork. (function pthreadpool)\n",
      "[W pthreadpool-cpp.cc:90] Warning: Leaking Caffe2 thread-pool after fork. (function pthreadpool)\n"
     ]
    },
    {
     "name": "stdout",
     "output_type": "stream",
     "text": [
      "valscore is 0.07789593\n",
      "found better point\n"
     ]
    },
    {
     "name": "stderr",
     "output_type": "stream",
     "text": [
      "100%|████████████████████████████████████████████| 3/3 [34:33<00:00, 691.28s/it]\n"
     ]
    },
    {
     "name": "stdout",
     "output_type": "stream",
     "text": [
      "<class 'pandas.core.frame.DataFrame'>\n",
      "RangeIndex: 55165 entries, 0 to 55164\n",
      "Data columns (total 10 columns):\n",
      " #   Column         Non-Null Count  Dtype  \n",
      "---  ------         --------------  -----  \n",
      " 0   comment_text   55165 non-null  object \n",
      " 1   id             55165 non-null  object \n",
      " 2   identity_hate  55165 non-null  float64\n",
      " 3   insult         55165 non-null  float64\n",
      " 4   obscene        55165 non-null  float64\n",
      " 5   score          55165 non-null  float64\n",
      " 6   severe_toxic   55165 non-null  float64\n",
      " 7   threat         55165 non-null  float64\n",
      " 8   toxic          55165 non-null  float64\n",
      " 9   kfold          55165 non-null  int64  \n",
      "dtypes: float64(7), int64(1), object(2)\n",
      "memory usage: 4.2+ MB\n",
      "None\n",
      "<class 'pandas.core.frame.DataFrame'>\n",
      "RangeIndex: 55165 entries, 0 to 55164\n",
      "Data columns (total 11 columns):\n",
      " #   Column         Non-Null Count  Dtype  \n",
      "---  ------         --------------  -----  \n",
      " 0   comment_text   55165 non-null  object \n",
      " 1   id             55165 non-null  object \n",
      " 2   identity_hate  55165 non-null  float64\n",
      " 3   insult         55165 non-null  float64\n",
      " 4   obscene        55165 non-null  float64\n",
      " 5   score          55165 non-null  float64\n",
      " 6   severe_toxic   55165 non-null  float64\n",
      " 7   threat         55165 non-null  float64\n",
      " 8   toxic          55165 non-null  float64\n",
      " 9   kfold          55165 non-null  int64  \n",
      " 10  bins           55165 non-null  int64  \n",
      "dtypes: float64(7), int64(2), object(2)\n",
      "memory usage: 4.6+ MB\n",
      "None\n"
     ]
    },
    {
     "name": "stderr",
     "output_type": "stream",
     "text": [
      "Some weights of the model checkpoint at neoyipeng/twitter-roberta-base-sentiment-mlm were not used when initializing RobertaForSequenceClassification: ['lm_head.dense.weight', 'lm_head.layer_norm.weight', 'lm_head.decoder.bias', 'lm_head.decoder.weight', 'lm_head.dense.bias', 'lm_head.layer_norm.bias', 'lm_head.bias']\n",
      "- This IS expected if you are initializing RobertaForSequenceClassification from the checkpoint of a model trained on another task or with another architecture (e.g. initializing a BertForSequenceClassification model from a BertForPreTraining model).\n",
      "- This IS NOT expected if you are initializing RobertaForSequenceClassification from the checkpoint of a model that you expect to be exactly identical (initializing a BertForSequenceClassification model from a BertForSequenceClassification model).\n",
      "Some weights of RobertaForSequenceClassification were not initialized from the model checkpoint at neoyipeng/twitter-roberta-base-sentiment-mlm and are newly initialized: ['classifier.out_proj.weight', 'classifier.dense.bias', 'classifier.out_proj.bias', 'classifier.dense.weight']\n",
      "You should probably TRAIN this model on a down-stream task to be able to use it for predictions and inference.\n",
      "  0%|                                                     | 0/3 [00:00<?, ?it/s]"
     ]
    },
    {
     "name": "stdout",
     "output_type": "stream",
     "text": [
      "---------------0start-------------\n",
      "<class 'pandas.core.frame.DataFrame'>\n",
      "RangeIndex: 55165 entries, 0 to 55164\n",
      "Data columns (total 10 columns):\n",
      " #   Column         Non-Null Count  Dtype  \n",
      "---  ------         --------------  -----  \n",
      " 0   comment_text   55165 non-null  object \n",
      " 1   id             55165 non-null  object \n",
      " 2   identity_hate  55165 non-null  float64\n",
      " 3   insult         55165 non-null  float64\n",
      " 4   obscene        55165 non-null  float64\n",
      " 5   score          55165 non-null  float64\n",
      " 6   severe_toxic   55165 non-null  float64\n",
      " 7   threat         55165 non-null  float64\n",
      " 8   toxic          55165 non-null  float64\n",
      " 9   kfold          55165 non-null  int64  \n",
      "dtypes: float64(7), int64(1), object(2)\n",
      "memory usage: 4.2+ MB\n",
      "None\n",
      "<class 'pandas.core.frame.DataFrame'>\n",
      "RangeIndex: 55165 entries, 0 to 55164\n",
      "Data columns (total 11 columns):\n",
      " #   Column         Non-Null Count  Dtype  \n",
      "---  ------         --------------  -----  \n",
      " 0   comment_text   55165 non-null  object \n",
      " 1   id             55165 non-null  object \n",
      " 2   identity_hate  55165 non-null  float64\n",
      " 3   insult         55165 non-null  float64\n",
      " 4   obscene        55165 non-null  float64\n",
      " 5   score          55165 non-null  float64\n",
      " 6   severe_toxic   55165 non-null  float64\n",
      " 7   threat         55165 non-null  float64\n",
      " 8   toxic          55165 non-null  float64\n",
      " 9   kfold          55165 non-null  int64  \n",
      " 10  bins           55165 non-null  int64  \n",
      "dtypes: float64(7), int64(2), object(2)\n",
      "memory usage: 4.6+ MB\n",
      "None\n"
     ]
    },
    {
     "name": "stderr",
     "output_type": "stream",
     "text": [
      "[W pthreadpool-cpp.cc:90] Warning: Leaking Caffe2 thread-pool after fork. (function pthreadpool)\n",
      "[W pthreadpool-cpp.cc:90] Warning: Leaking Caffe2 thread-pool after fork. (function pthreadpool)\n",
      "[W pthreadpool-cpp.cc:90] Warning: Leaking Caffe2 thread-pool after fork. (function pthreadpool)\n",
      "[W pthreadpool-cpp.cc:90] Warning: Leaking Caffe2 thread-pool after fork. (function pthreadpool)\n"
     ]
    },
    {
     "name": "stdout",
     "output_type": "stream",
     "text": [
      "trainscore is 0.10727802\n"
     ]
    },
    {
     "name": "stderr",
     "output_type": "stream",
     "text": [
      "[W pthreadpool-cpp.cc:90] Warning: Leaking Caffe2 thread-pool after fork. (function pthreadpool)\n",
      "[W pthreadpool-cpp.cc:90] Warning: Leaking Caffe2 thread-pool after fork. (function pthreadpool)\n",
      "[W pthreadpool-cpp.cc:90] Warning: Leaking Caffe2 thread-pool after fork. (function pthreadpool)\n",
      "[W pthreadpool-cpp.cc:90] Warning: Leaking Caffe2 thread-pool after fork. (function pthreadpool)\n"
     ]
    },
    {
     "name": "stdout",
     "output_type": "stream",
     "text": [
      "valscore is 0.08573751\n",
      "Save first model\n"
     ]
    },
    {
     "name": "stderr",
     "output_type": "stream",
     "text": [
      "\r",
      " 33%|██████████████▋                             | 1/3 [11:28<22:56, 688.23s/it]"
     ]
    },
    {
     "name": "stdout",
     "output_type": "stream",
     "text": [
      "---------------1start-------------\n",
      "<class 'pandas.core.frame.DataFrame'>\n",
      "RangeIndex: 55165 entries, 0 to 55164\n",
      "Data columns (total 10 columns):\n",
      " #   Column         Non-Null Count  Dtype  \n",
      "---  ------         --------------  -----  \n",
      " 0   comment_text   55165 non-null  object \n",
      " 1   id             55165 non-null  object \n",
      " 2   identity_hate  55165 non-null  float64\n",
      " 3   insult         55165 non-null  float64\n",
      " 4   obscene        55165 non-null  float64\n",
      " 5   score          55165 non-null  float64\n",
      " 6   severe_toxic   55165 non-null  float64\n",
      " 7   threat         55165 non-null  float64\n",
      " 8   toxic          55165 non-null  float64\n",
      " 9   kfold          55165 non-null  int64  \n",
      "dtypes: float64(7), int64(1), object(2)\n",
      "memory usage: 4.2+ MB\n",
      "None\n",
      "<class 'pandas.core.frame.DataFrame'>\n",
      "RangeIndex: 55165 entries, 0 to 55164\n",
      "Data columns (total 11 columns):\n",
      " #   Column         Non-Null Count  Dtype  \n",
      "---  ------         --------------  -----  \n",
      " 0   comment_text   55165 non-null  object \n",
      " 1   id             55165 non-null  object \n",
      " 2   identity_hate  55165 non-null  float64\n",
      " 3   insult         55165 non-null  float64\n",
      " 4   obscene        55165 non-null  float64\n",
      " 5   score          55165 non-null  float64\n",
      " 6   severe_toxic   55165 non-null  float64\n",
      " 7   threat         55165 non-null  float64\n",
      " 8   toxic          55165 non-null  float64\n",
      " 9   kfold          55165 non-null  int64  \n",
      " 10  bins           55165 non-null  int64  \n",
      "dtypes: float64(7), int64(2), object(2)\n",
      "memory usage: 4.6+ MB\n",
      "None\n"
     ]
    },
    {
     "name": "stderr",
     "output_type": "stream",
     "text": [
      "[W pthreadpool-cpp.cc:90] Warning: Leaking Caffe2 thread-pool after fork. (function pthreadpool)\n",
      "[W pthreadpool-cpp.cc:90] Warning: Leaking Caffe2 thread-pool after fork. (function pthreadpool)\n",
      "[W pthreadpool-cpp.cc:90] Warning: Leaking Caffe2 thread-pool after fork. (function pthreadpool)\n",
      "[W pthreadpool-cpp.cc:90] Warning: Leaking Caffe2 thread-pool after fork. (function pthreadpool)\n"
     ]
    },
    {
     "name": "stdout",
     "output_type": "stream",
     "text": [
      "trainscore is 0.08448446\n"
     ]
    },
    {
     "name": "stderr",
     "output_type": "stream",
     "text": [
      "[W pthreadpool-cpp.cc:90] Warning: Leaking Caffe2 thread-pool after fork. (function pthreadpool)\n",
      "[W pthreadpool-cpp.cc:90] Warning: Leaking Caffe2 thread-pool after fork. (function pthreadpool)\n",
      "[W pthreadpool-cpp.cc:90] Warning: Leaking Caffe2 thread-pool after fork. (function pthreadpool)\n",
      "[W pthreadpool-cpp.cc:90] Warning: Leaking Caffe2 thread-pool after fork. (function pthreadpool)\n"
     ]
    },
    {
     "name": "stdout",
     "output_type": "stream",
     "text": [
      "valscore is 0.08101909\n",
      "found better point\n"
     ]
    },
    {
     "name": "stderr",
     "output_type": "stream",
     "text": [
      "\r",
      " 67%|█████████████████████████████▎              | 2/3 [22:49<11:24, 684.27s/it]"
     ]
    },
    {
     "name": "stdout",
     "output_type": "stream",
     "text": [
      "---------------2start-------------\n",
      "<class 'pandas.core.frame.DataFrame'>\n",
      "RangeIndex: 55165 entries, 0 to 55164\n",
      "Data columns (total 10 columns):\n",
      " #   Column         Non-Null Count  Dtype  \n",
      "---  ------         --------------  -----  \n",
      " 0   comment_text   55165 non-null  object \n",
      " 1   id             55165 non-null  object \n",
      " 2   identity_hate  55165 non-null  float64\n",
      " 3   insult         55165 non-null  float64\n",
      " 4   obscene        55165 non-null  float64\n",
      " 5   score          55165 non-null  float64\n",
      " 6   severe_toxic   55165 non-null  float64\n",
      " 7   threat         55165 non-null  float64\n",
      " 8   toxic          55165 non-null  float64\n",
      " 9   kfold          55165 non-null  int64  \n",
      "dtypes: float64(7), int64(1), object(2)\n",
      "memory usage: 4.2+ MB\n",
      "None\n",
      "<class 'pandas.core.frame.DataFrame'>\n",
      "RangeIndex: 55165 entries, 0 to 55164\n",
      "Data columns (total 11 columns):\n",
      " #   Column         Non-Null Count  Dtype  \n",
      "---  ------         --------------  -----  \n",
      " 0   comment_text   55165 non-null  object \n",
      " 1   id             55165 non-null  object \n",
      " 2   identity_hate  55165 non-null  float64\n",
      " 3   insult         55165 non-null  float64\n",
      " 4   obscene        55165 non-null  float64\n",
      " 5   score          55165 non-null  float64\n",
      " 6   severe_toxic   55165 non-null  float64\n",
      " 7   threat         55165 non-null  float64\n",
      " 8   toxic          55165 non-null  float64\n",
      " 9   kfold          55165 non-null  int64  \n",
      " 10  bins           55165 non-null  int64  \n",
      "dtypes: float64(7), int64(2), object(2)\n",
      "memory usage: 4.6+ MB\n",
      "None\n"
     ]
    },
    {
     "name": "stderr",
     "output_type": "stream",
     "text": [
      "[W pthreadpool-cpp.cc:90] Warning: Leaking Caffe2 thread-pool after fork. (function pthreadpool)\n",
      "[W pthreadpool-cpp.cc:90] Warning: Leaking Caffe2 thread-pool after fork. (function pthreadpool)\n",
      "[W pthreadpool-cpp.cc:90] Warning: Leaking Caffe2 thread-pool after fork. (function pthreadpool)\n",
      "[W pthreadpool-cpp.cc:90] Warning: Leaking Caffe2 thread-pool after fork. (function pthreadpool)\n"
     ]
    },
    {
     "name": "stdout",
     "output_type": "stream",
     "text": [
      "trainscore is 0.07240669\n"
     ]
    },
    {
     "name": "stderr",
     "output_type": "stream",
     "text": [
      "[W pthreadpool-cpp.cc:90] Warning: Leaking Caffe2 thread-pool after fork. (function pthreadpool)\n",
      "[W pthreadpool-cpp.cc:90] Warning: Leaking Caffe2 thread-pool after fork. (function pthreadpool)\n",
      "[W pthreadpool-cpp.cc:90] Warning: Leaking Caffe2 thread-pool after fork. (function pthreadpool)\n",
      "[W pthreadpool-cpp.cc:90] Warning: Leaking Caffe2 thread-pool after fork. (function pthreadpool)\n"
     ]
    },
    {
     "name": "stdout",
     "output_type": "stream",
     "text": [
      "valscore is 0.080893666\n",
      "found better point\n"
     ]
    },
    {
     "name": "stderr",
     "output_type": "stream",
     "text": [
      "100%|████████████████████████████████████████████| 3/3 [34:14<00:00, 684.78s/it]\n"
     ]
    },
    {
     "name": "stdout",
     "output_type": "stream",
     "text": [
      "<class 'pandas.core.frame.DataFrame'>\n",
      "RangeIndex: 55165 entries, 0 to 55164\n",
      "Data columns (total 10 columns):\n",
      " #   Column         Non-Null Count  Dtype  \n",
      "---  ------         --------------  -----  \n",
      " 0   comment_text   55165 non-null  object \n",
      " 1   id             55165 non-null  object \n",
      " 2   identity_hate  55165 non-null  float64\n",
      " 3   insult         55165 non-null  float64\n",
      " 4   obscene        55165 non-null  float64\n",
      " 5   score          55165 non-null  float64\n",
      " 6   severe_toxic   55165 non-null  float64\n",
      " 7   threat         55165 non-null  float64\n",
      " 8   toxic          55165 non-null  float64\n",
      " 9   kfold          55165 non-null  int64  \n",
      "dtypes: float64(7), int64(1), object(2)\n",
      "memory usage: 4.2+ MB\n",
      "None\n",
      "<class 'pandas.core.frame.DataFrame'>\n",
      "RangeIndex: 55165 entries, 0 to 55164\n",
      "Data columns (total 11 columns):\n",
      " #   Column         Non-Null Count  Dtype  \n",
      "---  ------         --------------  -----  \n",
      " 0   comment_text   55165 non-null  object \n",
      " 1   id             55165 non-null  object \n",
      " 2   identity_hate  55165 non-null  float64\n",
      " 3   insult         55165 non-null  float64\n",
      " 4   obscene        55165 non-null  float64\n",
      " 5   score          55165 non-null  float64\n",
      " 6   severe_toxic   55165 non-null  float64\n",
      " 7   threat         55165 non-null  float64\n",
      " 8   toxic          55165 non-null  float64\n",
      " 9   kfold          55165 non-null  int64  \n",
      " 10  bins           55165 non-null  int64  \n",
      "dtypes: float64(7), int64(2), object(2)\n",
      "memory usage: 4.6+ MB\n",
      "None\n"
     ]
    },
    {
     "name": "stderr",
     "output_type": "stream",
     "text": [
      "Some weights of the model checkpoint at neoyipeng/twitter-roberta-base-sentiment-mlm were not used when initializing RobertaForSequenceClassification: ['lm_head.dense.weight', 'lm_head.layer_norm.weight', 'lm_head.decoder.bias', 'lm_head.decoder.weight', 'lm_head.dense.bias', 'lm_head.layer_norm.bias', 'lm_head.bias']\n",
      "- This IS expected if you are initializing RobertaForSequenceClassification from the checkpoint of a model trained on another task or with another architecture (e.g. initializing a BertForSequenceClassification model from a BertForPreTraining model).\n",
      "- This IS NOT expected if you are initializing RobertaForSequenceClassification from the checkpoint of a model that you expect to be exactly identical (initializing a BertForSequenceClassification model from a BertForSequenceClassification model).\n",
      "Some weights of RobertaForSequenceClassification were not initialized from the model checkpoint at neoyipeng/twitter-roberta-base-sentiment-mlm and are newly initialized: ['classifier.out_proj.weight', 'classifier.dense.bias', 'classifier.out_proj.bias', 'classifier.dense.weight']\n",
      "You should probably TRAIN this model on a down-stream task to be able to use it for predictions and inference.\n"
     ]
    },
    {
     "name": "stdout",
     "output_type": "stream",
     "text": [
      "['/home/thomas/Schreibtisch/Data Science/Preprocessing lib test/model4.pth', '/home/thomas/Schreibtisch/Data Science/Preprocessing lib test/model0.pth', '/home/thomas/Schreibtisch/Data Science/Preprocessing lib test/model3.pth', '/home/thomas/Schreibtisch/Data Science/Preprocessing lib test/model2.pth', '/home/thomas/Schreibtisch/Data Science/Preprocessing lib test/model1.pth']\n"
     ]
    },
    {
     "name": "stderr",
     "output_type": "stream",
     "text": [
      "[W pthreadpool-cpp.cc:90] Warning: Leaking Caffe2 thread-pool after fork. (function pthreadpool)\n",
      "[W pthreadpool-cpp.cc:90] Warning: Leaking Caffe2 thread-pool after fork. (function pthreadpool)\n",
      "[W pthreadpool-cpp.cc:90] Warning: Leaking Caffe2 thread-pool after fork. (function pthreadpool)\n",
      "[W pthreadpool-cpp.cc:90] Warning: Leaking Caffe2 thread-pool after fork. (function pthreadpool)\n",
      "[W pthreadpool-cpp.cc:90] Warning: Leaking Caffe2 thread-pool after fork. (function pthreadpool)\n",
      "[W pthreadpool-cpp.cc:90] Warning: Leaking Caffe2 thread-pool after fork. (function pthreadpool)\n",
      "[W pthreadpool-cpp.cc:90] Warning: Leaking Caffe2 thread-pool after fork. (function pthreadpool)\n",
      "[W pthreadpool-cpp.cc:90] Warning: Leaking Caffe2 thread-pool after fork. (function pthreadpool)\n",
      "[W pthreadpool-cpp.cc:90] Warning: Leaking Caffe2 thread-pool after fork. (function pthreadpool)\n",
      "[W pthreadpool-cpp.cc:90] Warning: Leaking Caffe2 thread-pool after fork. (function pthreadpool)\n",
      "[W pthreadpool-cpp.cc:90] Warning: Leaking Caffe2 thread-pool after fork. (function pthreadpool)\n",
      "[W pthreadpool-cpp.cc:90] Warning: Leaking Caffe2 thread-pool after fork. (function pthreadpool)\n",
      "[W pthreadpool-cpp.cc:90] Warning: Leaking Caffe2 thread-pool after fork. (function pthreadpool)\n",
      "[W pthreadpool-cpp.cc:90] Warning: Leaking Caffe2 thread-pool after fork. (function pthreadpool)\n",
      "[W pthreadpool-cpp.cc:90] Warning: Leaking Caffe2 thread-pool after fork. (function pthreadpool)\n",
      "[W pthreadpool-cpp.cc:90] Warning: Leaking Caffe2 thread-pool after fork. (function pthreadpool)\n",
      "[W pthreadpool-cpp.cc:90] Warning: Leaking Caffe2 thread-pool after fork. (function pthreadpool)\n",
      "[W pthreadpool-cpp.cc:90] Warning: Leaking Caffe2 thread-pool after fork. (function pthreadpool)\n",
      "[W pthreadpool-cpp.cc:90] Warning: Leaking Caffe2 thread-pool after fork. (function pthreadpool)\n",
      "[W pthreadpool-cpp.cc:90] Warning: Leaking Caffe2 thread-pool after fork. (function pthreadpool)\n"
     ]
    },
    {
     "name": "stdout",
     "output_type": "stream",
     "text": [
      "The R2 score is 0.8015999870374634\n",
      "The MAE score is 0.03421169612311453\n",
      "The Median absolute error score is 0.013849972883860279\n",
      "The MSE score is 0.06085460346750533\n",
      "The RMSE score is 0.003703282763187312\n"
     ]
    }
   ],
   "source": [
    "toxic_ml.ml_bp16_regressions_full_processing_bert_transformer()"
   ]
  },
  {
   "cell_type": "code",
   "execution_count": 10,
   "id": "5f20dc54",
   "metadata": {},
   "outputs": [],
   "source": [
    "from e2eml.full_processing.postprocessing import save_to_production, load_for_production\n",
    "import gc\n",
    "# Save pipeline\n",
    "save_to_production(toxic_ml, file_name='toxic_ml_bert_instance')"
   ]
  },
  {
   "cell_type": "markdown",
   "id": "0a7e8a39",
   "metadata": {},
   "source": [
    "# Predict on external set"
   ]
  },
  {
   "cell_type": "code",
   "execution_count": 11,
   "id": "876ac8eb",
   "metadata": {},
   "outputs": [
    {
     "data": {
      "text/html": [
       "<div>\n",
       "<style scoped>\n",
       "    .dataframe tbody tr th:only-of-type {\n",
       "        vertical-align: middle;\n",
       "    }\n",
       "\n",
       "    .dataframe tbody tr th {\n",
       "        vertical-align: top;\n",
       "    }\n",
       "\n",
       "    .dataframe thead th {\n",
       "        text-align: right;\n",
       "    }\n",
       "</style>\n",
       "<table border=\"1\" class=\"dataframe\">\n",
       "  <thead>\n",
       "    <tr style=\"text-align: right;\">\n",
       "      <th></th>\n",
       "      <th>Unnamed: 0</th>\n",
       "      <th>Toxicity</th>\n",
       "      <th>comment_text</th>\n",
       "    </tr>\n",
       "  </thead>\n",
       "  <tbody>\n",
       "    <tr>\n",
       "      <th>0</th>\n",
       "      <td>0</td>\n",
       "      <td>0</td>\n",
       "      <td>@user when a father is dysfunctional and is so selfish he drags his kids into his dysfunction.   #run</td>\n",
       "    </tr>\n",
       "    <tr>\n",
       "      <th>1</th>\n",
       "      <td>1</td>\n",
       "      <td>0</td>\n",
       "      <td>@user @user thanks for #lyft credit i can't use cause they don't offer wheelchair vans in pdx.    #disapointed #getthanked</td>\n",
       "    </tr>\n",
       "    <tr>\n",
       "      <th>2</th>\n",
       "      <td>2</td>\n",
       "      <td>0</td>\n",
       "      <td>bihday your majesty</td>\n",
       "    </tr>\n",
       "    <tr>\n",
       "      <th>3</th>\n",
       "      <td>3</td>\n",
       "      <td>0</td>\n",
       "      <td>#model   i love u take with u all the time in urð±!!! ðððð",
       "ð¦ð¦ð¦</td>\n",
       "    </tr>\n",
       "    <tr>\n",
       "      <th>4</th>\n",
       "      <td>4</td>\n",
       "      <td>0</td>\n",
       "      <td>factsguide: society now    #motivation</td>\n",
       "    </tr>\n",
       "    <tr>\n",
       "      <th>...</th>\n",
       "      <td>...</td>\n",
       "      <td>...</td>\n",
       "      <td>...</td>\n",
       "    </tr>\n",
       "    <tr>\n",
       "      <th>56740</th>\n",
       "      <td>56740</td>\n",
       "      <td>1</td>\n",
       "      <td>you's a muthaf***in lie &amp;#8220;@LifeAsKing: @20_Pearls @corey_emanuel right! His TL is trash &amp;#8230;. Now, mine? Bible scriptures and hymns&amp;#8221;</td>\n",
       "    </tr>\n",
       "    <tr>\n",
       "      <th>56741</th>\n",
       "      <td>56741</td>\n",
       "      <td>1</td>\n",
       "      <td>you've gone and broke the wrong heart baby, and drove me redneck crazy</td>\n",
       "    </tr>\n",
       "    <tr>\n",
       "      <th>56742</th>\n",
       "      <td>56742</td>\n",
       "      <td>1</td>\n",
       "      <td>young buck wanna eat!!.. dat nigguh like I aint fuckin dis up again</td>\n",
       "    </tr>\n",
       "    <tr>\n",
       "      <th>56743</th>\n",
       "      <td>56743</td>\n",
       "      <td>1</td>\n",
       "      <td>youu got wild bitches tellin you lies</td>\n",
       "    </tr>\n",
       "    <tr>\n",
       "      <th>56744</th>\n",
       "      <td>56744</td>\n",
       "      <td>0</td>\n",
       "      <td>~~Ruffled | Ntac Eileen Dahlia - Beautiful color combination of pink, orange, yellow &amp;amp; white. A Coll http://t.co/H0dYEBvnZB</td>\n",
       "    </tr>\n",
       "  </tbody>\n",
       "</table>\n",
       "<p>56745 rows × 3 columns</p>\n",
       "</div>"
      ],
      "text/plain": [
       "       Unnamed: 0  Toxicity  \\\n",
       "0               0         0   \n",
       "1               1         0   \n",
       "2               2         0   \n",
       "3               3         0   \n",
       "4               4         0   \n",
       "...           ...       ...   \n",
       "56740       56740         1   \n",
       "56741       56741         1   \n",
       "56742       56742         1   \n",
       "56743       56743         1   \n",
       "56744       56744         0   \n",
       "\n",
       "                                                                                                                                             comment_text  \n",
       "0                                                   @user when a father is dysfunctional and is so selfish he drags his kids into his dysfunction.   #run  \n",
       "1                              @user @user thanks for #lyft credit i can't use cause they don't offer wheelchair vans in pdx.    #disapointed #getthanked  \n",
       "2                                                                                                                                     bihday your majesty  \n",
       "3                                                                  #model   i love u take with u all the time in urð±!!! ðððð\n",
       "ð¦ð¦ð¦    \n",
       "4                                                                                                                  factsguide: society now    #motivation  \n",
       "...                                                                                                                                                   ...  \n",
       "56740  you's a muthaf***in lie &#8220;@LifeAsKing: @20_Pearls @corey_emanuel right! His TL is trash &#8230;. Now, mine? Bible scriptures and hymns&#8221;  \n",
       "56741                                                                              you've gone and broke the wrong heart baby, and drove me redneck crazy  \n",
       "56742                                                                                 young buck wanna eat!!.. dat nigguh like I aint fuckin dis up again  \n",
       "56743                                                                                                               youu got wild bitches tellin you lies  \n",
       "56744                     ~~Ruffled | Ntac Eileen Dahlia - Beautiful color combination of pink, orange, yellow &amp; white. A Coll http://t.co/H0dYEBvnZB  \n",
       "\n",
       "[56745 rows x 3 columns]"
      ]
     },
     "execution_count": 11,
     "metadata": {},
     "output_type": "execute_result"
    }
   ],
   "source": [
    "external_df = pd.read_csv('Toxic_FinalBalancedDataset.csv')\n",
    "external_df = external_df.rename(columns={'tweet': 'comment_text'})\n",
    "external_df"
   ]
  },
  {
   "cell_type": "code",
   "execution_count": 12,
   "id": "234dbe29",
   "metadata": {
    "scrolled": true
   },
   "outputs": [
    {
     "name": "stdout",
     "output_type": "stream",
     "text": [
      "Started Execute test train split at 09:46:03.\n",
      "Started Handle rare features at 09:46:03.\n",
      "Started Sort columns alphabetically at 09:46:03.\n"
     ]
    },
    {
     "name": "stderr",
     "output_type": "stream",
     "text": [
      "Some weights of the model checkpoint at neoyipeng/twitter-roberta-base-sentiment-mlm were not used when initializing RobertaForSequenceClassification: ['lm_head.dense.weight', 'lm_head.layer_norm.weight', 'lm_head.decoder.bias', 'lm_head.decoder.weight', 'lm_head.dense.bias', 'lm_head.layer_norm.bias', 'lm_head.bias']\n",
      "- This IS expected if you are initializing RobertaForSequenceClassification from the checkpoint of a model trained on another task or with another architecture (e.g. initializing a BertForSequenceClassification model from a BertForPreTraining model).\n",
      "- This IS NOT expected if you are initializing RobertaForSequenceClassification from the checkpoint of a model that you expect to be exactly identical (initializing a BertForSequenceClassification model from a BertForSequenceClassification model).\n",
      "Some weights of RobertaForSequenceClassification were not initialized from the model checkpoint at neoyipeng/twitter-roberta-base-sentiment-mlm and are newly initialized: ['classifier.out_proj.weight', 'classifier.dense.bias', 'classifier.out_proj.bias', 'classifier.dense.weight']\n",
      "You should probably TRAIN this model on a down-stream task to be able to use it for predictions and inference.\n",
      "Some weights of the model checkpoint at neoyipeng/twitter-roberta-base-sentiment-mlm were not used when initializing RobertaForSequenceClassification: ['lm_head.dense.weight', 'lm_head.layer_norm.weight', 'lm_head.decoder.bias', 'lm_head.decoder.weight', 'lm_head.dense.bias', 'lm_head.layer_norm.bias', 'lm_head.bias']\n",
      "- This IS expected if you are initializing RobertaForSequenceClassification from the checkpoint of a model trained on another task or with another architecture (e.g. initializing a BertForSequenceClassification model from a BertForPreTraining model).\n",
      "- This IS NOT expected if you are initializing RobertaForSequenceClassification from the checkpoint of a model that you expect to be exactly identical (initializing a BertForSequenceClassification model from a BertForSequenceClassification model).\n",
      "Some weights of RobertaForSequenceClassification were not initialized from the model checkpoint at neoyipeng/twitter-roberta-base-sentiment-mlm and are newly initialized: ['classifier.out_proj.weight', 'classifier.dense.bias', 'classifier.out_proj.bias', 'classifier.dense.weight']\n",
      "You should probably TRAIN this model on a down-stream task to be able to use it for predictions and inference.\n"
     ]
    },
    {
     "name": "stdout",
     "output_type": "stream",
     "text": [
      "['/home/thomas/Schreibtisch/Data Science/Preprocessing lib test/model4.pth', '/home/thomas/Schreibtisch/Data Science/Preprocessing lib test/model0.pth', '/home/thomas/Schreibtisch/Data Science/Preprocessing lib test/model3.pth', '/home/thomas/Schreibtisch/Data Science/Preprocessing lib test/model2.pth', '/home/thomas/Schreibtisch/Data Science/Preprocessing lib test/model1.pth']\n"
     ]
    },
    {
     "name": "stderr",
     "output_type": "stream",
     "text": [
      "[W pthreadpool-cpp.cc:90] Warning: Leaking Caffe2 thread-pool after fork. (function pthreadpool)\n",
      "[W pthreadpool-cpp.cc:90] Warning: Leaking Caffe2 thread-pool after fork. (function pthreadpool)\n",
      "[W pthreadpool-cpp.cc:90] Warning: Leaking Caffe2 thread-pool after fork. (function pthreadpool)\n",
      "[W pthreadpool-cpp.cc:90] Warning: Leaking Caffe2 thread-pool after fork. (function pthreadpool)\n",
      "[W pthreadpool-cpp.cc:90] Warning: Leaking Caffe2 thread-pool after fork. (function pthreadpool)\n",
      "[W pthreadpool-cpp.cc:90] Warning: Leaking Caffe2 thread-pool after fork. (function pthreadpool)\n",
      "[W pthreadpool-cpp.cc:90] Warning: Leaking Caffe2 thread-pool after fork. (function pthreadpool)\n",
      "[W pthreadpool-cpp.cc:90] Warning: Leaking Caffe2 thread-pool after fork. (function pthreadpool)\n",
      "[W pthreadpool-cpp.cc:90] Warning: Leaking Caffe2 thread-pool after fork. (function pthreadpool)\n",
      "[W pthreadpool-cpp.cc:90] Warning: Leaking Caffe2 thread-pool after fork. (function pthreadpool)\n",
      "[W pthreadpool-cpp.cc:90] Warning: Leaking Caffe2 thread-pool after fork. (function pthreadpool)\n",
      "[W pthreadpool-cpp.cc:90] Warning: Leaking Caffe2 thread-pool after fork. (function pthreadpool)\n",
      "[W pthreadpool-cpp.cc:90] Warning: Leaking Caffe2 thread-pool after fork. (function pthreadpool)\n",
      "[W pthreadpool-cpp.cc:90] Warning: Leaking Caffe2 thread-pool after fork. (function pthreadpool)\n",
      "[W pthreadpool-cpp.cc:90] Warning: Leaking Caffe2 thread-pool after fork. (function pthreadpool)\n",
      "[W pthreadpool-cpp.cc:90] Warning: Leaking Caffe2 thread-pool after fork. (function pthreadpool)\n",
      "[W pthreadpool-cpp.cc:90] Warning: Leaking Caffe2 thread-pool after fork. (function pthreadpool)\n",
      "[W pthreadpool-cpp.cc:90] Warning: Leaking Caffe2 thread-pool after fork. (function pthreadpool)\n",
      "[W pthreadpool-cpp.cc:90] Warning: Leaking Caffe2 thread-pool after fork. (function pthreadpool)\n",
      "[W pthreadpool-cpp.cc:90] Warning: Leaking Caffe2 thread-pool after fork. (function pthreadpool)\n",
      "[W pthreadpool-cpp.cc:90] Warning: Leaking Caffe2 thread-pool after fork. (function pthreadpool)\n"
     ]
    }
   ],
   "source": [
    "toxic_ml.ml_bp16_regressions_full_processing_bert_transformer(external_df)"
   ]
  },
  {
   "cell_type": "code",
   "execution_count": 13,
   "id": "1cbd7b5d",
   "metadata": {},
   "outputs": [],
   "source": [
    "external_df[target] = toxic_ml.predicted_values[\"nlp_transformer\"]"
   ]
  },
  {
   "cell_type": "code",
   "execution_count": 14,
   "id": "ac034631",
   "metadata": {},
   "outputs": [],
   "source": [
    "external_df.to_csv('Toxic_FinalBalancedDataset_labeled.csv')"
   ]
  },
  {
   "cell_type": "markdown",
   "id": "6ae2af42",
   "metadata": {},
   "source": [
    "# Concat both datasets"
   ]
  },
  {
   "cell_type": "code",
   "execution_count": 21,
   "id": "7da55742",
   "metadata": {},
   "outputs": [],
   "source": [
    "full_train_df = pd.concat([df_train[['comment_text', target]], external_df[['comment_text', target]]])\n",
    "full_train_df = full_train_df.sample(frac=1, random_state=5000)"
   ]
  },
  {
   "cell_type": "markdown",
   "id": "f39f41f0",
   "metadata": {},
   "source": [
    "# Final training"
   ]
  },
  {
   "cell_type": "code",
   "execution_count": 22,
   "id": "efcdf233",
   "metadata": {},
   "outputs": [],
   "source": [
    "try:\n",
    "    del toxic_ml\n",
    "    _ = gc.collect()\n",
    "except Exception:\n",
    "    pass"
   ]
  },
  {
   "cell_type": "code",
   "execution_count": 23,
   "id": "c0376dfd",
   "metadata": {},
   "outputs": [
    {
     "name": "stdout",
     "output_type": "stream",
     "text": [
      "Ml task is regression\n",
      "Preferred training mode auto has been chosen. e2eml will automatically detect, if LGBM and Xgboost can use GPU acceleration and optimize the workflow accordingly.\n"
     ]
    }
   ],
   "source": [
    "toxic_ml = regression_blueprints.RegressionBluePrint(datasource=full_train_df, \n",
    "                        target_variable=target,\n",
    "                        train_split_type='cross',\n",
    "                        preferred_training_mode='auto',\n",
    "                        nlp_transformer_columns='comment_text',\n",
    "                        transformer_chosen='neoyipeng/twitter-roberta-base-sentiment-mlm',\n",
    "                        transformer_epochs=3,\n",
    "                        ml_task='regression')\n",
    "# cardiffnlp/twitter-roberta-base-dec2021\n",
    "# neoyipeng/twitter-roberta-base-sentiment-mlm\n",
    "\n",
    "toxic_ml.blueprint_step_selection_nlp_transformers[\"random_synonym_replacement\"] = False\n",
    "\n",
    "toxic_ml.transformer_settings[\"train_batch_size\"] = 16\n",
    "toxic_ml.transformer_settings[\"test_batch_size\"] = 16\n",
    "toxic_ml.transformer_settings[\"pred_batch_size\"] = 1"
   ]
  },
  {
   "cell_type": "code",
   "execution_count": 24,
   "id": "75c67441",
   "metadata": {},
   "outputs": [
    {
     "name": "stdout",
     "output_type": "stream",
     "text": [
      "Started Execute test train split at 10:49:47.\n",
      "Started Handle rare features at 10:49:47.\n",
      "Started Sort columns alphabetically at 10:49:48.\n"
     ]
    },
    {
     "name": "stderr",
     "output_type": "stream",
     "text": [
      "Some weights of the model checkpoint at neoyipeng/twitter-roberta-base-sentiment-mlm were not used when initializing RobertaForSequenceClassification: ['lm_head.dense.weight', 'lm_head.layer_norm.weight', 'lm_head.decoder.bias', 'lm_head.decoder.weight', 'lm_head.dense.bias', 'lm_head.layer_norm.bias', 'lm_head.bias']\n",
      "- This IS expected if you are initializing RobertaForSequenceClassification from the checkpoint of a model trained on another task or with another architecture (e.g. initializing a BertForSequenceClassification model from a BertForPreTraining model).\n",
      "- This IS NOT expected if you are initializing RobertaForSequenceClassification from the checkpoint of a model that you expect to be exactly identical (initializing a BertForSequenceClassification model from a BertForSequenceClassification model).\n",
      "Some weights of RobertaForSequenceClassification were not initialized from the model checkpoint at neoyipeng/twitter-roberta-base-sentiment-mlm and are newly initialized: ['classifier.out_proj.weight', 'classifier.dense.bias', 'classifier.out_proj.bias', 'classifier.dense.weight']\n",
      "You should probably TRAIN this model on a down-stream task to be able to use it for predictions and inference.\n"
     ]
    },
    {
     "name": "stdout",
     "output_type": "stream",
     "text": [
      "<class 'pandas.core.frame.DataFrame'>\n",
      "RangeIndex: 89195 entries, 0 to 89194\n",
      "Data columns (total 3 columns):\n",
      " #   Column        Non-Null Count  Dtype  \n",
      "---  ------        --------------  -----  \n",
      " 0   comment_text  89195 non-null  object \n",
      " 1   score         89195 non-null  float64\n",
      " 2   kfold         89195 non-null  int64  \n",
      "dtypes: float64(1), int64(1), object(1)\n",
      "memory usage: 2.0+ MB\n",
      "None\n",
      "<class 'pandas.core.frame.DataFrame'>\n",
      "RangeIndex: 89195 entries, 0 to 89194\n",
      "Data columns (total 4 columns):\n",
      " #   Column        Non-Null Count  Dtype  \n",
      "---  ------        --------------  -----  \n",
      " 0   comment_text  89195 non-null  object \n",
      " 1   score         89195 non-null  float64\n",
      " 2   kfold         89195 non-null  int64  \n",
      " 3   bins          89195 non-null  int64  \n",
      "dtypes: float64(1), int64(2), object(1)\n",
      "memory usage: 2.7+ MB\n",
      "None\n"
     ]
    },
    {
     "name": "stderr",
     "output_type": "stream",
     "text": [
      "Some weights of the model checkpoint at neoyipeng/twitter-roberta-base-sentiment-mlm were not used when initializing RobertaForSequenceClassification: ['lm_head.dense.weight', 'lm_head.layer_norm.weight', 'lm_head.decoder.bias', 'lm_head.decoder.weight', 'lm_head.dense.bias', 'lm_head.layer_norm.bias', 'lm_head.bias']\n",
      "- This IS expected if you are initializing RobertaForSequenceClassification from the checkpoint of a model trained on another task or with another architecture (e.g. initializing a BertForSequenceClassification model from a BertForPreTraining model).\n",
      "- This IS NOT expected if you are initializing RobertaForSequenceClassification from the checkpoint of a model that you expect to be exactly identical (initializing a BertForSequenceClassification model from a BertForSequenceClassification model).\n",
      "Some weights of RobertaForSequenceClassification were not initialized from the model checkpoint at neoyipeng/twitter-roberta-base-sentiment-mlm and are newly initialized: ['classifier.out_proj.weight', 'classifier.dense.bias', 'classifier.out_proj.bias', 'classifier.dense.weight']\n",
      "You should probably TRAIN this model on a down-stream task to be able to use it for predictions and inference.\n",
      "  0%|                                                     | 0/3 [00:00<?, ?it/s]"
     ]
    },
    {
     "name": "stdout",
     "output_type": "stream",
     "text": [
      "---------------0start-------------\n",
      "<class 'pandas.core.frame.DataFrame'>\n",
      "RangeIndex: 89195 entries, 0 to 89194\n",
      "Data columns (total 3 columns):\n",
      " #   Column        Non-Null Count  Dtype  \n",
      "---  ------        --------------  -----  \n",
      " 0   comment_text  89195 non-null  object \n",
      " 1   score         89195 non-null  float64\n",
      " 2   kfold         89195 non-null  int64  \n",
      "dtypes: float64(1), int64(1), object(1)\n",
      "memory usage: 2.0+ MB\n",
      "None\n",
      "<class 'pandas.core.frame.DataFrame'>\n",
      "RangeIndex: 89195 entries, 0 to 89194\n",
      "Data columns (total 4 columns):\n",
      " #   Column        Non-Null Count  Dtype  \n",
      "---  ------        --------------  -----  \n",
      " 0   comment_text  89195 non-null  object \n",
      " 1   score         89195 non-null  float64\n",
      " 2   kfold         89195 non-null  int64  \n",
      " 3   bins          89195 non-null  int64  \n",
      "dtypes: float64(1), int64(2), object(1)\n",
      "memory usage: 2.7+ MB\n",
      "None\n"
     ]
    },
    {
     "name": "stderr",
     "output_type": "stream",
     "text": [
      "[W pthreadpool-cpp.cc:90] Warning: Leaking Caffe2 thread-pool after fork. (function pthreadpool)\n",
      "[W pthreadpool-cpp.cc:90] Warning: Leaking Caffe2 thread-pool after fork. (function pthreadpool)\n",
      "[W pthreadpool-cpp.cc:90] Warning: Leaking Caffe2 thread-pool after fork. (function pthreadpool)\n",
      "[W pthreadpool-cpp.cc:90] Warning: Leaking Caffe2 thread-pool after fork. (function pthreadpool)\n"
     ]
    },
    {
     "name": "stdout",
     "output_type": "stream",
     "text": [
      "trainscore is 0.073769875\n"
     ]
    },
    {
     "name": "stderr",
     "output_type": "stream",
     "text": [
      "[W pthreadpool-cpp.cc:90] Warning: Leaking Caffe2 thread-pool after fork. (function pthreadpool)\n",
      "[W pthreadpool-cpp.cc:90] Warning: Leaking Caffe2 thread-pool after fork. (function pthreadpool)\n",
      "[W pthreadpool-cpp.cc:90] Warning: Leaking Caffe2 thread-pool after fork. (function pthreadpool)\n",
      "[W pthreadpool-cpp.cc:90] Warning: Leaking Caffe2 thread-pool after fork. (function pthreadpool)\n"
     ]
    },
    {
     "name": "stdout",
     "output_type": "stream",
     "text": [
      "valscore is 0.05127915\n",
      "Save first model\n"
     ]
    },
    {
     "name": "stderr",
     "output_type": "stream",
     "text": [
      "\r",
      " 33%|██████████████▎                            | 1/3 [18:20<36:41, 1100.73s/it]"
     ]
    },
    {
     "name": "stdout",
     "output_type": "stream",
     "text": [
      "---------------1start-------------\n",
      "<class 'pandas.core.frame.DataFrame'>\n",
      "RangeIndex: 89195 entries, 0 to 89194\n",
      "Data columns (total 3 columns):\n",
      " #   Column        Non-Null Count  Dtype  \n",
      "---  ------        --------------  -----  \n",
      " 0   comment_text  89195 non-null  object \n",
      " 1   score         89195 non-null  float64\n",
      " 2   kfold         89195 non-null  int64  \n",
      "dtypes: float64(1), int64(1), object(1)\n",
      "memory usage: 2.0+ MB\n",
      "None\n",
      "<class 'pandas.core.frame.DataFrame'>\n",
      "RangeIndex: 89195 entries, 0 to 89194\n",
      "Data columns (total 4 columns):\n",
      " #   Column        Non-Null Count  Dtype  \n",
      "---  ------        --------------  -----  \n",
      " 0   comment_text  89195 non-null  object \n",
      " 1   score         89195 non-null  float64\n",
      " 2   kfold         89195 non-null  int64  \n",
      " 3   bins          89195 non-null  int64  \n",
      "dtypes: float64(1), int64(2), object(1)\n",
      "memory usage: 2.7+ MB\n",
      "None\n"
     ]
    },
    {
     "name": "stderr",
     "output_type": "stream",
     "text": [
      "[W pthreadpool-cpp.cc:90] Warning: Leaking Caffe2 thread-pool after fork. (function pthreadpool)\n",
      "[W pthreadpool-cpp.cc:90] Warning: Leaking Caffe2 thread-pool after fork. (function pthreadpool)\n",
      "[W pthreadpool-cpp.cc:90] Warning: Leaking Caffe2 thread-pool after fork. (function pthreadpool)\n",
      "[W pthreadpool-cpp.cc:90] Warning: Leaking Caffe2 thread-pool after fork. (function pthreadpool)\n",
      "[W pthreadpool-cpp.cc:90] Warning: Leaking Caffe2 thread-pool after fork. (function pthreadpool)\n"
     ]
    },
    {
     "name": "stdout",
     "output_type": "stream",
     "text": [
      "trainscore is 0.053298302\n"
     ]
    },
    {
     "name": "stderr",
     "output_type": "stream",
     "text": [
      "[W pthreadpool-cpp.cc:90] Warning: Leaking Caffe2 thread-pool after fork. (function pthreadpool)\n",
      "[W pthreadpool-cpp.cc:90] Warning: Leaking Caffe2 thread-pool after fork. (function pthreadpool)\n",
      "[W pthreadpool-cpp.cc:90] Warning: Leaking Caffe2 thread-pool after fork. (function pthreadpool)\n",
      "[W pthreadpool-cpp.cc:90] Warning: Leaking Caffe2 thread-pool after fork. (function pthreadpool)\n"
     ]
    },
    {
     "name": "stdout",
     "output_type": "stream",
     "text": [
      "valscore is 0.05026546\n",
      "found better point\n"
     ]
    },
    {
     "name": "stderr",
     "output_type": "stream",
     "text": [
      "\r",
      " 67%|████████████████████████████▋              | 2/3 [38:10<19:13, 1153.34s/it]"
     ]
    },
    {
     "name": "stdout",
     "output_type": "stream",
     "text": [
      "---------------2start-------------\n",
      "<class 'pandas.core.frame.DataFrame'>\n",
      "RangeIndex: 89195 entries, 0 to 89194\n",
      "Data columns (total 3 columns):\n",
      " #   Column        Non-Null Count  Dtype  \n",
      "---  ------        --------------  -----  \n",
      " 0   comment_text  89195 non-null  object \n",
      " 1   score         89195 non-null  float64\n",
      " 2   kfold         89195 non-null  int64  \n",
      "dtypes: float64(1), int64(1), object(1)\n",
      "memory usage: 2.0+ MB\n",
      "None\n",
      "<class 'pandas.core.frame.DataFrame'>\n",
      "RangeIndex: 89195 entries, 0 to 89194\n",
      "Data columns (total 4 columns):\n",
      " #   Column        Non-Null Count  Dtype  \n",
      "---  ------        --------------  -----  \n",
      " 0   comment_text  89195 non-null  object \n",
      " 1   score         89195 non-null  float64\n",
      " 2   kfold         89195 non-null  int64  \n",
      " 3   bins          89195 non-null  int64  \n",
      "dtypes: float64(1), int64(2), object(1)\n",
      "memory usage: 2.7+ MB\n",
      "None\n"
     ]
    },
    {
     "name": "stderr",
     "output_type": "stream",
     "text": [
      "[W pthreadpool-cpp.cc:90] Warning: Leaking Caffe2 thread-pool after fork. (function pthreadpool)\n",
      "[W pthreadpool-cpp.cc:90] Warning: Leaking Caffe2 thread-pool after fork. (function pthreadpool)\n",
      "[W pthreadpool-cpp.cc:90] Warning: Leaking Caffe2 thread-pool after fork. (function pthreadpool)\n",
      "[W pthreadpool-cpp.cc:90] Warning: Leaking Caffe2 thread-pool after fork. (function pthreadpool)\n"
     ]
    },
    {
     "name": "stdout",
     "output_type": "stream",
     "text": [
      "trainscore is 0.044536583\n"
     ]
    },
    {
     "name": "stderr",
     "output_type": "stream",
     "text": [
      "[W pthreadpool-cpp.cc:90] Warning: Leaking Caffe2 thread-pool after fork. (function pthreadpool)\n",
      "[W pthreadpool-cpp.cc:90] Warning: Leaking Caffe2 thread-pool after fork. (function pthreadpool)\n",
      "[W pthreadpool-cpp.cc:90] Warning: Leaking Caffe2 thread-pool after fork. (function pthreadpool)\n",
      "[W pthreadpool-cpp.cc:90] Warning: Leaking Caffe2 thread-pool after fork. (function pthreadpool)\n",
      "100%|███████████████████████████████████████████| 3/3 [57:28<00:00, 1149.42s/it]"
     ]
    },
    {
     "name": "stdout",
     "output_type": "stream",
     "text": [
      "valscore is 0.050474897\n",
      "<class 'pandas.core.frame.DataFrame'>\n",
      "RangeIndex: 89195 entries, 0 to 89194\n",
      "Data columns (total 3 columns):\n",
      " #   Column        Non-Null Count  Dtype  \n",
      "---  ------        --------------  -----  \n",
      " 0   comment_text  89195 non-null  object \n",
      " 1   score         89195 non-null  float64\n",
      " 2   kfold         89195 non-null  int64  \n",
      "dtypes: float64(1), int64(1), object(1)\n",
      "memory usage: 2.0+ MB\n",
      "None\n",
      "<class 'pandas.core.frame.DataFrame'>\n",
      "RangeIndex: 89195 entries, 0 to 89194\n",
      "Data columns (total 4 columns):\n",
      " #   Column        Non-Null Count  Dtype  \n",
      "---  ------        --------------  -----  \n",
      " 0   comment_text  89195 non-null  object \n",
      " 1   score         89195 non-null  float64\n",
      " 2   kfold         89195 non-null  int64  \n",
      " 3   bins          89195 non-null  int64  \n",
      "dtypes: float64(1), int64(2), object(1)\n",
      "memory usage: 2.7+ MB\n",
      "None\n"
     ]
    },
    {
     "name": "stderr",
     "output_type": "stream",
     "text": [
      "\n",
      "Some weights of the model checkpoint at neoyipeng/twitter-roberta-base-sentiment-mlm were not used when initializing RobertaForSequenceClassification: ['lm_head.dense.weight', 'lm_head.layer_norm.weight', 'lm_head.decoder.bias', 'lm_head.decoder.weight', 'lm_head.dense.bias', 'lm_head.layer_norm.bias', 'lm_head.bias']\n",
      "- This IS expected if you are initializing RobertaForSequenceClassification from the checkpoint of a model trained on another task or with another architecture (e.g. initializing a BertForSequenceClassification model from a BertForPreTraining model).\n",
      "- This IS NOT expected if you are initializing RobertaForSequenceClassification from the checkpoint of a model that you expect to be exactly identical (initializing a BertForSequenceClassification model from a BertForSequenceClassification model).\n",
      "Some weights of RobertaForSequenceClassification were not initialized from the model checkpoint at neoyipeng/twitter-roberta-base-sentiment-mlm and are newly initialized: ['classifier.out_proj.weight', 'classifier.dense.bias', 'classifier.out_proj.bias', 'classifier.dense.weight']\n",
      "You should probably TRAIN this model on a down-stream task to be able to use it for predictions and inference.\n",
      "  0%|                                                     | 0/3 [00:00<?, ?it/s]"
     ]
    },
    {
     "name": "stdout",
     "output_type": "stream",
     "text": [
      "---------------0start-------------\n",
      "<class 'pandas.core.frame.DataFrame'>\n",
      "RangeIndex: 89195 entries, 0 to 89194\n",
      "Data columns (total 3 columns):\n",
      " #   Column        Non-Null Count  Dtype  \n",
      "---  ------        --------------  -----  \n",
      " 0   comment_text  89195 non-null  object \n",
      " 1   score         89195 non-null  float64\n",
      " 2   kfold         89195 non-null  int64  \n",
      "dtypes: float64(1), int64(1), object(1)\n",
      "memory usage: 2.0+ MB\n",
      "None\n",
      "<class 'pandas.core.frame.DataFrame'>\n",
      "RangeIndex: 89195 entries, 0 to 89194\n",
      "Data columns (total 4 columns):\n",
      " #   Column        Non-Null Count  Dtype  \n",
      "---  ------        --------------  -----  \n",
      " 0   comment_text  89195 non-null  object \n",
      " 1   score         89195 non-null  float64\n",
      " 2   kfold         89195 non-null  int64  \n",
      " 3   bins          89195 non-null  int64  \n",
      "dtypes: float64(1), int64(2), object(1)\n",
      "memory usage: 2.7+ MB\n",
      "None\n"
     ]
    },
    {
     "name": "stderr",
     "output_type": "stream",
     "text": [
      "[W pthreadpool-cpp.cc:90] Warning: Leaking Caffe2 thread-pool after fork. (function pthreadpool)\n",
      "[W pthreadpool-cpp.cc:90] Warning: Leaking Caffe2 thread-pool after fork. (function pthreadpool)\n",
      "[W pthreadpool-cpp.cc:90] Warning: Leaking Caffe2 thread-pool after fork. (function pthreadpool)\n",
      "[W pthreadpool-cpp.cc:90] Warning: Leaking Caffe2 thread-pool after fork. (function pthreadpool)\n"
     ]
    },
    {
     "name": "stdout",
     "output_type": "stream",
     "text": [
      "trainscore is 0.074901335\n"
     ]
    },
    {
     "name": "stderr",
     "output_type": "stream",
     "text": [
      "[W pthreadpool-cpp.cc:90] Warning: Leaking Caffe2 thread-pool after fork. (function pthreadpool)\n",
      "[W pthreadpool-cpp.cc:90] Warning: Leaking Caffe2 thread-pool after fork. (function pthreadpool)\n",
      "[W pthreadpool-cpp.cc:90] Warning: Leaking Caffe2 thread-pool after fork. (function pthreadpool)\n",
      "[W pthreadpool-cpp.cc:90] Warning: Leaking Caffe2 thread-pool after fork. (function pthreadpool)\n"
     ]
    },
    {
     "name": "stdout",
     "output_type": "stream",
     "text": [
      "valscore is 0.051716145\n",
      "Save first model\n"
     ]
    },
    {
     "name": "stderr",
     "output_type": "stream",
     "text": [
      "\r",
      " 33%|██████████████▎                            | 1/3 [18:21<36:42, 1101.47s/it]"
     ]
    },
    {
     "name": "stdout",
     "output_type": "stream",
     "text": [
      "---------------1start-------------\n",
      "<class 'pandas.core.frame.DataFrame'>\n",
      "RangeIndex: 89195 entries, 0 to 89194\n",
      "Data columns (total 3 columns):\n",
      " #   Column        Non-Null Count  Dtype  \n",
      "---  ------        --------------  -----  \n",
      " 0   comment_text  89195 non-null  object \n",
      " 1   score         89195 non-null  float64\n",
      " 2   kfold         89195 non-null  int64  \n",
      "dtypes: float64(1), int64(1), object(1)\n",
      "memory usage: 2.0+ MB\n",
      "None\n",
      "<class 'pandas.core.frame.DataFrame'>\n",
      "RangeIndex: 89195 entries, 0 to 89194\n",
      "Data columns (total 4 columns):\n",
      " #   Column        Non-Null Count  Dtype  \n",
      "---  ------        --------------  -----  \n",
      " 0   comment_text  89195 non-null  object \n",
      " 1   score         89195 non-null  float64\n",
      " 2   kfold         89195 non-null  int64  \n",
      " 3   bins          89195 non-null  int64  \n",
      "dtypes: float64(1), int64(2), object(1)\n",
      "memory usage: 2.7+ MB\n",
      "None\n"
     ]
    },
    {
     "name": "stderr",
     "output_type": "stream",
     "text": [
      "[W pthreadpool-cpp.cc:90] Warning: Leaking Caffe2 thread-pool after fork. (function pthreadpool)\n",
      "[W pthreadpool-cpp.cc:90] Warning: Leaking Caffe2 thread-pool after fork. (function pthreadpool)\n",
      "[W pthreadpool-cpp.cc:90] Warning: Leaking Caffe2 thread-pool after fork. (function pthreadpool)\n",
      "[W pthreadpool-cpp.cc:90] Warning: Leaking Caffe2 thread-pool after fork. (function pthreadpool)\n"
     ]
    },
    {
     "name": "stdout",
     "output_type": "stream",
     "text": [
      "trainscore is 0.053849466\n"
     ]
    },
    {
     "name": "stderr",
     "output_type": "stream",
     "text": [
      "[W pthreadpool-cpp.cc:90] Warning: Leaking Caffe2 thread-pool after fork. (function pthreadpool)\n",
      "[W pthreadpool-cpp.cc:90] Warning: Leaking Caffe2 thread-pool after fork. (function pthreadpool)\n",
      "[W pthreadpool-cpp.cc:90] Warning: Leaking Caffe2 thread-pool after fork. (function pthreadpool)\n",
      "[W pthreadpool-cpp.cc:90] Warning: Leaking Caffe2 thread-pool after fork. (function pthreadpool)\n",
      " 67%|████████████████████████████▋              | 2/3 [36:15<18:05, 1085.22s/it]"
     ]
    },
    {
     "name": "stdout",
     "output_type": "stream",
     "text": [
      "valscore is 0.05281081\n",
      "---------------2start-------------\n",
      "<class 'pandas.core.frame.DataFrame'>\n",
      "RangeIndex: 89195 entries, 0 to 89194\n",
      "Data columns (total 3 columns):\n",
      " #   Column        Non-Null Count  Dtype  \n",
      "---  ------        --------------  -----  \n",
      " 0   comment_text  89195 non-null  object \n",
      " 1   score         89195 non-null  float64\n",
      " 2   kfold         89195 non-null  int64  \n",
      "dtypes: float64(1), int64(1), object(1)\n",
      "memory usage: 2.0+ MB\n",
      "None\n",
      "<class 'pandas.core.frame.DataFrame'>\n",
      "RangeIndex: 89195 entries, 0 to 89194\n",
      "Data columns (total 4 columns):\n",
      " #   Column        Non-Null Count  Dtype  \n",
      "---  ------        --------------  -----  \n",
      " 0   comment_text  89195 non-null  object \n",
      " 1   score         89195 non-null  float64\n",
      " 2   kfold         89195 non-null  int64  \n",
      " 3   bins          89195 non-null  int64  \n",
      "dtypes: float64(1), int64(2), object(1)\n",
      "memory usage: 2.7+ MB\n",
      "None\n"
     ]
    },
    {
     "name": "stderr",
     "output_type": "stream",
     "text": [
      "[W pthreadpool-cpp.cc:90] Warning: Leaking Caffe2 thread-pool after fork. (function pthreadpool)\n",
      "[W pthreadpool-cpp.cc:90] Warning: Leaking Caffe2 thread-pool after fork. (function pthreadpool)\n",
      "[W pthreadpool-cpp.cc:90] Warning: Leaking Caffe2 thread-pool after fork. (function pthreadpool)\n",
      "[W pthreadpool-cpp.cc:90] Warning: Leaking Caffe2 thread-pool after fork. (function pthreadpool)\n",
      "[W pthreadpool-cpp.cc:90] Warning: Leaking Caffe2 thread-pool after fork. (function pthreadpool)\n"
     ]
    },
    {
     "name": "stdout",
     "output_type": "stream",
     "text": [
      "trainscore is 0.045150444\n"
     ]
    },
    {
     "name": "stderr",
     "output_type": "stream",
     "text": [
      "[W pthreadpool-cpp.cc:90] Warning: Leaking Caffe2 thread-pool after fork. (function pthreadpool)\n",
      "[W pthreadpool-cpp.cc:90] Warning: Leaking Caffe2 thread-pool after fork. (function pthreadpool)\n",
      "[W pthreadpool-cpp.cc:90] Warning: Leaking Caffe2 thread-pool after fork. (function pthreadpool)\n",
      "[W pthreadpool-cpp.cc:90] Warning: Leaking Caffe2 thread-pool after fork. (function pthreadpool)\n",
      "100%|███████████████████████████████████████████| 3/3 [54:08<00:00, 1082.90s/it]"
     ]
    },
    {
     "name": "stdout",
     "output_type": "stream",
     "text": [
      "valscore is 0.05221908\n",
      "<class 'pandas.core.frame.DataFrame'>\n",
      "RangeIndex: 89195 entries, 0 to 89194\n",
      "Data columns (total 3 columns):\n",
      " #   Column        Non-Null Count  Dtype  \n",
      "---  ------        --------------  -----  \n",
      " 0   comment_text  89195 non-null  object \n",
      " 1   score         89195 non-null  float64\n",
      " 2   kfold         89195 non-null  int64  \n",
      "dtypes: float64(1), int64(1), object(1)\n",
      "memory usage: 2.0+ MB\n",
      "None\n",
      "<class 'pandas.core.frame.DataFrame'>\n",
      "RangeIndex: 89195 entries, 0 to 89194\n",
      "Data columns (total 4 columns):\n",
      " #   Column        Non-Null Count  Dtype  \n",
      "---  ------        --------------  -----  \n",
      " 0   comment_text  89195 non-null  object \n",
      " 1   score         89195 non-null  float64\n",
      " 2   kfold         89195 non-null  int64  \n",
      " 3   bins          89195 non-null  int64  \n",
      "dtypes: float64(1), int64(2), object(1)\n",
      "memory usage: 2.7+ MB\n",
      "None\n"
     ]
    },
    {
     "name": "stderr",
     "output_type": "stream",
     "text": [
      "\n",
      "Some weights of the model checkpoint at neoyipeng/twitter-roberta-base-sentiment-mlm were not used when initializing RobertaForSequenceClassification: ['lm_head.dense.weight', 'lm_head.layer_norm.weight', 'lm_head.decoder.bias', 'lm_head.decoder.weight', 'lm_head.dense.bias', 'lm_head.layer_norm.bias', 'lm_head.bias']\n",
      "- This IS expected if you are initializing RobertaForSequenceClassification from the checkpoint of a model trained on another task or with another architecture (e.g. initializing a BertForSequenceClassification model from a BertForPreTraining model).\n",
      "- This IS NOT expected if you are initializing RobertaForSequenceClassification from the checkpoint of a model that you expect to be exactly identical (initializing a BertForSequenceClassification model from a BertForSequenceClassification model).\n",
      "Some weights of RobertaForSequenceClassification were not initialized from the model checkpoint at neoyipeng/twitter-roberta-base-sentiment-mlm and are newly initialized: ['classifier.out_proj.weight', 'classifier.dense.bias', 'classifier.out_proj.bias', 'classifier.dense.weight']\n",
      "You should probably TRAIN this model on a down-stream task to be able to use it for predictions and inference.\n",
      "  0%|                                                     | 0/3 [00:00<?, ?it/s]"
     ]
    },
    {
     "name": "stdout",
     "output_type": "stream",
     "text": [
      "---------------0start-------------\n",
      "<class 'pandas.core.frame.DataFrame'>\n",
      "RangeIndex: 89195 entries, 0 to 89194\n",
      "Data columns (total 3 columns):\n",
      " #   Column        Non-Null Count  Dtype  \n",
      "---  ------        --------------  -----  \n",
      " 0   comment_text  89195 non-null  object \n",
      " 1   score         89195 non-null  float64\n",
      " 2   kfold         89195 non-null  int64  \n",
      "dtypes: float64(1), int64(1), object(1)\n",
      "memory usage: 2.0+ MB\n",
      "None\n",
      "<class 'pandas.core.frame.DataFrame'>\n",
      "RangeIndex: 89195 entries, 0 to 89194\n",
      "Data columns (total 4 columns):\n",
      " #   Column        Non-Null Count  Dtype  \n",
      "---  ------        --------------  -----  \n",
      " 0   comment_text  89195 non-null  object \n",
      " 1   score         89195 non-null  float64\n",
      " 2   kfold         89195 non-null  int64  \n",
      " 3   bins          89195 non-null  int64  \n",
      "dtypes: float64(1), int64(2), object(1)\n",
      "memory usage: 2.7+ MB\n",
      "None\n"
     ]
    },
    {
     "name": "stderr",
     "output_type": "stream",
     "text": [
      "[W pthreadpool-cpp.cc:90] Warning: Leaking Caffe2 thread-pool after fork. (function pthreadpool)\n",
      "[W pthreadpool-cpp.cc:90] Warning: Leaking Caffe2 thread-pool after fork. (function pthreadpool)\n",
      "[W pthreadpool-cpp.cc:90] Warning: Leaking Caffe2 thread-pool after fork. (function pthreadpool)\n",
      "[W pthreadpool-cpp.cc:90] Warning: Leaking Caffe2 thread-pool after fork. (function pthreadpool)\n"
     ]
    },
    {
     "name": "stdout",
     "output_type": "stream",
     "text": [
      "trainscore is 0.08180801\n"
     ]
    },
    {
     "name": "stderr",
     "output_type": "stream",
     "text": [
      "[W pthreadpool-cpp.cc:90] Warning: Leaking Caffe2 thread-pool after fork. (function pthreadpool)\n",
      "[W pthreadpool-cpp.cc:90] Warning: Leaking Caffe2 thread-pool after fork. (function pthreadpool)\n",
      "[W pthreadpool-cpp.cc:90] Warning: Leaking Caffe2 thread-pool after fork. (function pthreadpool)\n",
      "[W pthreadpool-cpp.cc:90] Warning: Leaking Caffe2 thread-pool after fork. (function pthreadpool)\n"
     ]
    },
    {
     "name": "stdout",
     "output_type": "stream",
     "text": [
      "valscore is 0.056338523\n",
      "Save first model\n"
     ]
    },
    {
     "name": "stderr",
     "output_type": "stream",
     "text": [
      "\r",
      " 33%|██████████████▎                            | 1/3 [18:03<36:07, 1083.69s/it]"
     ]
    },
    {
     "name": "stdout",
     "output_type": "stream",
     "text": [
      "---------------1start-------------\n",
      "<class 'pandas.core.frame.DataFrame'>\n",
      "RangeIndex: 89195 entries, 0 to 89194\n",
      "Data columns (total 3 columns):\n",
      " #   Column        Non-Null Count  Dtype  \n",
      "---  ------        --------------  -----  \n",
      " 0   comment_text  89195 non-null  object \n",
      " 1   score         89195 non-null  float64\n",
      " 2   kfold         89195 non-null  int64  \n",
      "dtypes: float64(1), int64(1), object(1)\n",
      "memory usage: 2.0+ MB\n",
      "None\n",
      "<class 'pandas.core.frame.DataFrame'>\n",
      "RangeIndex: 89195 entries, 0 to 89194\n",
      "Data columns (total 4 columns):\n",
      " #   Column        Non-Null Count  Dtype  \n",
      "---  ------        --------------  -----  \n",
      " 0   comment_text  89195 non-null  object \n",
      " 1   score         89195 non-null  float64\n",
      " 2   kfold         89195 non-null  int64  \n",
      " 3   bins          89195 non-null  int64  \n",
      "dtypes: float64(1), int64(2), object(1)\n",
      "memory usage: 2.7+ MB\n",
      "None\n"
     ]
    },
    {
     "name": "stderr",
     "output_type": "stream",
     "text": [
      "[W pthreadpool-cpp.cc:90] Warning: Leaking Caffe2 thread-pool after fork. (function pthreadpool)\n",
      "[W pthreadpool-cpp.cc:90] Warning: Leaking Caffe2 thread-pool after fork. (function pthreadpool)\n",
      "[W pthreadpool-cpp.cc:90] Warning: Leaking Caffe2 thread-pool after fork. (function pthreadpool)\n",
      "[W pthreadpool-cpp.cc:90] Warning: Leaking Caffe2 thread-pool after fork. (function pthreadpool)\n"
     ]
    },
    {
     "name": "stdout",
     "output_type": "stream",
     "text": [
      "trainscore is 0.05228168\n"
     ]
    },
    {
     "name": "stderr",
     "output_type": "stream",
     "text": [
      "[W pthreadpool-cpp.cc:90] Warning: Leaking Caffe2 thread-pool after fork. (function pthreadpool)\n",
      "[W pthreadpool-cpp.cc:90] Warning: Leaking Caffe2 thread-pool after fork. (function pthreadpool)\n",
      "[W pthreadpool-cpp.cc:90] Warning: Leaking Caffe2 thread-pool after fork. (function pthreadpool)\n",
      "[W pthreadpool-cpp.cc:90] Warning: Leaking Caffe2 thread-pool after fork. (function pthreadpool)\n"
     ]
    },
    {
     "name": "stdout",
     "output_type": "stream",
     "text": [
      "valscore is 0.051014163\n",
      "found better point\n"
     ]
    },
    {
     "name": "stderr",
     "output_type": "stream",
     "text": [
      "\r",
      " 67%|████████████████████████████▋              | 2/3 [36:07<18:03, 1083.69s/it]"
     ]
    },
    {
     "name": "stdout",
     "output_type": "stream",
     "text": [
      "---------------2start-------------\n",
      "<class 'pandas.core.frame.DataFrame'>\n",
      "RangeIndex: 89195 entries, 0 to 89194\n",
      "Data columns (total 3 columns):\n",
      " #   Column        Non-Null Count  Dtype  \n",
      "---  ------        --------------  -----  \n",
      " 0   comment_text  89195 non-null  object \n",
      " 1   score         89195 non-null  float64\n",
      " 2   kfold         89195 non-null  int64  \n",
      "dtypes: float64(1), int64(1), object(1)\n",
      "memory usage: 2.0+ MB\n",
      "None\n",
      "<class 'pandas.core.frame.DataFrame'>\n",
      "RangeIndex: 89195 entries, 0 to 89194\n",
      "Data columns (total 4 columns):\n",
      " #   Column        Non-Null Count  Dtype  \n",
      "---  ------        --------------  -----  \n",
      " 0   comment_text  89195 non-null  object \n",
      " 1   score         89195 non-null  float64\n",
      " 2   kfold         89195 non-null  int64  \n",
      " 3   bins          89195 non-null  int64  \n",
      "dtypes: float64(1), int64(2), object(1)\n",
      "memory usage: 2.7+ MB\n",
      "None\n"
     ]
    },
    {
     "name": "stderr",
     "output_type": "stream",
     "text": [
      "[W pthreadpool-cpp.cc:90] Warning: Leaking Caffe2 thread-pool after fork. (function pthreadpool)\n",
      "[W pthreadpool-cpp.cc:90] Warning: Leaking Caffe2 thread-pool after fork. (function pthreadpool)\n",
      "[W pthreadpool-cpp.cc:90] Warning: Leaking Caffe2 thread-pool after fork. (function pthreadpool)\n",
      "[W pthreadpool-cpp.cc:90] Warning: Leaking Caffe2 thread-pool after fork. (function pthreadpool)\n"
     ]
    },
    {
     "name": "stdout",
     "output_type": "stream",
     "text": [
      "trainscore is 0.044168416\n"
     ]
    },
    {
     "name": "stderr",
     "output_type": "stream",
     "text": [
      "[W pthreadpool-cpp.cc:90] Warning: Leaking Caffe2 thread-pool after fork. (function pthreadpool)\n",
      "[W pthreadpool-cpp.cc:90] Warning: Leaking Caffe2 thread-pool after fork. (function pthreadpool)\n",
      "[W pthreadpool-cpp.cc:90] Warning: Leaking Caffe2 thread-pool after fork. (function pthreadpool)\n",
      "[W pthreadpool-cpp.cc:90] Warning: Leaking Caffe2 thread-pool after fork. (function pthreadpool)\n",
      "100%|███████████████████████████████████████████| 3/3 [54:02<00:00, 1080.96s/it]"
     ]
    },
    {
     "name": "stdout",
     "output_type": "stream",
     "text": [
      "valscore is 0.05332261\n",
      "<class 'pandas.core.frame.DataFrame'>\n",
      "RangeIndex: 89195 entries, 0 to 89194\n",
      "Data columns (total 3 columns):\n",
      " #   Column        Non-Null Count  Dtype  \n",
      "---  ------        --------------  -----  \n",
      " 0   comment_text  89195 non-null  object \n",
      " 1   score         89195 non-null  float64\n",
      " 2   kfold         89195 non-null  int64  \n",
      "dtypes: float64(1), int64(1), object(1)\n",
      "memory usage: 2.0+ MB\n",
      "None\n",
      "<class 'pandas.core.frame.DataFrame'>\n",
      "RangeIndex: 89195 entries, 0 to 89194\n",
      "Data columns (total 4 columns):\n",
      " #   Column        Non-Null Count  Dtype  \n",
      "---  ------        --------------  -----  \n",
      " 0   comment_text  89195 non-null  object \n",
      " 1   score         89195 non-null  float64\n",
      " 2   kfold         89195 non-null  int64  \n",
      " 3   bins          89195 non-null  int64  \n",
      "dtypes: float64(1), int64(2), object(1)\n",
      "memory usage: 2.7+ MB\n",
      "None\n"
     ]
    },
    {
     "name": "stderr",
     "output_type": "stream",
     "text": [
      "\n",
      "Some weights of the model checkpoint at neoyipeng/twitter-roberta-base-sentiment-mlm were not used when initializing RobertaForSequenceClassification: ['lm_head.dense.weight', 'lm_head.layer_norm.weight', 'lm_head.decoder.bias', 'lm_head.decoder.weight', 'lm_head.dense.bias', 'lm_head.layer_norm.bias', 'lm_head.bias']\n",
      "- This IS expected if you are initializing RobertaForSequenceClassification from the checkpoint of a model trained on another task or with another architecture (e.g. initializing a BertForSequenceClassification model from a BertForPreTraining model).\n",
      "- This IS NOT expected if you are initializing RobertaForSequenceClassification from the checkpoint of a model that you expect to be exactly identical (initializing a BertForSequenceClassification model from a BertForSequenceClassification model).\n",
      "Some weights of RobertaForSequenceClassification were not initialized from the model checkpoint at neoyipeng/twitter-roberta-base-sentiment-mlm and are newly initialized: ['classifier.out_proj.weight', 'classifier.dense.bias', 'classifier.out_proj.bias', 'classifier.dense.weight']\n",
      "You should probably TRAIN this model on a down-stream task to be able to use it for predictions and inference.\n",
      "  0%|                                                     | 0/3 [00:00<?, ?it/s]"
     ]
    },
    {
     "name": "stdout",
     "output_type": "stream",
     "text": [
      "---------------0start-------------\n",
      "<class 'pandas.core.frame.DataFrame'>\n",
      "RangeIndex: 89195 entries, 0 to 89194\n",
      "Data columns (total 3 columns):\n",
      " #   Column        Non-Null Count  Dtype  \n",
      "---  ------        --------------  -----  \n",
      " 0   comment_text  89195 non-null  object \n",
      " 1   score         89195 non-null  float64\n",
      " 2   kfold         89195 non-null  int64  \n",
      "dtypes: float64(1), int64(1), object(1)\n",
      "memory usage: 2.0+ MB\n",
      "None\n",
      "<class 'pandas.core.frame.DataFrame'>\n",
      "RangeIndex: 89195 entries, 0 to 89194\n",
      "Data columns (total 4 columns):\n",
      " #   Column        Non-Null Count  Dtype  \n",
      "---  ------        --------------  -----  \n",
      " 0   comment_text  89195 non-null  object \n",
      " 1   score         89195 non-null  float64\n",
      " 2   kfold         89195 non-null  int64  \n",
      " 3   bins          89195 non-null  int64  \n",
      "dtypes: float64(1), int64(2), object(1)\n",
      "memory usage: 2.7+ MB\n",
      "None\n"
     ]
    },
    {
     "name": "stderr",
     "output_type": "stream",
     "text": [
      "[W pthreadpool-cpp.cc:90] Warning: Leaking Caffe2 thread-pool after fork. (function pthreadpool)\n",
      "[W pthreadpool-cpp.cc:90] Warning: Leaking Caffe2 thread-pool after fork. (function pthreadpool)\n",
      "[W pthreadpool-cpp.cc:90] Warning: Leaking Caffe2 thread-pool after fork. (function pthreadpool)\n",
      "[W pthreadpool-cpp.cc:90] Warning: Leaking Caffe2 thread-pool after fork. (function pthreadpool)\n"
     ]
    },
    {
     "name": "stdout",
     "output_type": "stream",
     "text": [
      "trainscore is 0.077517815\n"
     ]
    },
    {
     "name": "stderr",
     "output_type": "stream",
     "text": [
      "[W pthreadpool-cpp.cc:90] Warning: Leaking Caffe2 thread-pool after fork. (function pthreadpool)\n",
      "[W pthreadpool-cpp.cc:90] Warning: Leaking Caffe2 thread-pool after fork. (function pthreadpool)\n",
      "[W pthreadpool-cpp.cc:90] Warning: Leaking Caffe2 thread-pool after fork. (function pthreadpool)\n",
      "[W pthreadpool-cpp.cc:90] Warning: Leaking Caffe2 thread-pool after fork. (function pthreadpool)\n"
     ]
    },
    {
     "name": "stdout",
     "output_type": "stream",
     "text": [
      "valscore is 0.05434844\n",
      "Save first model\n"
     ]
    },
    {
     "name": "stderr",
     "output_type": "stream",
     "text": [
      "\r",
      " 33%|██████████████▎                            | 1/3 [18:03<36:06, 1083.43s/it]"
     ]
    },
    {
     "name": "stdout",
     "output_type": "stream",
     "text": [
      "---------------1start-------------\n",
      "<class 'pandas.core.frame.DataFrame'>\n",
      "RangeIndex: 89195 entries, 0 to 89194\n",
      "Data columns (total 3 columns):\n",
      " #   Column        Non-Null Count  Dtype  \n",
      "---  ------        --------------  -----  \n",
      " 0   comment_text  89195 non-null  object \n",
      " 1   score         89195 non-null  float64\n",
      " 2   kfold         89195 non-null  int64  \n",
      "dtypes: float64(1), int64(1), object(1)\n",
      "memory usage: 2.0+ MB\n",
      "None\n",
      "<class 'pandas.core.frame.DataFrame'>\n",
      "RangeIndex: 89195 entries, 0 to 89194\n",
      "Data columns (total 4 columns):\n",
      " #   Column        Non-Null Count  Dtype  \n",
      "---  ------        --------------  -----  \n",
      " 0   comment_text  89195 non-null  object \n",
      " 1   score         89195 non-null  float64\n",
      " 2   kfold         89195 non-null  int64  \n",
      " 3   bins          89195 non-null  int64  \n",
      "dtypes: float64(1), int64(2), object(1)\n",
      "memory usage: 2.7+ MB\n",
      "None\n"
     ]
    },
    {
     "name": "stderr",
     "output_type": "stream",
     "text": [
      "[W pthreadpool-cpp.cc:90] Warning: Leaking Caffe2 thread-pool after fork. (function pthreadpool)\n",
      "[W pthreadpool-cpp.cc:90] Warning: Leaking Caffe2 thread-pool after fork. (function pthreadpool)\n",
      "[W pthreadpool-cpp.cc:90] Warning: Leaking Caffe2 thread-pool after fork. (function pthreadpool)\n",
      "[W pthreadpool-cpp.cc:90] Warning: Leaking Caffe2 thread-pool after fork. (function pthreadpool)\n"
     ]
    },
    {
     "name": "stdout",
     "output_type": "stream",
     "text": [
      "trainscore is 0.052879352\n"
     ]
    },
    {
     "name": "stderr",
     "output_type": "stream",
     "text": [
      "[W pthreadpool-cpp.cc:90] Warning: Leaking Caffe2 thread-pool after fork. (function pthreadpool)\n",
      "[W pthreadpool-cpp.cc:90] Warning: Leaking Caffe2 thread-pool after fork. (function pthreadpool)\n",
      "[W pthreadpool-cpp.cc:90] Warning: Leaking Caffe2 thread-pool after fork. (function pthreadpool)\n",
      "[W pthreadpool-cpp.cc:90] Warning: Leaking Caffe2 thread-pool after fork. (function pthreadpool)\n"
     ]
    },
    {
     "name": "stdout",
     "output_type": "stream",
     "text": [
      "valscore is 0.051218387\n",
      "found better point\n"
     ]
    },
    {
     "name": "stderr",
     "output_type": "stream",
     "text": [
      "\r",
      " 67%|████████████████████████████▋              | 2/3 [36:07<18:03, 1083.60s/it]"
     ]
    },
    {
     "name": "stdout",
     "output_type": "stream",
     "text": [
      "---------------2start-------------\n",
      "<class 'pandas.core.frame.DataFrame'>\n",
      "RangeIndex: 89195 entries, 0 to 89194\n",
      "Data columns (total 3 columns):\n",
      " #   Column        Non-Null Count  Dtype  \n",
      "---  ------        --------------  -----  \n",
      " 0   comment_text  89195 non-null  object \n",
      " 1   score         89195 non-null  float64\n",
      " 2   kfold         89195 non-null  int64  \n",
      "dtypes: float64(1), int64(1), object(1)\n",
      "memory usage: 2.0+ MB\n",
      "None\n",
      "<class 'pandas.core.frame.DataFrame'>\n",
      "RangeIndex: 89195 entries, 0 to 89194\n",
      "Data columns (total 4 columns):\n",
      " #   Column        Non-Null Count  Dtype  \n",
      "---  ------        --------------  -----  \n",
      " 0   comment_text  89195 non-null  object \n",
      " 1   score         89195 non-null  float64\n",
      " 2   kfold         89195 non-null  int64  \n",
      " 3   bins          89195 non-null  int64  \n",
      "dtypes: float64(1), int64(2), object(1)\n",
      "memory usage: 2.7+ MB\n",
      "None\n"
     ]
    },
    {
     "name": "stderr",
     "output_type": "stream",
     "text": [
      "[W pthreadpool-cpp.cc:90] Warning: Leaking Caffe2 thread-pool after fork. (function pthreadpool)\n",
      "[W pthreadpool-cpp.cc:90] Warning: Leaking Caffe2 thread-pool after fork. (function pthreadpool)\n",
      "[W pthreadpool-cpp.cc:90] Warning: Leaking Caffe2 thread-pool after fork. (function pthreadpool)\n",
      "[W pthreadpool-cpp.cc:90] Warning: Leaking Caffe2 thread-pool after fork. (function pthreadpool)\n"
     ]
    },
    {
     "name": "stdout",
     "output_type": "stream",
     "text": [
      "trainscore is 0.044845495\n"
     ]
    },
    {
     "name": "stderr",
     "output_type": "stream",
     "text": [
      "[W pthreadpool-cpp.cc:90] Warning: Leaking Caffe2 thread-pool after fork. (function pthreadpool)\n",
      "[W pthreadpool-cpp.cc:90] Warning: Leaking Caffe2 thread-pool after fork. (function pthreadpool)\n",
      "[W pthreadpool-cpp.cc:90] Warning: Leaking Caffe2 thread-pool after fork. (function pthreadpool)\n",
      "[W pthreadpool-cpp.cc:90] Warning: Leaking Caffe2 thread-pool after fork. (function pthreadpool)\n"
     ]
    },
    {
     "name": "stdout",
     "output_type": "stream",
     "text": [
      "valscore is 0.051131908\n",
      "found better point\n"
     ]
    },
    {
     "name": "stderr",
     "output_type": "stream",
     "text": [
      "100%|███████████████████████████████████████████| 3/3 [54:10<00:00, 1083.51s/it]\n"
     ]
    },
    {
     "name": "stdout",
     "output_type": "stream",
     "text": [
      "<class 'pandas.core.frame.DataFrame'>\n",
      "RangeIndex: 89195 entries, 0 to 89194\n",
      "Data columns (total 3 columns):\n",
      " #   Column        Non-Null Count  Dtype  \n",
      "---  ------        --------------  -----  \n",
      " 0   comment_text  89195 non-null  object \n",
      " 1   score         89195 non-null  float64\n",
      " 2   kfold         89195 non-null  int64  \n",
      "dtypes: float64(1), int64(1), object(1)\n",
      "memory usage: 2.0+ MB\n",
      "None\n",
      "<class 'pandas.core.frame.DataFrame'>\n",
      "RangeIndex: 89195 entries, 0 to 89194\n",
      "Data columns (total 4 columns):\n",
      " #   Column        Non-Null Count  Dtype  \n",
      "---  ------        --------------  -----  \n",
      " 0   comment_text  89195 non-null  object \n",
      " 1   score         89195 non-null  float64\n",
      " 2   kfold         89195 non-null  int64  \n",
      " 3   bins          89195 non-null  int64  \n",
      "dtypes: float64(1), int64(2), object(1)\n",
      "memory usage: 2.7+ MB\n",
      "None\n"
     ]
    },
    {
     "name": "stderr",
     "output_type": "stream",
     "text": [
      "Some weights of the model checkpoint at neoyipeng/twitter-roberta-base-sentiment-mlm were not used when initializing RobertaForSequenceClassification: ['lm_head.dense.weight', 'lm_head.layer_norm.weight', 'lm_head.decoder.bias', 'lm_head.decoder.weight', 'lm_head.dense.bias', 'lm_head.layer_norm.bias', 'lm_head.bias']\n",
      "- This IS expected if you are initializing RobertaForSequenceClassification from the checkpoint of a model trained on another task or with another architecture (e.g. initializing a BertForSequenceClassification model from a BertForPreTraining model).\n",
      "- This IS NOT expected if you are initializing RobertaForSequenceClassification from the checkpoint of a model that you expect to be exactly identical (initializing a BertForSequenceClassification model from a BertForSequenceClassification model).\n",
      "Some weights of RobertaForSequenceClassification were not initialized from the model checkpoint at neoyipeng/twitter-roberta-base-sentiment-mlm and are newly initialized: ['classifier.out_proj.weight', 'classifier.dense.bias', 'classifier.out_proj.bias', 'classifier.dense.weight']\n",
      "You should probably TRAIN this model on a down-stream task to be able to use it for predictions and inference.\n",
      "  0%|                                                     | 0/3 [00:00<?, ?it/s]"
     ]
    },
    {
     "name": "stdout",
     "output_type": "stream",
     "text": [
      "---------------0start-------------\n",
      "<class 'pandas.core.frame.DataFrame'>\n",
      "RangeIndex: 89195 entries, 0 to 89194\n",
      "Data columns (total 3 columns):\n",
      " #   Column        Non-Null Count  Dtype  \n",
      "---  ------        --------------  -----  \n",
      " 0   comment_text  89195 non-null  object \n",
      " 1   score         89195 non-null  float64\n",
      " 2   kfold         89195 non-null  int64  \n",
      "dtypes: float64(1), int64(1), object(1)\n",
      "memory usage: 2.0+ MB\n",
      "None\n",
      "<class 'pandas.core.frame.DataFrame'>\n",
      "RangeIndex: 89195 entries, 0 to 89194\n",
      "Data columns (total 4 columns):\n",
      " #   Column        Non-Null Count  Dtype  \n",
      "---  ------        --------------  -----  \n",
      " 0   comment_text  89195 non-null  object \n",
      " 1   score         89195 non-null  float64\n",
      " 2   kfold         89195 non-null  int64  \n",
      " 3   bins          89195 non-null  int64  \n",
      "dtypes: float64(1), int64(2), object(1)\n",
      "memory usage: 2.7+ MB\n",
      "None\n"
     ]
    },
    {
     "name": "stderr",
     "output_type": "stream",
     "text": [
      "[W pthreadpool-cpp.cc:90] Warning: Leaking Caffe2 thread-pool after fork. (function pthreadpool)\n",
      "[W pthreadpool-cpp.cc:90] Warning: Leaking Caffe2 thread-pool after fork. (function pthreadpool)\n",
      "[W pthreadpool-cpp.cc:90] Warning: Leaking Caffe2 thread-pool after fork. (function pthreadpool)\n",
      "[W pthreadpool-cpp.cc:90] Warning: Leaking Caffe2 thread-pool after fork. (function pthreadpool)\n"
     ]
    },
    {
     "name": "stdout",
     "output_type": "stream",
     "text": [
      "trainscore is 0.073707774\n"
     ]
    },
    {
     "name": "stderr",
     "output_type": "stream",
     "text": [
      "[W pthreadpool-cpp.cc:90] Warning: Leaking Caffe2 thread-pool after fork. (function pthreadpool)\n",
      "[W pthreadpool-cpp.cc:90] Warning: Leaking Caffe2 thread-pool after fork. (function pthreadpool)\n",
      "[W pthreadpool-cpp.cc:90] Warning: Leaking Caffe2 thread-pool after fork. (function pthreadpool)\n",
      "[W pthreadpool-cpp.cc:90] Warning: Leaking Caffe2 thread-pool after fork. (function pthreadpool)\n"
     ]
    },
    {
     "name": "stdout",
     "output_type": "stream",
     "text": [
      "valscore is 0.051193886\n",
      "Save first model\n"
     ]
    },
    {
     "name": "stderr",
     "output_type": "stream",
     "text": [
      "\r",
      " 33%|██████████████▎                            | 1/3 [18:03<36:06, 1083.33s/it]"
     ]
    },
    {
     "name": "stdout",
     "output_type": "stream",
     "text": [
      "---------------1start-------------\n",
      "<class 'pandas.core.frame.DataFrame'>\n",
      "RangeIndex: 89195 entries, 0 to 89194\n",
      "Data columns (total 3 columns):\n",
      " #   Column        Non-Null Count  Dtype  \n",
      "---  ------        --------------  -----  \n",
      " 0   comment_text  89195 non-null  object \n",
      " 1   score         89195 non-null  float64\n",
      " 2   kfold         89195 non-null  int64  \n",
      "dtypes: float64(1), int64(1), object(1)\n",
      "memory usage: 2.0+ MB\n",
      "None\n",
      "<class 'pandas.core.frame.DataFrame'>\n",
      "RangeIndex: 89195 entries, 0 to 89194\n",
      "Data columns (total 4 columns):\n",
      " #   Column        Non-Null Count  Dtype  \n",
      "---  ------        --------------  -----  \n",
      " 0   comment_text  89195 non-null  object \n",
      " 1   score         89195 non-null  float64\n",
      " 2   kfold         89195 non-null  int64  \n",
      " 3   bins          89195 non-null  int64  \n",
      "dtypes: float64(1), int64(2), object(1)\n",
      "memory usage: 2.7+ MB\n",
      "None\n"
     ]
    },
    {
     "name": "stderr",
     "output_type": "stream",
     "text": [
      "[W pthreadpool-cpp.cc:90] Warning: Leaking Caffe2 thread-pool after fork. (function pthreadpool)\n",
      "[W pthreadpool-cpp.cc:90] Warning: Leaking Caffe2 thread-pool after fork. (function pthreadpool)\n",
      "[W pthreadpool-cpp.cc:90] Warning: Leaking Caffe2 thread-pool after fork. (function pthreadpool)\n",
      "[W pthreadpool-cpp.cc:90] Warning: Leaking Caffe2 thread-pool after fork. (function pthreadpool)\n"
     ]
    },
    {
     "name": "stdout",
     "output_type": "stream",
     "text": [
      "trainscore is 0.054009866\n"
     ]
    },
    {
     "name": "stderr",
     "output_type": "stream",
     "text": [
      "[W pthreadpool-cpp.cc:90] Warning: Leaking Caffe2 thread-pool after fork. (function pthreadpool)\n",
      "[W pthreadpool-cpp.cc:90] Warning: Leaking Caffe2 thread-pool after fork. (function pthreadpool)\n",
      "[W pthreadpool-cpp.cc:90] Warning: Leaking Caffe2 thread-pool after fork. (function pthreadpool)\n",
      "[W pthreadpool-cpp.cc:90] Warning: Leaking Caffe2 thread-pool after fork. (function pthreadpool)\n",
      " 67%|████████████████████████████▋              | 2/3 [35:56<17:57, 1077.12s/it]"
     ]
    },
    {
     "name": "stdout",
     "output_type": "stream",
     "text": [
      "valscore is 0.05750322\n",
      "---------------2start-------------\n",
      "<class 'pandas.core.frame.DataFrame'>\n",
      "RangeIndex: 89195 entries, 0 to 89194\n",
      "Data columns (total 3 columns):\n",
      " #   Column        Non-Null Count  Dtype  \n",
      "---  ------        --------------  -----  \n",
      " 0   comment_text  89195 non-null  object \n",
      " 1   score         89195 non-null  float64\n",
      " 2   kfold         89195 non-null  int64  \n",
      "dtypes: float64(1), int64(1), object(1)\n",
      "memory usage: 2.0+ MB\n",
      "None\n",
      "<class 'pandas.core.frame.DataFrame'>\n",
      "RangeIndex: 89195 entries, 0 to 89194\n",
      "Data columns (total 4 columns):\n",
      " #   Column        Non-Null Count  Dtype  \n",
      "---  ------        --------------  -----  \n",
      " 0   comment_text  89195 non-null  object \n",
      " 1   score         89195 non-null  float64\n",
      " 2   kfold         89195 non-null  int64  \n",
      " 3   bins          89195 non-null  int64  \n",
      "dtypes: float64(1), int64(2), object(1)\n",
      "memory usage: 2.7+ MB\n",
      "None\n"
     ]
    },
    {
     "name": "stderr",
     "output_type": "stream",
     "text": [
      "[W pthreadpool-cpp.cc:90] Warning: Leaking Caffe2 thread-pool after fork. (function pthreadpool)\n",
      "[W pthreadpool-cpp.cc:90] Warning: Leaking Caffe2 thread-pool after fork. (function pthreadpool)\n",
      "[W pthreadpool-cpp.cc:90] Warning: Leaking Caffe2 thread-pool after fork. (function pthreadpool)\n",
      "[W pthreadpool-cpp.cc:90] Warning: Leaking Caffe2 thread-pool after fork. (function pthreadpool)\n"
     ]
    },
    {
     "name": "stdout",
     "output_type": "stream",
     "text": [
      "trainscore is 0.04547159\n"
     ]
    },
    {
     "name": "stderr",
     "output_type": "stream",
     "text": [
      "[W pthreadpool-cpp.cc:90] Warning: Leaking Caffe2 thread-pool after fork. (function pthreadpool)\n",
      "[W pthreadpool-cpp.cc:90] Warning: Leaking Caffe2 thread-pool after fork. (function pthreadpool)\n",
      "[W pthreadpool-cpp.cc:90] Warning: Leaking Caffe2 thread-pool after fork. (function pthreadpool)\n",
      "[W pthreadpool-cpp.cc:90] Warning: Leaking Caffe2 thread-pool after fork. (function pthreadpool)\n",
      "100%|███████████████████████████████████████████| 3/3 [53:49<00:00, 1076.40s/it]"
     ]
    },
    {
     "name": "stdout",
     "output_type": "stream",
     "text": [
      "valscore is 0.05172068\n"
     ]
    },
    {
     "name": "stderr",
     "output_type": "stream",
     "text": [
      "\n"
     ]
    },
    {
     "name": "stdout",
     "output_type": "stream",
     "text": [
      "<class 'pandas.core.frame.DataFrame'>\n",
      "RangeIndex: 89195 entries, 0 to 89194\n",
      "Data columns (total 3 columns):\n",
      " #   Column        Non-Null Count  Dtype  \n",
      "---  ------        --------------  -----  \n",
      " 0   comment_text  89195 non-null  object \n",
      " 1   score         89195 non-null  float64\n",
      " 2   kfold         89195 non-null  int64  \n",
      "dtypes: float64(1), int64(1), object(1)\n",
      "memory usage: 2.0+ MB\n",
      "None\n",
      "<class 'pandas.core.frame.DataFrame'>\n",
      "RangeIndex: 89195 entries, 0 to 89194\n",
      "Data columns (total 4 columns):\n",
      " #   Column        Non-Null Count  Dtype  \n",
      "---  ------        --------------  -----  \n",
      " 0   comment_text  89195 non-null  object \n",
      " 1   score         89195 non-null  float64\n",
      " 2   kfold         89195 non-null  int64  \n",
      " 3   bins          89195 non-null  int64  \n",
      "dtypes: float64(1), int64(2), object(1)\n",
      "memory usage: 2.7+ MB\n",
      "None\n"
     ]
    },
    {
     "name": "stderr",
     "output_type": "stream",
     "text": [
      "Some weights of the model checkpoint at neoyipeng/twitter-roberta-base-sentiment-mlm were not used when initializing RobertaForSequenceClassification: ['lm_head.dense.weight', 'lm_head.layer_norm.weight', 'lm_head.decoder.bias', 'lm_head.decoder.weight', 'lm_head.dense.bias', 'lm_head.layer_norm.bias', 'lm_head.bias']\n",
      "- This IS expected if you are initializing RobertaForSequenceClassification from the checkpoint of a model trained on another task or with another architecture (e.g. initializing a BertForSequenceClassification model from a BertForPreTraining model).\n",
      "- This IS NOT expected if you are initializing RobertaForSequenceClassification from the checkpoint of a model that you expect to be exactly identical (initializing a BertForSequenceClassification model from a BertForSequenceClassification model).\n",
      "Some weights of RobertaForSequenceClassification were not initialized from the model checkpoint at neoyipeng/twitter-roberta-base-sentiment-mlm and are newly initialized: ['classifier.out_proj.weight', 'classifier.dense.bias', 'classifier.out_proj.bias', 'classifier.dense.weight']\n",
      "You should probably TRAIN this model on a down-stream task to be able to use it for predictions and inference.\n"
     ]
    },
    {
     "name": "stdout",
     "output_type": "stream",
     "text": [
      "['/home/thomas/Schreibtisch/Data Science/Preprocessing lib test/model4.pth', '/home/thomas/Schreibtisch/Data Science/Preprocessing lib test/model0.pth', '/home/thomas/Schreibtisch/Data Science/Preprocessing lib test/model3.pth', '/home/thomas/Schreibtisch/Data Science/Preprocessing lib test/model2.pth', '/home/thomas/Schreibtisch/Data Science/Preprocessing lib test/model1.pth']\n"
     ]
    },
    {
     "name": "stderr",
     "output_type": "stream",
     "text": [
      "[W pthreadpool-cpp.cc:90] Warning: Leaking Caffe2 thread-pool after fork. (function pthreadpool)\n",
      "[W pthreadpool-cpp.cc:90] Warning: Leaking Caffe2 thread-pool after fork. (function pthreadpool)\n",
      "[W pthreadpool-cpp.cc:90] Warning: Leaking Caffe2 thread-pool after fork. (function pthreadpool)\n",
      "[W pthreadpool-cpp.cc:90] Warning: Leaking Caffe2 thread-pool after fork. (function pthreadpool)\n",
      "[W pthreadpool-cpp.cc:90] Warning: Leaking Caffe2 thread-pool after fork. (function pthreadpool)\n",
      "[W pthreadpool-cpp.cc:90] Warning: Leaking Caffe2 thread-pool after fork. (function pthreadpool)\n",
      "[W pthreadpool-cpp.cc:90] Warning: Leaking Caffe2 thread-pool after fork. (function pthreadpool)\n",
      "[W pthreadpool-cpp.cc:90] Warning: Leaking Caffe2 thread-pool after fork. (function pthreadpool)\n",
      "[W pthreadpool-cpp.cc:90] Warning: Leaking Caffe2 thread-pool after fork. (function pthreadpool)\n",
      "[W pthreadpool-cpp.cc:90] Warning: Leaking Caffe2 thread-pool after fork. (function pthreadpool)\n",
      "[W pthreadpool-cpp.cc:90] Warning: Leaking Caffe2 thread-pool after fork. (function pthreadpool)\n",
      "[W pthreadpool-cpp.cc:90] Warning: Leaking Caffe2 thread-pool after fork. (function pthreadpool)\n",
      "[W pthreadpool-cpp.cc:90] Warning: Leaking Caffe2 thread-pool after fork. (function pthreadpool)\n",
      "[W pthreadpool-cpp.cc:90] Warning: Leaking Caffe2 thread-pool after fork. (function pthreadpool)\n",
      "[W pthreadpool-cpp.cc:90] Warning: Leaking Caffe2 thread-pool after fork. (function pthreadpool)\n",
      "[W pthreadpool-cpp.cc:90] Warning: Leaking Caffe2 thread-pool after fork. (function pthreadpool)\n",
      "[W pthreadpool-cpp.cc:90] Warning: Leaking Caffe2 thread-pool after fork. (function pthreadpool)\n",
      "[W pthreadpool-cpp.cc:90] Warning: Leaking Caffe2 thread-pool after fork. (function pthreadpool)\n",
      "[W pthreadpool-cpp.cc:90] Warning: Leaking Caffe2 thread-pool after fork. (function pthreadpool)\n",
      "[W pthreadpool-cpp.cc:90] Warning: Leaking Caffe2 thread-pool after fork. (function pthreadpool)\n",
      "[W pthreadpool-cpp.cc:90] Warning: Leaking Caffe2 thread-pool after fork. (function pthreadpool)\n"
     ]
    },
    {
     "name": "stdout",
     "output_type": "stream",
     "text": [
      "The R2 score is 0.8853722694530894\n",
      "The MAE score is 0.01853425811463225\n",
      "The Median absolute error score is 0.005521809682250023\n",
      "The MSE score is 0.040096064895874625\n",
      "The RMSE score is 0.0016076944201341894\n"
     ]
    }
   ],
   "source": [
    "toxic_ml.ml_bp16_regressions_full_processing_bert_transformer()"
   ]
  },
  {
   "cell_type": "code",
   "execution_count": 25,
   "id": "74104e45",
   "metadata": {},
   "outputs": [],
   "source": [
    "from e2eml.full_processing.postprocessing import save_to_production, load_for_production\n",
    "import gc\n",
    "# Save pipeline\n",
    "save_to_production(toxic_ml, file_name='toxic_ml_bert_instance')"
   ]
  }
 ],
 "metadata": {
  "kernelspec": {
   "display_name": "Python 3 (ipykernel)",
   "language": "python",
   "name": "python3"
  },
  "language_info": {
   "codemirror_mode": {
    "name": "ipython",
    "version": 3
   },
   "file_extension": ".py",
   "mimetype": "text/x-python",
   "name": "python",
   "nbconvert_exporter": "python",
   "pygments_lexer": "ipython3",
   "version": "3.8.12"
  }
 },
 "nbformat": 4,
 "nbformat_minor": 5
}
